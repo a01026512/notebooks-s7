{
  "cells": [
    {
      "cell_type": "code",
      "execution_count": null,
      "metadata": {},
      "outputs": [],
      "source": [
        "# Diego Esteban Zepeda Ceballos\n",
        "# A01026512"
      ]
    },
    {
      "cell_type": "markdown",
      "metadata": {
        "id": "7SPINaGE84f_"
      },
      "source": [
        "## Predicción del consumo de gasolina usando TensorFlow"
      ]
    },
    {
      "cell_type": "markdown",
      "metadata": {
        "id": "2cDJ4iAg9CMH"
      },
      "source": [
        "### Importar librerías"
      ]
    },
    {
      "cell_type": "code",
      "execution_count": 1,
      "metadata": {
        "id": "ilmaLpwXnuzg"
      },
      "outputs": [],
      "source": [
        "import numpy as np\n",
        "import pandas as pd\n",
        "import tensorflow as tf\n",
        "from sklearn.model_selection import train_test_split\n",
        "from sklearn.preprocessing import StandardScaler\n",
        "from tensorflow.keras.utils import plot_model\n",
        "from tensorflow.keras.layers import Dense\n",
        "from tensorflow.keras import Sequential\n",
        "from sklearn.metrics import mean_squared_error\n",
        "from math import sqrt\n",
        "from tensorflow.keras.callbacks import EarlyStopping\n",
        "import matplotlib.pyplot as plt"
      ]
    },
    {
      "cell_type": "markdown",
      "metadata": {
        "id": "_AQmPp0k9HLM"
      },
      "source": [
        "### Descargar el conjunto de datos"
      ]
    },
    {
      "cell_type": "code",
      "execution_count": 2,
      "metadata": {
        "id": "MBUp66R4qp02"
      },
      "outputs": [],
      "source": [
        "data = pd.read_csv('petrol_consumption.csv')"
      ]
    },
    {
      "cell_type": "markdown",
      "metadata": {
        "id": "R32-D3b39XO7"
      },
      "source": [
        "### Exploración de los datos"
      ]
    },
    {
      "cell_type": "code",
      "execution_count": 3,
      "metadata": {
        "colab": {
          "base_uri": "https://localhost:8080/",
          "height": 206
        },
        "id": "otH622G8H3WU",
        "outputId": "182fefe0-0663-4553-c3de-0482798b3be0"
      },
      "outputs": [
        {
          "data": {
            "application/vnd.google.colaboratory.intrinsic+json": {
              "summary": "{\n  \"name\": \"data\",\n  \"rows\": 48,\n  \"fields\": [\n    {\n      \"column\": \"Petrol_tax\",\n      \"properties\": {\n        \"dtype\": \"number\",\n        \"std\": 0.9507697516051801,\n        \"min\": 5.0,\n        \"max\": 10.0,\n        \"num_unique_values\": 9,\n        \"samples\": [\n          5.0,\n          7.5,\n          8.5\n        ],\n        \"semantic_type\": \"\",\n        \"description\": \"\"\n      }\n    },\n    {\n      \"column\": \"Average_income\",\n      \"properties\": {\n        \"dtype\": \"number\",\n        \"std\": 573,\n        \"min\": 3063,\n        \"max\": 5342,\n        \"num_unique_values\": 47,\n        \"samples\": [\n          4188,\n          4449,\n          3846\n        ],\n        \"semantic_type\": \"\",\n        \"description\": \"\"\n      }\n    },\n    {\n      \"column\": \"Paved_Highways\",\n      \"properties\": {\n        \"dtype\": \"number\",\n        \"std\": 3491,\n        \"min\": 431,\n        \"max\": 17782,\n        \"num_unique_values\": 47,\n        \"samples\": [\n          9061,\n          4639,\n          5399\n        ],\n        \"semantic_type\": \"\",\n        \"description\": \"\"\n      }\n    },\n    {\n      \"column\": \"Population_Driver_licence(%)\",\n      \"properties\": {\n        \"dtype\": \"number\",\n        \"std\": 0.05547026549972453,\n        \"min\": 0.451,\n        \"max\": 0.724,\n        \"num_unique_values\": 39,\n        \"samples\": [\n          0.672,\n          0.508,\n          0.544\n        ],\n        \"semantic_type\": \"\",\n        \"description\": \"\"\n      }\n    },\n    {\n      \"column\": \"Petrol_Consumption\",\n      \"properties\": {\n        \"dtype\": \"number\",\n        \"std\": 111,\n        \"min\": 344,\n        \"max\": 968,\n        \"num_unique_values\": 43,\n        \"samples\": [\n          699,\n          577,\n          631\n        ],\n        \"semantic_type\": \"\",\n        \"description\": \"\"\n      }\n    }\n  ]\n}",
              "type": "dataframe",
              "variable_name": "data"
            },
            "text/html": [
              "\n",
              "  <div id=\"df-518659bb-ca60-4622-859f-6ebdc27ceaae\" class=\"colab-df-container\">\n",
              "    <div>\n",
              "<style scoped>\n",
              "    .dataframe tbody tr th:only-of-type {\n",
              "        vertical-align: middle;\n",
              "    }\n",
              "\n",
              "    .dataframe tbody tr th {\n",
              "        vertical-align: top;\n",
              "    }\n",
              "\n",
              "    .dataframe thead th {\n",
              "        text-align: right;\n",
              "    }\n",
              "</style>\n",
              "<table border=\"1\" class=\"dataframe\">\n",
              "  <thead>\n",
              "    <tr style=\"text-align: right;\">\n",
              "      <th></th>\n",
              "      <th>Petrol_tax</th>\n",
              "      <th>Average_income</th>\n",
              "      <th>Paved_Highways</th>\n",
              "      <th>Population_Driver_licence(%)</th>\n",
              "      <th>Petrol_Consumption</th>\n",
              "    </tr>\n",
              "  </thead>\n",
              "  <tbody>\n",
              "    <tr>\n",
              "      <th>0</th>\n",
              "      <td>9.0</td>\n",
              "      <td>3571</td>\n",
              "      <td>1976</td>\n",
              "      <td>0.525</td>\n",
              "      <td>541</td>\n",
              "    </tr>\n",
              "    <tr>\n",
              "      <th>1</th>\n",
              "      <td>9.0</td>\n",
              "      <td>4092</td>\n",
              "      <td>1250</td>\n",
              "      <td>0.572</td>\n",
              "      <td>524</td>\n",
              "    </tr>\n",
              "    <tr>\n",
              "      <th>2</th>\n",
              "      <td>9.0</td>\n",
              "      <td>3865</td>\n",
              "      <td>1586</td>\n",
              "      <td>0.580</td>\n",
              "      <td>561</td>\n",
              "    </tr>\n",
              "    <tr>\n",
              "      <th>3</th>\n",
              "      <td>7.5</td>\n",
              "      <td>4870</td>\n",
              "      <td>2351</td>\n",
              "      <td>0.529</td>\n",
              "      <td>414</td>\n",
              "    </tr>\n",
              "    <tr>\n",
              "      <th>4</th>\n",
              "      <td>8.0</td>\n",
              "      <td>4399</td>\n",
              "      <td>431</td>\n",
              "      <td>0.544</td>\n",
              "      <td>410</td>\n",
              "    </tr>\n",
              "  </tbody>\n",
              "</table>\n",
              "</div>\n",
              "    <div class=\"colab-df-buttons\">\n",
              "\n",
              "  <div class=\"colab-df-container\">\n",
              "    <button class=\"colab-df-convert\" onclick=\"convertToInteractive('df-518659bb-ca60-4622-859f-6ebdc27ceaae')\"\n",
              "            title=\"Convert this dataframe to an interactive table.\"\n",
              "            style=\"display:none;\">\n",
              "\n",
              "  <svg xmlns=\"http://www.w3.org/2000/svg\" height=\"24px\" viewBox=\"0 -960 960 960\">\n",
              "    <path d=\"M120-120v-720h720v720H120Zm60-500h600v-160H180v160Zm220 220h160v-160H400v160Zm0 220h160v-160H400v160ZM180-400h160v-160H180v160Zm440 0h160v-160H620v160ZM180-180h160v-160H180v160Zm440 0h160v-160H620v160Z\"/>\n",
              "  </svg>\n",
              "    </button>\n",
              "\n",
              "  <style>\n",
              "    .colab-df-container {\n",
              "      display:flex;\n",
              "      gap: 12px;\n",
              "    }\n",
              "\n",
              "    .colab-df-convert {\n",
              "      background-color: #E8F0FE;\n",
              "      border: none;\n",
              "      border-radius: 50%;\n",
              "      cursor: pointer;\n",
              "      display: none;\n",
              "      fill: #1967D2;\n",
              "      height: 32px;\n",
              "      padding: 0 0 0 0;\n",
              "      width: 32px;\n",
              "    }\n",
              "\n",
              "    .colab-df-convert:hover {\n",
              "      background-color: #E2EBFA;\n",
              "      box-shadow: 0px 1px 2px rgba(60, 64, 67, 0.3), 0px 1px 3px 1px rgba(60, 64, 67, 0.15);\n",
              "      fill: #174EA6;\n",
              "    }\n",
              "\n",
              "    .colab-df-buttons div {\n",
              "      margin-bottom: 4px;\n",
              "    }\n",
              "\n",
              "    [theme=dark] .colab-df-convert {\n",
              "      background-color: #3B4455;\n",
              "      fill: #D2E3FC;\n",
              "    }\n",
              "\n",
              "    [theme=dark] .colab-df-convert:hover {\n",
              "      background-color: #434B5C;\n",
              "      box-shadow: 0px 1px 3px 1px rgba(0, 0, 0, 0.15);\n",
              "      filter: drop-shadow(0px 1px 2px rgba(0, 0, 0, 0.3));\n",
              "      fill: #FFFFFF;\n",
              "    }\n",
              "  </style>\n",
              "\n",
              "    <script>\n",
              "      const buttonEl =\n",
              "        document.querySelector('#df-518659bb-ca60-4622-859f-6ebdc27ceaae button.colab-df-convert');\n",
              "      buttonEl.style.display =\n",
              "        google.colab.kernel.accessAllowed ? 'block' : 'none';\n",
              "\n",
              "      async function convertToInteractive(key) {\n",
              "        const element = document.querySelector('#df-518659bb-ca60-4622-859f-6ebdc27ceaae');\n",
              "        const dataTable =\n",
              "          await google.colab.kernel.invokeFunction('convertToInteractive',\n",
              "                                                    [key], {});\n",
              "        if (!dataTable) return;\n",
              "\n",
              "        const docLinkHtml = 'Like what you see? Visit the ' +\n",
              "          '<a target=\"_blank\" href=https://colab.research.google.com/notebooks/data_table.ipynb>data table notebook</a>'\n",
              "          + ' to learn more about interactive tables.';\n",
              "        element.innerHTML = '';\n",
              "        dataTable['output_type'] = 'display_data';\n",
              "        await google.colab.output.renderOutput(dataTable, element);\n",
              "        const docLink = document.createElement('div');\n",
              "        docLink.innerHTML = docLinkHtml;\n",
              "        element.appendChild(docLink);\n",
              "      }\n",
              "    </script>\n",
              "  </div>\n",
              "\n",
              "\n",
              "<div id=\"df-a43de2f9-7df6-40fb-a099-f4a839c3a680\">\n",
              "  <button class=\"colab-df-quickchart\" onclick=\"quickchart('df-a43de2f9-7df6-40fb-a099-f4a839c3a680')\"\n",
              "            title=\"Suggest charts\"\n",
              "            style=\"display:none;\">\n",
              "\n",
              "<svg xmlns=\"http://www.w3.org/2000/svg\" height=\"24px\"viewBox=\"0 0 24 24\"\n",
              "     width=\"24px\">\n",
              "    <g>\n",
              "        <path d=\"M19 3H5c-1.1 0-2 .9-2 2v14c0 1.1.9 2 2 2h14c1.1 0 2-.9 2-2V5c0-1.1-.9-2-2-2zM9 17H7v-7h2v7zm4 0h-2V7h2v10zm4 0h-2v-4h2v4z\"/>\n",
              "    </g>\n",
              "</svg>\n",
              "  </button>\n",
              "\n",
              "<style>\n",
              "  .colab-df-quickchart {\n",
              "      --bg-color: #E8F0FE;\n",
              "      --fill-color: #1967D2;\n",
              "      --hover-bg-color: #E2EBFA;\n",
              "      --hover-fill-color: #174EA6;\n",
              "      --disabled-fill-color: #AAA;\n",
              "      --disabled-bg-color: #DDD;\n",
              "  }\n",
              "\n",
              "  [theme=dark] .colab-df-quickchart {\n",
              "      --bg-color: #3B4455;\n",
              "      --fill-color: #D2E3FC;\n",
              "      --hover-bg-color: #434B5C;\n",
              "      --hover-fill-color: #FFFFFF;\n",
              "      --disabled-bg-color: #3B4455;\n",
              "      --disabled-fill-color: #666;\n",
              "  }\n",
              "\n",
              "  .colab-df-quickchart {\n",
              "    background-color: var(--bg-color);\n",
              "    border: none;\n",
              "    border-radius: 50%;\n",
              "    cursor: pointer;\n",
              "    display: none;\n",
              "    fill: var(--fill-color);\n",
              "    height: 32px;\n",
              "    padding: 0;\n",
              "    width: 32px;\n",
              "  }\n",
              "\n",
              "  .colab-df-quickchart:hover {\n",
              "    background-color: var(--hover-bg-color);\n",
              "    box-shadow: 0 1px 2px rgba(60, 64, 67, 0.3), 0 1px 3px 1px rgba(60, 64, 67, 0.15);\n",
              "    fill: var(--button-hover-fill-color);\n",
              "  }\n",
              "\n",
              "  .colab-df-quickchart-complete:disabled,\n",
              "  .colab-df-quickchart-complete:disabled:hover {\n",
              "    background-color: var(--disabled-bg-color);\n",
              "    fill: var(--disabled-fill-color);\n",
              "    box-shadow: none;\n",
              "  }\n",
              "\n",
              "  .colab-df-spinner {\n",
              "    border: 2px solid var(--fill-color);\n",
              "    border-color: transparent;\n",
              "    border-bottom-color: var(--fill-color);\n",
              "    animation:\n",
              "      spin 1s steps(1) infinite;\n",
              "  }\n",
              "\n",
              "  @keyframes spin {\n",
              "    0% {\n",
              "      border-color: transparent;\n",
              "      border-bottom-color: var(--fill-color);\n",
              "      border-left-color: var(--fill-color);\n",
              "    }\n",
              "    20% {\n",
              "      border-color: transparent;\n",
              "      border-left-color: var(--fill-color);\n",
              "      border-top-color: var(--fill-color);\n",
              "    }\n",
              "    30% {\n",
              "      border-color: transparent;\n",
              "      border-left-color: var(--fill-color);\n",
              "      border-top-color: var(--fill-color);\n",
              "      border-right-color: var(--fill-color);\n",
              "    }\n",
              "    40% {\n",
              "      border-color: transparent;\n",
              "      border-right-color: var(--fill-color);\n",
              "      border-top-color: var(--fill-color);\n",
              "    }\n",
              "    60% {\n",
              "      border-color: transparent;\n",
              "      border-right-color: var(--fill-color);\n",
              "    }\n",
              "    80% {\n",
              "      border-color: transparent;\n",
              "      border-right-color: var(--fill-color);\n",
              "      border-bottom-color: var(--fill-color);\n",
              "    }\n",
              "    90% {\n",
              "      border-color: transparent;\n",
              "      border-bottom-color: var(--fill-color);\n",
              "    }\n",
              "  }\n",
              "</style>\n",
              "\n",
              "  <script>\n",
              "    async function quickchart(key) {\n",
              "      const quickchartButtonEl =\n",
              "        document.querySelector('#' + key + ' button');\n",
              "      quickchartButtonEl.disabled = true;  // To prevent multiple clicks.\n",
              "      quickchartButtonEl.classList.add('colab-df-spinner');\n",
              "      try {\n",
              "        const charts = await google.colab.kernel.invokeFunction(\n",
              "            'suggestCharts', [key], {});\n",
              "      } catch (error) {\n",
              "        console.error('Error during call to suggestCharts:', error);\n",
              "      }\n",
              "      quickchartButtonEl.classList.remove('colab-df-spinner');\n",
              "      quickchartButtonEl.classList.add('colab-df-quickchart-complete');\n",
              "    }\n",
              "    (() => {\n",
              "      let quickchartButtonEl =\n",
              "        document.querySelector('#df-a43de2f9-7df6-40fb-a099-f4a839c3a680 button');\n",
              "      quickchartButtonEl.style.display =\n",
              "        google.colab.kernel.accessAllowed ? 'block' : 'none';\n",
              "    })();\n",
              "  </script>\n",
              "</div>\n",
              "\n",
              "    </div>\n",
              "  </div>\n"
            ],
            "text/plain": [
              "   Petrol_tax  Average_income  Paved_Highways  Population_Driver_licence(%)  \\\n",
              "0         9.0            3571            1976                         0.525   \n",
              "1         9.0            4092            1250                         0.572   \n",
              "2         9.0            3865            1586                         0.580   \n",
              "3         7.5            4870            2351                         0.529   \n",
              "4         8.0            4399             431                         0.544   \n",
              "\n",
              "   Petrol_Consumption  \n",
              "0                 541  \n",
              "1                 524  \n",
              "2                 561  \n",
              "3                 414  \n",
              "4                 410  "
            ]
          },
          "execution_count": 3,
          "metadata": {},
          "output_type": "execute_result"
        }
      ],
      "source": [
        "data.head(5)"
      ]
    },
    {
      "cell_type": "code",
      "execution_count": 4,
      "metadata": {
        "colab": {
          "base_uri": "https://localhost:8080/",
          "height": 206
        },
        "id": "A7nXlcVmqp3z",
        "outputId": "b33c3b72-30d8-4a68-cc1e-abae09884a63"
      },
      "outputs": [
        {
          "data": {
            "application/vnd.google.colaboratory.intrinsic+json": {
              "summary": "{\n  \"name\": \"data\",\n  \"rows\": 48,\n  \"fields\": [\n    {\n      \"column\": \"Petrol_tax\",\n      \"properties\": {\n        \"dtype\": \"number\",\n        \"std\": 0.9507697516051801,\n        \"min\": 5.0,\n        \"max\": 10.0,\n        \"num_unique_values\": 9,\n        \"samples\": [\n          5.0,\n          7.5,\n          8.5\n        ],\n        \"semantic_type\": \"\",\n        \"description\": \"\"\n      }\n    },\n    {\n      \"column\": \"Average_income\",\n      \"properties\": {\n        \"dtype\": \"number\",\n        \"std\": 573,\n        \"min\": 3063,\n        \"max\": 5342,\n        \"num_unique_values\": 47,\n        \"samples\": [\n          4188,\n          4449,\n          3846\n        ],\n        \"semantic_type\": \"\",\n        \"description\": \"\"\n      }\n    },\n    {\n      \"column\": \"Paved_Highways\",\n      \"properties\": {\n        \"dtype\": \"number\",\n        \"std\": 3491,\n        \"min\": 431,\n        \"max\": 17782,\n        \"num_unique_values\": 47,\n        \"samples\": [\n          9061,\n          4639,\n          5399\n        ],\n        \"semantic_type\": \"\",\n        \"description\": \"\"\n      }\n    },\n    {\n      \"column\": \"Population_Driver_licence(%)\",\n      \"properties\": {\n        \"dtype\": \"number\",\n        \"std\": 0.05547026549972453,\n        \"min\": 0.451,\n        \"max\": 0.724,\n        \"num_unique_values\": 39,\n        \"samples\": [\n          0.672,\n          0.508,\n          0.544\n        ],\n        \"semantic_type\": \"\",\n        \"description\": \"\"\n      }\n    },\n    {\n      \"column\": \"Petrol_Consumption\",\n      \"properties\": {\n        \"dtype\": \"number\",\n        \"std\": 111,\n        \"min\": 344,\n        \"max\": 968,\n        \"num_unique_values\": 43,\n        \"samples\": [\n          699,\n          577,\n          631\n        ],\n        \"semantic_type\": \"\",\n        \"description\": \"\"\n      }\n    }\n  ]\n}",
              "type": "dataframe",
              "variable_name": "data"
            },
            "text/html": [
              "\n",
              "  <div id=\"df-054c4b14-e139-4dc9-af96-6aea760b1c68\" class=\"colab-df-container\">\n",
              "    <div>\n",
              "<style scoped>\n",
              "    .dataframe tbody tr th:only-of-type {\n",
              "        vertical-align: middle;\n",
              "    }\n",
              "\n",
              "    .dataframe tbody tr th {\n",
              "        vertical-align: top;\n",
              "    }\n",
              "\n",
              "    .dataframe thead th {\n",
              "        text-align: right;\n",
              "    }\n",
              "</style>\n",
              "<table border=\"1\" class=\"dataframe\">\n",
              "  <thead>\n",
              "    <tr style=\"text-align: right;\">\n",
              "      <th></th>\n",
              "      <th>Petrol_tax</th>\n",
              "      <th>Average_income</th>\n",
              "      <th>Paved_Highways</th>\n",
              "      <th>Population_Driver_licence(%)</th>\n",
              "      <th>Petrol_Consumption</th>\n",
              "    </tr>\n",
              "  </thead>\n",
              "  <tbody>\n",
              "    <tr>\n",
              "      <th>0</th>\n",
              "      <td>9.0</td>\n",
              "      <td>3571</td>\n",
              "      <td>1976</td>\n",
              "      <td>0.525</td>\n",
              "      <td>541</td>\n",
              "    </tr>\n",
              "    <tr>\n",
              "      <th>1</th>\n",
              "      <td>9.0</td>\n",
              "      <td>4092</td>\n",
              "      <td>1250</td>\n",
              "      <td>0.572</td>\n",
              "      <td>524</td>\n",
              "    </tr>\n",
              "    <tr>\n",
              "      <th>2</th>\n",
              "      <td>9.0</td>\n",
              "      <td>3865</td>\n",
              "      <td>1586</td>\n",
              "      <td>0.580</td>\n",
              "      <td>561</td>\n",
              "    </tr>\n",
              "    <tr>\n",
              "      <th>3</th>\n",
              "      <td>7.5</td>\n",
              "      <td>4870</td>\n",
              "      <td>2351</td>\n",
              "      <td>0.529</td>\n",
              "      <td>414</td>\n",
              "    </tr>\n",
              "    <tr>\n",
              "      <th>4</th>\n",
              "      <td>8.0</td>\n",
              "      <td>4399</td>\n",
              "      <td>431</td>\n",
              "      <td>0.544</td>\n",
              "      <td>410</td>\n",
              "    </tr>\n",
              "  </tbody>\n",
              "</table>\n",
              "</div>\n",
              "    <div class=\"colab-df-buttons\">\n",
              "\n",
              "  <div class=\"colab-df-container\">\n",
              "    <button class=\"colab-df-convert\" onclick=\"convertToInteractive('df-054c4b14-e139-4dc9-af96-6aea760b1c68')\"\n",
              "            title=\"Convert this dataframe to an interactive table.\"\n",
              "            style=\"display:none;\">\n",
              "\n",
              "  <svg xmlns=\"http://www.w3.org/2000/svg\" height=\"24px\" viewBox=\"0 -960 960 960\">\n",
              "    <path d=\"M120-120v-720h720v720H120Zm60-500h600v-160H180v160Zm220 220h160v-160H400v160Zm0 220h160v-160H400v160ZM180-400h160v-160H180v160Zm440 0h160v-160H620v160ZM180-180h160v-160H180v160Zm440 0h160v-160H620v160Z\"/>\n",
              "  </svg>\n",
              "    </button>\n",
              "\n",
              "  <style>\n",
              "    .colab-df-container {\n",
              "      display:flex;\n",
              "      gap: 12px;\n",
              "    }\n",
              "\n",
              "    .colab-df-convert {\n",
              "      background-color: #E8F0FE;\n",
              "      border: none;\n",
              "      border-radius: 50%;\n",
              "      cursor: pointer;\n",
              "      display: none;\n",
              "      fill: #1967D2;\n",
              "      height: 32px;\n",
              "      padding: 0 0 0 0;\n",
              "      width: 32px;\n",
              "    }\n",
              "\n",
              "    .colab-df-convert:hover {\n",
              "      background-color: #E2EBFA;\n",
              "      box-shadow: 0px 1px 2px rgba(60, 64, 67, 0.3), 0px 1px 3px 1px rgba(60, 64, 67, 0.15);\n",
              "      fill: #174EA6;\n",
              "    }\n",
              "\n",
              "    .colab-df-buttons div {\n",
              "      margin-bottom: 4px;\n",
              "    }\n",
              "\n",
              "    [theme=dark] .colab-df-convert {\n",
              "      background-color: #3B4455;\n",
              "      fill: #D2E3FC;\n",
              "    }\n",
              "\n",
              "    [theme=dark] .colab-df-convert:hover {\n",
              "      background-color: #434B5C;\n",
              "      box-shadow: 0px 1px 3px 1px rgba(0, 0, 0, 0.15);\n",
              "      filter: drop-shadow(0px 1px 2px rgba(0, 0, 0, 0.3));\n",
              "      fill: #FFFFFF;\n",
              "    }\n",
              "  </style>\n",
              "\n",
              "    <script>\n",
              "      const buttonEl =\n",
              "        document.querySelector('#df-054c4b14-e139-4dc9-af96-6aea760b1c68 button.colab-df-convert');\n",
              "      buttonEl.style.display =\n",
              "        google.colab.kernel.accessAllowed ? 'block' : 'none';\n",
              "\n",
              "      async function convertToInteractive(key) {\n",
              "        const element = document.querySelector('#df-054c4b14-e139-4dc9-af96-6aea760b1c68');\n",
              "        const dataTable =\n",
              "          await google.colab.kernel.invokeFunction('convertToInteractive',\n",
              "                                                    [key], {});\n",
              "        if (!dataTable) return;\n",
              "\n",
              "        const docLinkHtml = 'Like what you see? Visit the ' +\n",
              "          '<a target=\"_blank\" href=https://colab.research.google.com/notebooks/data_table.ipynb>data table notebook</a>'\n",
              "          + ' to learn more about interactive tables.';\n",
              "        element.innerHTML = '';\n",
              "        dataTable['output_type'] = 'display_data';\n",
              "        await google.colab.output.renderOutput(dataTable, element);\n",
              "        const docLink = document.createElement('div');\n",
              "        docLink.innerHTML = docLinkHtml;\n",
              "        element.appendChild(docLink);\n",
              "      }\n",
              "    </script>\n",
              "  </div>\n",
              "\n",
              "\n",
              "<div id=\"df-609f852d-46dc-46c7-93c2-b55141ac3e9d\">\n",
              "  <button class=\"colab-df-quickchart\" onclick=\"quickchart('df-609f852d-46dc-46c7-93c2-b55141ac3e9d')\"\n",
              "            title=\"Suggest charts\"\n",
              "            style=\"display:none;\">\n",
              "\n",
              "<svg xmlns=\"http://www.w3.org/2000/svg\" height=\"24px\"viewBox=\"0 0 24 24\"\n",
              "     width=\"24px\">\n",
              "    <g>\n",
              "        <path d=\"M19 3H5c-1.1 0-2 .9-2 2v14c0 1.1.9 2 2 2h14c1.1 0 2-.9 2-2V5c0-1.1-.9-2-2-2zM9 17H7v-7h2v7zm4 0h-2V7h2v10zm4 0h-2v-4h2v4z\"/>\n",
              "    </g>\n",
              "</svg>\n",
              "  </button>\n",
              "\n",
              "<style>\n",
              "  .colab-df-quickchart {\n",
              "      --bg-color: #E8F0FE;\n",
              "      --fill-color: #1967D2;\n",
              "      --hover-bg-color: #E2EBFA;\n",
              "      --hover-fill-color: #174EA6;\n",
              "      --disabled-fill-color: #AAA;\n",
              "      --disabled-bg-color: #DDD;\n",
              "  }\n",
              "\n",
              "  [theme=dark] .colab-df-quickchart {\n",
              "      --bg-color: #3B4455;\n",
              "      --fill-color: #D2E3FC;\n",
              "      --hover-bg-color: #434B5C;\n",
              "      --hover-fill-color: #FFFFFF;\n",
              "      --disabled-bg-color: #3B4455;\n",
              "      --disabled-fill-color: #666;\n",
              "  }\n",
              "\n",
              "  .colab-df-quickchart {\n",
              "    background-color: var(--bg-color);\n",
              "    border: none;\n",
              "    border-radius: 50%;\n",
              "    cursor: pointer;\n",
              "    display: none;\n",
              "    fill: var(--fill-color);\n",
              "    height: 32px;\n",
              "    padding: 0;\n",
              "    width: 32px;\n",
              "  }\n",
              "\n",
              "  .colab-df-quickchart:hover {\n",
              "    background-color: var(--hover-bg-color);\n",
              "    box-shadow: 0 1px 2px rgba(60, 64, 67, 0.3), 0 1px 3px 1px rgba(60, 64, 67, 0.15);\n",
              "    fill: var(--button-hover-fill-color);\n",
              "  }\n",
              "\n",
              "  .colab-df-quickchart-complete:disabled,\n",
              "  .colab-df-quickchart-complete:disabled:hover {\n",
              "    background-color: var(--disabled-bg-color);\n",
              "    fill: var(--disabled-fill-color);\n",
              "    box-shadow: none;\n",
              "  }\n",
              "\n",
              "  .colab-df-spinner {\n",
              "    border: 2px solid var(--fill-color);\n",
              "    border-color: transparent;\n",
              "    border-bottom-color: var(--fill-color);\n",
              "    animation:\n",
              "      spin 1s steps(1) infinite;\n",
              "  }\n",
              "\n",
              "  @keyframes spin {\n",
              "    0% {\n",
              "      border-color: transparent;\n",
              "      border-bottom-color: var(--fill-color);\n",
              "      border-left-color: var(--fill-color);\n",
              "    }\n",
              "    20% {\n",
              "      border-color: transparent;\n",
              "      border-left-color: var(--fill-color);\n",
              "      border-top-color: var(--fill-color);\n",
              "    }\n",
              "    30% {\n",
              "      border-color: transparent;\n",
              "      border-left-color: var(--fill-color);\n",
              "      border-top-color: var(--fill-color);\n",
              "      border-right-color: var(--fill-color);\n",
              "    }\n",
              "    40% {\n",
              "      border-color: transparent;\n",
              "      border-right-color: var(--fill-color);\n",
              "      border-top-color: var(--fill-color);\n",
              "    }\n",
              "    60% {\n",
              "      border-color: transparent;\n",
              "      border-right-color: var(--fill-color);\n",
              "    }\n",
              "    80% {\n",
              "      border-color: transparent;\n",
              "      border-right-color: var(--fill-color);\n",
              "      border-bottom-color: var(--fill-color);\n",
              "    }\n",
              "    90% {\n",
              "      border-color: transparent;\n",
              "      border-bottom-color: var(--fill-color);\n",
              "    }\n",
              "  }\n",
              "</style>\n",
              "\n",
              "  <script>\n",
              "    async function quickchart(key) {\n",
              "      const quickchartButtonEl =\n",
              "        document.querySelector('#' + key + ' button');\n",
              "      quickchartButtonEl.disabled = true;  // To prevent multiple clicks.\n",
              "      quickchartButtonEl.classList.add('colab-df-spinner');\n",
              "      try {\n",
              "        const charts = await google.colab.kernel.invokeFunction(\n",
              "            'suggestCharts', [key], {});\n",
              "      } catch (error) {\n",
              "        console.error('Error during call to suggestCharts:', error);\n",
              "      }\n",
              "      quickchartButtonEl.classList.remove('colab-df-spinner');\n",
              "      quickchartButtonEl.classList.add('colab-df-quickchart-complete');\n",
              "    }\n",
              "    (() => {\n",
              "      let quickchartButtonEl =\n",
              "        document.querySelector('#df-609f852d-46dc-46c7-93c2-b55141ac3e9d button');\n",
              "      quickchartButtonEl.style.display =\n",
              "        google.colab.kernel.accessAllowed ? 'block' : 'none';\n",
              "    })();\n",
              "  </script>\n",
              "</div>\n",
              "\n",
              "    </div>\n",
              "  </div>\n"
            ],
            "text/plain": [
              "   Petrol_tax  Average_income  Paved_Highways  Population_Driver_licence(%)  \\\n",
              "0         9.0            3571            1976                         0.525   \n",
              "1         9.0            4092            1250                         0.572   \n",
              "2         9.0            3865            1586                         0.580   \n",
              "3         7.5            4870            2351                         0.529   \n",
              "4         8.0            4399             431                         0.544   \n",
              "\n",
              "   Petrol_Consumption  \n",
              "0                 541  \n",
              "1                 524  \n",
              "2                 561  \n",
              "3                 414  \n",
              "4                 410  "
            ]
          },
          "execution_count": 4,
          "metadata": {},
          "output_type": "execute_result"
        }
      ],
      "source": [
        "# Obtenga el tamaño del dataset (número de ejemplos y número de características) con la función shape\n",
        "data.shape\n",
        "# Visualice el DataFrame con la función head(), tail() o sample()\n",
        "data.head()"
      ]
    },
    {
      "cell_type": "code",
      "execution_count": 5,
      "metadata": {
        "colab": {
          "base_uri": "https://localhost:8080/"
        },
        "id": "_ffWqX1K1g-g",
        "outputId": "b29d85f8-2e9a-4b9b-bd07-a34417e238f9"
      },
      "outputs": [
        {
          "data": {
            "text/plain": [
              "(48, 4)"
            ]
          },
          "execution_count": 5,
          "metadata": {},
          "output_type": "execute_result"
        }
      ],
      "source": [
        "# Características\n",
        "X = data.iloc[:, 0:4]\n",
        "X.shape"
      ]
    },
    {
      "cell_type": "code",
      "execution_count": 6,
      "metadata": {
        "colab": {
          "base_uri": "https://localhost:8080/"
        },
        "id": "PDAxVO3RlVOn",
        "outputId": "83d443b5-2200-49cc-a602-ba82104f212f"
      },
      "outputs": [
        {
          "data": {
            "text/plain": [
              "(48,)"
            ]
          },
          "execution_count": 6,
          "metadata": {},
          "output_type": "execute_result"
        }
      ],
      "source": [
        "# Objetivo\n",
        "y = data.Petrol_Consumption\n",
        "y.shape"
      ]
    },
    {
      "cell_type": "code",
      "execution_count": 7,
      "metadata": {
        "id": "Xmvm5vKNqp6p"
      },
      "outputs": [],
      "source": [
        "# Separe el conjunto de datos en entrenamiento y prueba  (relación: 80-20)\n",
        "X_train, X_test, y_train, y_test = train_test_split(X, y, test_size=0.2, random_state=0)"
      ]
    },
    {
      "cell_type": "code",
      "execution_count": 8,
      "metadata": {
        "colab": {
          "base_uri": "https://localhost:8080/"
        },
        "id": "LKC79XAG1_xJ",
        "outputId": "3efb6742-14ca-463f-8987-781ad0636bb8"
      },
      "outputs": [
        {
          "name": "stdout",
          "output_type": "stream",
          "text": [
            "Tamaño del conjunto de datos de entrenamiento:  (38, 4)\n",
            "Tamaño del conjunto de datos de prueba:  (10, 4)\n"
          ]
        }
      ],
      "source": [
        "print('Tamaño del conjunto de datos de entrenamiento: ', X_train.shape)\n",
        "print('Tamaño del conjunto de datos de prueba: ', X_test.shape)"
      ]
    },
    {
      "cell_type": "markdown",
      "metadata": {
        "id": "I3rJ-htD9dF3"
      },
      "source": [
        "### Preprocesamiento de los datos"
      ]
    },
    {
      "cell_type": "code",
      "execution_count": 9,
      "metadata": {
        "id": "sWypw8kI2dab"
      },
      "outputs": [],
      "source": [
        "sc = StandardScaler()\n",
        "X_train = sc.fit_transform(X_train)\n",
        "X_test = sc.transform(X_test)"
      ]
    },
    {
      "cell_type": "markdown",
      "metadata": {
        "id": "dAtUj_Fb9sGY"
      },
      "source": [
        "### Definición del modelo"
      ]
    },
    {
      "cell_type": "code",
      "execution_count": 10,
      "metadata": {
        "colab": {
          "base_uri": "https://localhost:8080/"
        },
        "id": "hgQWt-QJ1_36",
        "outputId": "bf6b041d-1c41-49c4-9856-ddc705686807"
      },
      "outputs": [
        {
          "name": "stderr",
          "output_type": "stream",
          "text": [
            "/usr/local/lib/python3.10/dist-packages/keras/src/layers/core/dense.py:87: UserWarning: Do not pass an `input_shape`/`input_dim` argument to a layer. When using Sequential models, prefer using an `Input(shape)` object as the first layer in the model instead.\n",
            "  super().__init__(activity_regularizer=activity_regularizer, **kwargs)\n"
          ]
        }
      ],
      "source": [
        "model = Sequential()\n",
        "model.add(Dense(10, activation='relu', input_shape=(4,)))\n",
        "model.add(Dense(1))\n",
        "model.compile(loss='mse' , optimizer='adam', metrics=[\"mean_squared_error\"])"
      ]
    },
    {
      "cell_type": "code",
      "execution_count": 11,
      "metadata": {
        "colab": {
          "base_uri": "https://localhost:8080/",
          "height": 199
        },
        "id": "MC3L175E38Rk",
        "outputId": "ee8ab57f-73d9-4af9-9567-05502e6dc242"
      },
      "outputs": [
        {
          "data": {
            "text/html": [
              "<pre style=\"white-space:pre;overflow-x:auto;line-height:normal;font-family:Menlo,'DejaVu Sans Mono',consolas,'Courier New',monospace\"><span style=\"font-weight: bold\">Model: \"sequential\"</span>\n",
              "</pre>\n"
            ],
            "text/plain": [
              "\u001b[1mModel: \"sequential\"\u001b[0m\n"
            ]
          },
          "metadata": {},
          "output_type": "display_data"
        },
        {
          "data": {
            "text/html": [
              "<pre style=\"white-space:pre;overflow-x:auto;line-height:normal;font-family:Menlo,'DejaVu Sans Mono',consolas,'Courier New',monospace\">┏━━━━━━━━━━━━━━━━━━━━━━━━━━━━━━━━━━━━━━┳━━━━━━━━━━━━━━━━━━━━━━━━━━━━━┳━━━━━━━━━━━━━━━━━┓\n",
              "┃<span style=\"font-weight: bold\"> Layer (type)                         </span>┃<span style=\"font-weight: bold\"> Output Shape                </span>┃<span style=\"font-weight: bold\">         Param # </span>┃\n",
              "┡━━━━━━━━━━━━━━━━━━━━━━━━━━━━━━━━━━━━━━╇━━━━━━━━━━━━━━━━━━━━━━━━━━━━━╇━━━━━━━━━━━━━━━━━┩\n",
              "│ dense (<span style=\"color: #0087ff; text-decoration-color: #0087ff\">Dense</span>)                        │ (<span style=\"color: #00d7ff; text-decoration-color: #00d7ff\">None</span>, <span style=\"color: #00af00; text-decoration-color: #00af00\">10</span>)                  │              <span style=\"color: #00af00; text-decoration-color: #00af00\">50</span> │\n",
              "├──────────────────────────────────────┼─────────────────────────────┼─────────────────┤\n",
              "│ dense_1 (<span style=\"color: #0087ff; text-decoration-color: #0087ff\">Dense</span>)                      │ (<span style=\"color: #00d7ff; text-decoration-color: #00d7ff\">None</span>, <span style=\"color: #00af00; text-decoration-color: #00af00\">1</span>)                   │              <span style=\"color: #00af00; text-decoration-color: #00af00\">11</span> │\n",
              "└──────────────────────────────────────┴─────────────────────────────┴─────────────────┘\n",
              "</pre>\n"
            ],
            "text/plain": [
              "┏━━━━━━━━━━━━━━━━━━━━━━━━━━━━━━━━━━━━━━┳━━━━━━━━━━━━━━━━━━━━━━━━━━━━━┳━━━━━━━━━━━━━━━━━┓\n",
              "┃\u001b[1m \u001b[0m\u001b[1mLayer (type)                        \u001b[0m\u001b[1m \u001b[0m┃\u001b[1m \u001b[0m\u001b[1mOutput Shape               \u001b[0m\u001b[1m \u001b[0m┃\u001b[1m \u001b[0m\u001b[1m        Param #\u001b[0m\u001b[1m \u001b[0m┃\n",
              "┡━━━━━━━━━━━━━━━━━━━━━━━━━━━━━━━━━━━━━━╇━━━━━━━━━━━━━━━━━━━━━━━━━━━━━╇━━━━━━━━━━━━━━━━━┩\n",
              "│ dense (\u001b[38;5;33mDense\u001b[0m)                        │ (\u001b[38;5;45mNone\u001b[0m, \u001b[38;5;34m10\u001b[0m)                  │              \u001b[38;5;34m50\u001b[0m │\n",
              "├──────────────────────────────────────┼─────────────────────────────┼─────────────────┤\n",
              "│ dense_1 (\u001b[38;5;33mDense\u001b[0m)                      │ (\u001b[38;5;45mNone\u001b[0m, \u001b[38;5;34m1\u001b[0m)                   │              \u001b[38;5;34m11\u001b[0m │\n",
              "└──────────────────────────────────────┴─────────────────────────────┴─────────────────┘\n"
            ]
          },
          "metadata": {},
          "output_type": "display_data"
        },
        {
          "data": {
            "text/html": [
              "<pre style=\"white-space:pre;overflow-x:auto;line-height:normal;font-family:Menlo,'DejaVu Sans Mono',consolas,'Courier New',monospace\"><span style=\"font-weight: bold\"> Total params: </span><span style=\"color: #00af00; text-decoration-color: #00af00\">61</span> (244.00 B)\n",
              "</pre>\n"
            ],
            "text/plain": [
              "\u001b[1m Total params: \u001b[0m\u001b[38;5;34m61\u001b[0m (244.00 B)\n"
            ]
          },
          "metadata": {},
          "output_type": "display_data"
        },
        {
          "data": {
            "text/html": [
              "<pre style=\"white-space:pre;overflow-x:auto;line-height:normal;font-family:Menlo,'DejaVu Sans Mono',consolas,'Courier New',monospace\"><span style=\"font-weight: bold\"> Trainable params: </span><span style=\"color: #00af00; text-decoration-color: #00af00\">61</span> (244.00 B)\n",
              "</pre>\n"
            ],
            "text/plain": [
              "\u001b[1m Trainable params: \u001b[0m\u001b[38;5;34m61\u001b[0m (244.00 B)\n"
            ]
          },
          "metadata": {},
          "output_type": "display_data"
        },
        {
          "data": {
            "text/html": [
              "<pre style=\"white-space:pre;overflow-x:auto;line-height:normal;font-family:Menlo,'DejaVu Sans Mono',consolas,'Courier New',monospace\"><span style=\"font-weight: bold\"> Non-trainable params: </span><span style=\"color: #00af00; text-decoration-color: #00af00\">0</span> (0.00 B)\n",
              "</pre>\n"
            ],
            "text/plain": [
              "\u001b[1m Non-trainable params: \u001b[0m\u001b[38;5;34m0\u001b[0m (0.00 B)\n"
            ]
          },
          "metadata": {},
          "output_type": "display_data"
        }
      ],
      "source": [
        "model.summary()"
      ]
    },
    {
      "cell_type": "code",
      "execution_count": 12,
      "metadata": {
        "colab": {
          "base_uri": "https://localhost:8080/",
          "height": 606
        },
        "id": "36v_Tolj38Ui",
        "outputId": "b6180315-86f4-42b8-d41b-04eb734464d1"
      },
      "outputs": [
        {
          "data": {
            "image/png": "[encoded data removed]",
            "text/plain": [
              "<IPython.core.display.Image object>"
            ]
          },
          "execution_count": 12,
          "metadata": {},
          "output_type": "execute_result"
        }
      ],
      "source": [
        "plot_model(model, show_shapes=True)"
      ]
    },
    {
      "cell_type": "markdown",
      "metadata": {
        "id": "3_FWFw-M-siU"
      },
      "source": [
        "### Entrenamiento del modelo"
      ]
    },
    {
      "cell_type": "code",
      "execution_count": 13,
      "metadata": {
        "id": "VSgl2VO9me9G"
      },
      "outputs": [],
      "source": [
        "es = EarlyStopping(monitor='val_loss', patience=5,  mode='min',  verbose=1)"
      ]
    },
    {
      "cell_type": "code",
      "execution_count": 14,
      "metadata": {
        "colab": {
          "base_uri": "https://localhost:8080/"
        },
        "collapsed": true,
        "id": "LS9FU4Yv38XU",
        "outputId": "841bc62a-4e2b-46aa-ab67-9ba7c0f4ecdd"
      },
      "outputs": [
        {
          "name": "stdout",
          "output_type": "stream",
          "text": [
            "Epoch 1/50\n",
            "\u001b[1m2/2\u001b[0m \u001b[32m━━━━━━━━━━━━━━━━━━━━\u001b[0m\u001b[37m\u001b[0m \u001b[1m2s\u001b[0m 253ms/step - loss: 353777.1250 - mean_squared_error: 353777.1250 - val_loss: 307859.6250 - val_mean_squared_error: 307859.6250\n",
            "Epoch 2/50\n",
            "\u001b[1m2/2\u001b[0m \u001b[32m━━━━━━━━━━━━━━━━━━━━\u001b[0m\u001b[37m\u001b[0m \u001b[1m0s\u001b[0m 61ms/step - loss: 361481.2188 - mean_squared_error: 361481.2188 - val_loss: 307842.9062 - val_mean_squared_error: 307842.9062\n",
            "Epoch 3/50\n",
            "\u001b[1m2/2\u001b[0m \u001b[32m━━━━━━━━━━━━━━━━━━━━\u001b[0m\u001b[37m\u001b[0m \u001b[1m0s\u001b[0m 45ms/step - loss: 354935.4688 - mean_squared_error: 354935.4688 - val_loss: 307825.8438 - val_mean_squared_error: 307825.8438\n",
            "Epoch 4/50\n",
            "\u001b[1m2/2\u001b[0m \u001b[32m━━━━━━━━━━━━━━━━━━━━\u001b[0m\u001b[37m\u001b[0m \u001b[1m0s\u001b[0m 42ms/step - loss: 357063.6250 - mean_squared_error: 357063.6250 - val_loss: 307807.8125 - val_mean_squared_error: 307807.8125\n",
            "Epoch 5/50\n",
            "\u001b[1m2/2\u001b[0m \u001b[32m━━━━━━━━━━━━━━━━━━━━\u001b[0m\u001b[37m\u001b[0m \u001b[1m0s\u001b[0m 46ms/step - loss: 357184.0312 - mean_squared_error: 357184.0312 - val_loss: 307789.5938 - val_mean_squared_error: 307789.5938\n",
            "Epoch 6/50\n",
            "\u001b[1m2/2\u001b[0m \u001b[32m━━━━━━━━━━━━━━━━━━━━\u001b[0m\u001b[37m\u001b[0m \u001b[1m0s\u001b[0m 37ms/step - loss: 351247.3750 - mean_squared_error: 351247.3750 - val_loss: 307771.5312 - val_mean_squared_error: 307771.5312\n",
            "Epoch 7/50\n",
            "\u001b[1m2/2\u001b[0m \u001b[32m━━━━━━━━━━━━━━━━━━━━\u001b[0m\u001b[37m\u001b[0m \u001b[1m0s\u001b[0m 42ms/step - loss: 352851.0000 - mean_squared_error: 352851.0000 - val_loss: 307753.6875 - val_mean_squared_error: 307753.6875\n",
            "Epoch 8/50\n",
            "\u001b[1m2/2\u001b[0m \u001b[32m━━━━━━━━━━━━━━━━━━━━\u001b[0m\u001b[37m\u001b[0m \u001b[1m0s\u001b[0m 43ms/step - loss: 345950.1562 - mean_squared_error: 345950.1562 - val_loss: 307736.5312 - val_mean_squared_error: 307736.5312\n",
            "Epoch 9/50\n",
            "\u001b[1m2/2\u001b[0m \u001b[32m━━━━━━━━━━━━━━━━━━━━\u001b[0m\u001b[37m\u001b[0m \u001b[1m0s\u001b[0m 37ms/step - loss: 354839.0938 - mean_squared_error: 354839.0938 - val_loss: 307719.8750 - val_mean_squared_error: 307719.8750\n",
            "Epoch 10/50\n",
            "\u001b[1m2/2\u001b[0m \u001b[32m━━━━━━━━━━━━━━━━━━━━\u001b[0m\u001b[37m\u001b[0m \u001b[1m0s\u001b[0m 42ms/step - loss: 353114.9375 - mean_squared_error: 353114.9375 - val_loss: 307703.6875 - val_mean_squared_error: 307703.6875\n",
            "Epoch 11/50\n",
            "\u001b[1m2/2\u001b[0m \u001b[32m━━━━━━━━━━━━━━━━━━━━\u001b[0m\u001b[37m\u001b[0m \u001b[1m0s\u001b[0m 38ms/step - loss: 348205.1875 - mean_squared_error: 348205.1875 - val_loss: 307687.4375 - val_mean_squared_error: 307687.4375\n",
            "Epoch 12/50\n",
            "\u001b[1m2/2\u001b[0m \u001b[32m━━━━━━━━━━━━━━━━━━━━\u001b[0m\u001b[37m\u001b[0m \u001b[1m0s\u001b[0m 40ms/step - loss: 356788.2188 - mean_squared_error: 356788.2188 - val_loss: 307670.6250 - val_mean_squared_error: 307670.6250\n",
            "Epoch 13/50\n",
            "\u001b[1m2/2\u001b[0m \u001b[32m━━━━━━━━━━━━━━━━━━━━\u001b[0m\u001b[37m\u001b[0m \u001b[1m0s\u001b[0m 39ms/step - loss: 358020.2188 - mean_squared_error: 358020.2188 - val_loss: 307653.5000 - val_mean_squared_error: 307653.5000\n",
            "Epoch 14/50\n",
            "\u001b[1m2/2\u001b[0m \u001b[32m━━━━━━━━━━━━━━━━━━━━\u001b[0m\u001b[37m\u001b[0m \u001b[1m0s\u001b[0m 38ms/step - loss: 353042.3750 - mean_squared_error: 353042.3750 - val_loss: 307636.2188 - val_mean_squared_error: 307636.2188\n",
            "Epoch 15/50\n",
            "\u001b[1m2/2\u001b[0m \u001b[32m━━━━━━━━━━━━━━━━━━━━\u001b[0m\u001b[37m\u001b[0m \u001b[1m0s\u001b[0m 38ms/step - loss: 356791.0938 - mean_squared_error: 356791.0938 - val_loss: 307619.0000 - val_mean_squared_error: 307619.0000\n",
            "Epoch 16/50\n",
            "\u001b[1m2/2\u001b[0m \u001b[32m━━━━━━━━━━━━━━━━━━━━\u001b[0m\u001b[37m\u001b[0m \u001b[1m0s\u001b[0m 45ms/step - loss: 361593.8438 - mean_squared_error: 361593.8438 - val_loss: 307601.9062 - val_mean_squared_error: 307601.9062\n",
            "Epoch 17/50\n",
            "\u001b[1m2/2\u001b[0m \u001b[32m━━━━━━━━━━━━━━━━━━━━\u001b[0m\u001b[37m\u001b[0m \u001b[1m0s\u001b[0m 40ms/step - loss: 359213.3750 - mean_squared_error: 359213.3750 - val_loss: 307585.0000 - val_mean_squared_error: 307585.0000\n",
            "Epoch 18/50\n",
            "\u001b[1m2/2\u001b[0m \u001b[32m━━━━━━━━━━━━━━━━━━━━\u001b[0m\u001b[37m\u001b[0m \u001b[1m0s\u001b[0m 39ms/step - loss: 348244.6250 - mean_squared_error: 348244.6250 - val_loss: 307568.1875 - val_mean_squared_error: 307568.1875\n",
            "Epoch 19/50\n",
            "\u001b[1m2/2\u001b[0m \u001b[32m━━━━━━━━━━━━━━━━━━━━\u001b[0m\u001b[37m\u001b[0m \u001b[1m0s\u001b[0m 69ms/step - loss: 355630.8438 - mean_squared_error: 355630.8438 - val_loss: 307551.1875 - val_mean_squared_error: 307551.1875\n",
            "Epoch 20/50\n",
            "\u001b[1m2/2\u001b[0m \u001b[32m━━━━━━━━━━━━━━━━━━━━\u001b[0m\u001b[37m\u001b[0m \u001b[1m0s\u001b[0m 41ms/step - loss: 352562.7188 - mean_squared_error: 352562.7188 - val_loss: 307533.9688 - val_mean_squared_error: 307533.9688\n",
            "Epoch 21/50\n",
            "\u001b[1m2/2\u001b[0m \u001b[32m━━━━━━━━━━━━━━━━━━━━\u001b[0m\u001b[37m\u001b[0m \u001b[1m0s\u001b[0m 40ms/step - loss: 359430.4062 - mean_squared_error: 359430.4375 - val_loss: 307516.9375 - val_mean_squared_error: 307516.9375\n",
            "Epoch 22/50\n",
            "\u001b[1m2/2\u001b[0m \u001b[32m━━━━━━━━━━━━━━━━━━━━\u001b[0m\u001b[37m\u001b[0m \u001b[1m0s\u001b[0m 37ms/step - loss: 358658.6250 - mean_squared_error: 358658.6250 - val_loss: 307499.5938 - val_mean_squared_error: 307499.5938\n",
            "Epoch 23/50\n",
            "\u001b[1m2/2\u001b[0m \u001b[32m━━━━━━━━━━━━━━━━━━━━\u001b[0m\u001b[37m\u001b[0m \u001b[1m0s\u001b[0m 36ms/step - loss: 355320.8438 - mean_squared_error: 355320.8438 - val_loss: 307481.8438 - val_mean_squared_error: 307481.8438\n",
            "Epoch 24/50\n",
            "\u001b[1m2/2\u001b[0m \u001b[32m━━━━━━━━━━━━━━━━━━━━\u001b[0m\u001b[37m\u001b[0m \u001b[1m0s\u001b[0m 59ms/step - loss: 354628.1250 - mean_squared_error: 354628.1250 - val_loss: 307463.9375 - val_mean_squared_error: 307463.9375\n",
            "Epoch 25/50\n",
            "\u001b[1m2/2\u001b[0m \u001b[32m━━━━━━━━━━━━━━━━━━━━\u001b[0m\u001b[37m\u001b[0m \u001b[1m0s\u001b[0m 38ms/step - loss: 361062.5312 - mean_squared_error: 361062.5312 - val_loss: 307446.0625 - val_mean_squared_error: 307446.0625\n",
            "Epoch 26/50\n",
            "\u001b[1m2/2\u001b[0m \u001b[32m━━━━━━━━━━━━━━━━━━━━\u001b[0m\u001b[37m\u001b[0m \u001b[1m0s\u001b[0m 34ms/step - loss: 350605.8750 - mean_squared_error: 350605.8750 - val_loss: 307428.4688 - val_mean_squared_error: 307428.4688\n",
            "Epoch 27/50\n",
            "\u001b[1m2/2\u001b[0m \u001b[32m━━━━━━━━━━━━━━━━━━━━\u001b[0m\u001b[37m\u001b[0m \u001b[1m0s\u001b[0m 25ms/step - loss: 345208.8125 - mean_squared_error: 345208.8125 - val_loss: 307411.1250 - val_mean_squared_error: 307411.1250\n",
            "Epoch 28/50\n",
            "\u001b[1m2/2\u001b[0m \u001b[32m━━━━━━━━━━━━━━━━━━━━\u001b[0m\u001b[37m\u001b[0m \u001b[1m0s\u001b[0m 33ms/step - loss: 350553.0312 - mean_squared_error: 350553.0312 - val_loss: 307394.0625 - val_mean_squared_error: 307394.0625\n",
            "Epoch 29/50\n",
            "\u001b[1m2/2\u001b[0m \u001b[32m━━━━━━━━━━━━━━━━━━━━\u001b[0m\u001b[37m\u001b[0m \u001b[1m0s\u001b[0m 23ms/step - loss: 350777.8438 - mean_squared_error: 350777.8438 - val_loss: 307377.1875 - val_mean_squared_error: 307377.1875\n",
            "Epoch 30/50\n",
            "\u001b[1m2/2\u001b[0m \u001b[32m━━━━━━━━━━━━━━━━━━━━\u001b[0m\u001b[37m\u001b[0m \u001b[1m0s\u001b[0m 24ms/step - loss: 354721.7500 - mean_squared_error: 354721.7500 - val_loss: 307360.5312 - val_mean_squared_error: 307360.5312\n",
            "Epoch 31/50\n",
            "\u001b[1m2/2\u001b[0m \u001b[32m━━━━━━━━━━━━━━━━━━━━\u001b[0m\u001b[37m\u001b[0m \u001b[1m0s\u001b[0m 30ms/step - loss: 355153.5938 - mean_squared_error: 355153.5938 - val_loss: 307343.7188 - val_mean_squared_error: 307343.7188\n",
            "Epoch 32/50\n",
            "\u001b[1m2/2\u001b[0m \u001b[32m━━━━━━━━━━━━━━━━━━━━\u001b[0m\u001b[37m\u001b[0m \u001b[1m0s\u001b[0m 28ms/step - loss: 352403.9375 - mean_squared_error: 352403.9375 - val_loss: 307326.9375 - val_mean_squared_error: 307326.9375\n",
            "Epoch 33/50\n",
            "\u001b[1m2/2\u001b[0m \u001b[32m━━━━━━━━━━━━━━━━━━━━\u001b[0m\u001b[37m\u001b[0m \u001b[1m0s\u001b[0m 30ms/step - loss: 358449.3125 - mean_squared_error: 358449.3125 - val_loss: 307310.3750 - val_mean_squared_error: 307310.3750\n",
            "Epoch 34/50\n",
            "\u001b[1m2/2\u001b[0m \u001b[32m━━━━━━━━━━━━━━━━━━━━\u001b[0m\u001b[37m\u001b[0m \u001b[1m0s\u001b[0m 27ms/step - loss: 354798.9688 - mean_squared_error: 354798.9688 - val_loss: 307293.6875 - val_mean_squared_error: 307293.6875\n",
            "Epoch 35/50\n",
            "\u001b[1m2/2\u001b[0m \u001b[32m━━━━━━━━━━━━━━━━━━━━\u001b[0m\u001b[37m\u001b[0m \u001b[1m0s\u001b[0m 26ms/step - loss: 352737.6250 - mean_squared_error: 352737.6250 - val_loss: 307277.1875 - val_mean_squared_error: 307277.1875\n",
            "Epoch 36/50\n",
            "\u001b[1m2/2\u001b[0m \u001b[32m━━━━━━━━━━━━━━━━━━━━\u001b[0m\u001b[37m\u001b[0m \u001b[1m0s\u001b[0m 26ms/step - loss: 355790.2188 - mean_squared_error: 355790.2188 - val_loss: 307260.8750 - val_mean_squared_error: 307260.8750\n",
            "Epoch 37/50\n",
            "\u001b[1m2/2\u001b[0m \u001b[32m━━━━━━━━━━━━━━━━━━━━\u001b[0m\u001b[37m\u001b[0m \u001b[1m0s\u001b[0m 27ms/step - loss: 352482.8750 - mean_squared_error: 352482.8750 - val_loss: 307244.5938 - val_mean_squared_error: 307244.5938\n",
            "Epoch 38/50\n",
            "\u001b[1m2/2\u001b[0m \u001b[32m━━━━━━━━━━━━━━━━━━━━\u001b[0m\u001b[37m\u001b[0m \u001b[1m0s\u001b[0m 26ms/step - loss: 356912.6562 - mean_squared_error: 356912.6562 - val_loss: 307228.0000 - val_mean_squared_error: 307228.0000\n",
            "Epoch 39/50\n",
            "\u001b[1m2/2\u001b[0m \u001b[32m━━━━━━━━━━━━━━━━━━━━\u001b[0m\u001b[37m\u001b[0m \u001b[1m0s\u001b[0m 32ms/step - loss: 353072.0312 - mean_squared_error: 353072.0312 - val_loss: 307211.1562 - val_mean_squared_error: 307211.1562\n",
            "Epoch 40/50\n",
            "\u001b[1m2/2\u001b[0m \u001b[32m━━━━━━━━━━━━━━━━━━━━\u001b[0m\u001b[37m\u001b[0m \u001b[1m0s\u001b[0m 27ms/step - loss: 352460.1250 - mean_squared_error: 352460.1250 - val_loss: 307193.9062 - val_mean_squared_error: 307193.9062\n",
            "Epoch 41/50\n",
            "\u001b[1m2/2\u001b[0m \u001b[32m━━━━━━━━━━━━━━━━━━━━\u001b[0m\u001b[37m\u001b[0m \u001b[1m0s\u001b[0m 25ms/step - loss: 355141.8750 - mean_squared_error: 355141.8750 - val_loss: 307176.4062 - val_mean_squared_error: 307176.4062\n",
            "Epoch 42/50\n",
            "\u001b[1m2/2\u001b[0m \u001b[32m━━━━━━━━━━━━━━━━━━━━\u001b[0m\u001b[37m\u001b[0m \u001b[1m0s\u001b[0m 25ms/step - loss: 354477.7812 - mean_squared_error: 354477.7812 - val_loss: 307159.0625 - val_mean_squared_error: 307159.0625\n",
            "Epoch 43/50\n",
            "\u001b[1m2/2\u001b[0m \u001b[32m━━━━━━━━━━━━━━━━━━━━\u001b[0m\u001b[37m\u001b[0m \u001b[1m0s\u001b[0m 33ms/step - loss: 358676.5938 - mean_squared_error: 358676.5938 - val_loss: 307142.2188 - val_mean_squared_error: 307142.2188\n",
            "Epoch 44/50\n",
            "\u001b[1m2/2\u001b[0m \u001b[32m━━━━━━━━━━━━━━━━━━━━\u001b[0m\u001b[37m\u001b[0m \u001b[1m0s\u001b[0m 45ms/step - loss: 359903.0000 - mean_squared_error: 359903.0000 - val_loss: 307125.5625 - val_mean_squared_error: 307125.5625\n",
            "Epoch 45/50\n",
            "\u001b[1m2/2\u001b[0m \u001b[32m━━━━━━━━━━━━━━━━━━━━\u001b[0m\u001b[37m\u001b[0m \u001b[1m0s\u001b[0m 34ms/step - loss: 357994.5938 - mean_squared_error: 357994.5938 - val_loss: 307108.6875 - val_mean_squared_error: 307108.6875\n",
            "Epoch 46/50\n",
            "\u001b[1m2/2\u001b[0m \u001b[32m━━━━━━━━━━━━━━━━━━━━\u001b[0m\u001b[37m\u001b[0m \u001b[1m0s\u001b[0m 43ms/step - loss: 352676.0625 - mean_squared_error: 352676.0625 - val_loss: 307091.2812 - val_mean_squared_error: 307091.2812\n",
            "Epoch 47/50\n",
            "\u001b[1m2/2\u001b[0m \u001b[32m━━━━━━━━━━━━━━━━━━━━\u001b[0m\u001b[37m\u001b[0m \u001b[1m0s\u001b[0m 31ms/step - loss: 352273.1562 - mean_squared_error: 352273.1562 - val_loss: 307073.6250 - val_mean_squared_error: 307073.6250\n",
            "Epoch 48/50\n",
            "\u001b[1m2/2\u001b[0m \u001b[32m━━━━━━━━━━━━━━━━━━━━\u001b[0m\u001b[37m\u001b[0m \u001b[1m0s\u001b[0m 30ms/step - loss: 352721.7188 - mean_squared_error: 352721.7188 - val_loss: 307056.6250 - val_mean_squared_error: 307056.6250\n",
            "Epoch 49/50\n",
            "\u001b[1m2/2\u001b[0m \u001b[32m━━━━━━━━━━━━━━━━━━━━\u001b[0m\u001b[37m\u001b[0m \u001b[1m0s\u001b[0m 31ms/step - loss: 355980.8438 - mean_squared_error: 355980.8438 - val_loss: 307040.1250 - val_mean_squared_error: 307040.1250\n",
            "Epoch 50/50\n",
            "\u001b[1m2/2\u001b[0m \u001b[32m━━━━━━━━━━━━━━━━━━━━\u001b[0m\u001b[37m\u001b[0m \u001b[1m0s\u001b[0m 35ms/step - loss: 357916.9688 - mean_squared_error: 357916.9688 - val_loss: 307023.9375 - val_mean_squared_error: 307023.9375\n"
          ]
        }
      ],
      "source": [
        "# Entrenamiento\n",
        "history = model.fit(X_train, y_train, validation_data=(X_test, y_test), epochs=50,verbose=1, callbacks=[es])"
      ]
    },
    {
      "cell_type": "markdown",
      "metadata": {
        "id": "a9Kezxje-xzi"
      },
      "source": [
        "### Evaluación del modelo"
      ]
    },
    {
      "cell_type": "code",
      "execution_count": 15,
      "metadata": {
        "colab": {
          "base_uri": "https://localhost:8080/",
          "height": 430
        },
        "id": "GSbCyqV25Mrt",
        "outputId": "01d7ec11-4497-4b82-f307-83aa3d90b616"
      },
      "outputs": [
        {
          "data": {
            "image/png": "[encoded data removed]",
            "text/plain": [
              "<Figure size 640x480 with 1 Axes>"
            ]
          },
          "metadata": {},
          "output_type": "display_data"
        }
      ],
      "source": [
        "# Ploteando training history\n",
        "plt.plot(history.history['loss'], label='train')\n",
        "plt.plot(history.history['val_loss'], label='test')\n",
        "plt.legend()\n",
        "plt.show()"
      ]
    },
    {
      "cell_type": "code",
      "execution_count": 16,
      "metadata": {
        "colab": {
          "base_uri": "https://localhost:8080/"
        },
        "id": "3_UXTkhf4vzX",
        "outputId": "91082606-13c9-47b3-c081-1206dc9524b2"
      },
      "outputs": [
        {
          "name": "stdout",
          "output_type": "stream",
          "text": [
            "\u001b[1m1/1\u001b[0m \u001b[32m━━━━━━━━━━━━━━━━━━━━\u001b[0m\u001b[37m\u001b[0m \u001b[1m0s\u001b[0m 41ms/step\n",
            "554.0973760146001\n"
          ]
        }
      ],
      "source": [
        "# Error\n",
        "y_pred = model.predict(X_test)\n",
        "print(np.sqrt(mean_squared_error(y_pred,y_test)))"
      ]
    },
    {
      "cell_type": "code",
      "execution_count": 17,
      "metadata": {
        "colab": {
          "base_uri": "https://localhost:8080/"
        },
        "id": "44GSfMkC4v2H",
        "outputId": "d434261d-7f99-4e64-801e-65f76e0e9906"
      },
      "outputs": [
        {
          "data": {
            "text/plain": [
              "array([0.30852   , 0.63230693, 0.43554932, 0.8461049 , 0.5562635 ,\n",
              "       0.5205394 , 1.1414535 , 0.577315  , 0.70524395, 0.5374368 ],\n",
              "      dtype=float32)"
            ]
          },
          "execution_count": 17,
          "metadata": {},
          "output_type": "execute_result"
        }
      ],
      "source": [
        "y_pred.flatten()"
      ]
    },
    {
      "cell_type": "code",
      "execution_count": 18,
      "metadata": {
        "colab": {
          "base_uri": "https://localhost:8080/",
          "height": 398
        },
        "id": "Z0OEoJsE4v45",
        "outputId": "72a70890-49d2-4e0f-bf0e-4ed2435d5bd0"
      },
      "outputs": [
        {
          "data": {
            "text/html": [
              "<div>\n",
              "<style scoped>\n",
              "    .dataframe tbody tr th:only-of-type {\n",
              "        vertical-align: middle;\n",
              "    }\n",
              "\n",
              "    .dataframe tbody tr th {\n",
              "        vertical-align: top;\n",
              "    }\n",
              "\n",
              "    .dataframe thead th {\n",
              "        text-align: right;\n",
              "    }\n",
              "</style>\n",
              "<table border=\"1\" class=\"dataframe\">\n",
              "  <thead>\n",
              "    <tr style=\"text-align: right;\">\n",
              "      <th></th>\n",
              "      <th>Petrol_Consumption</th>\n",
              "    </tr>\n",
              "  </thead>\n",
              "  <tbody>\n",
              "    <tr>\n",
              "      <th>29</th>\n",
              "      <td>534</td>\n",
              "    </tr>\n",
              "    <tr>\n",
              "      <th>4</th>\n",
              "      <td>410</td>\n",
              "    </tr>\n",
              "    <tr>\n",
              "      <th>26</th>\n",
              "      <td>577</td>\n",
              "    </tr>\n",
              "    <tr>\n",
              "      <th>30</th>\n",
              "      <td>571</td>\n",
              "    </tr>\n",
              "    <tr>\n",
              "      <th>32</th>\n",
              "      <td>577</td>\n",
              "    </tr>\n",
              "    <tr>\n",
              "      <th>37</th>\n",
              "      <td>704</td>\n",
              "    </tr>\n",
              "    <tr>\n",
              "      <th>34</th>\n",
              "      <td>487</td>\n",
              "    </tr>\n",
              "    <tr>\n",
              "      <th>40</th>\n",
              "      <td>587</td>\n",
              "    </tr>\n",
              "    <tr>\n",
              "      <th>7</th>\n",
              "      <td>467</td>\n",
              "    </tr>\n",
              "    <tr>\n",
              "      <th>10</th>\n",
              "      <td>580</td>\n",
              "    </tr>\n",
              "  </tbody>\n",
              "</table>\n",
              "</div><br><label><b>dtype:</b> int64</label>"
            ],
            "text/plain": [
              "29    534\n",
              "4     410\n",
              "26    577\n",
              "30    571\n",
              "32    577\n",
              "37    704\n",
              "34    487\n",
              "40    587\n",
              "7     467\n",
              "10    580\n",
              "Name: Petrol_Consumption, dtype: int64"
            ]
          },
          "execution_count": 18,
          "metadata": {},
          "output_type": "execute_result"
        }
      ],
      "source": [
        "y_test"
      ]
    },
    {
      "cell_type": "code",
      "execution_count": 19,
      "metadata": {
        "colab": {
          "base_uri": "https://localhost:8080/",
          "height": 455
        },
        "id": "GI2D5KnH4v8V",
        "outputId": "cd209d02-21e1-4250-d584-487ca8d1dd47"
      },
      "outputs": [
        {
          "data": {
            "image/png": "[encoded data removed]",
            "text/plain": [
              "<Figure size 640x480 with 1 Axes>"
            ]
          },
          "metadata": {},
          "output_type": "display_data"
        }
      ],
      "source": [
        "# Comparando predicciones vs valores reales\n",
        "plt.scatter(y_test,y_pred, edgecolors=(0, 0, 0))\n",
        "plt.xlabel('Valores reales')\n",
        "plt.ylabel('Predicciones')\n",
        "lims = [0, 1000]\n",
        "plt.xlim(lims)\n",
        "plt.ylim(lims)\n",
        "_ = plt.plot(lims, lims)\n",
        "plt.show()"
      ]
    },
    {
      "cell_type": "markdown",
      "metadata": {
        "id": "5yH0j_eOBkgE"
      },
      "source": [
        "### Realizar una predicción"
      ]
    },
    {
      "cell_type": "code",
      "execution_count": 20,
      "metadata": {
        "colab": {
          "base_uri": "https://localhost:8080/"
        },
        "id": "cAG2abu2-41t",
        "outputId": "89838ce1-506e-4857-cdab-82620199ce64"
      },
      "outputs": [
        {
          "name": "stdout",
          "output_type": "stream",
          "text": [
            "\u001b[1m1/1\u001b[0m \u001b[32m━━━━━━━━━━━━━━━━━━━━\u001b[0m\u001b[37m\u001b[0m \u001b[1m0s\u001b[0m 48ms/step\n",
            "Predicción:  [[0.7118092]]\n"
          ]
        },
        {
          "name": "stderr",
          "output_type": "stream",
          "text": [
            "/usr/local/lib/python3.10/dist-packages/sklearn/base.py:493: UserWarning: X does not have valid feature names, but StandardScaler was fitted with feature names\n",
            "  warnings.warn(\n"
          ]
        }
      ],
      "source": [
        "new_value = [8.0, 3448, 5399, 0.5]\n",
        "# Escalar la nueva observación\n",
        "new_value = sc.transform([new_value])\n",
        "# Utilizar predict para predecir la nueva observación\n",
        "prediction = model.predict(new_value)\n",
        "print('Predicción: ', prediction)"
      ]
    },
    {
      "cell_type": "markdown",
      "metadata": {
        "id": "H6SZeouPK38A"
      },
      "source": [
        "# Activity\n",
        "\n",
        "Modify the hyperparameters and/or architecture in order to improve the current results."
      ]
    },
    {
      "cell_type": "code",
      "execution_count": 25,
      "metadata": {
        "id": "jilgm4u3xI1Q"
      },
      "outputs": [],
      "source": [
        "model = Sequential([\n",
        "    Dense(64, activation='relu', input_shape=(4,)),\n",
        "    Dense(32, activation='relu'),\n",
        "    Dense(16, activation='relu'),\n",
        "    Dense(1)\n",
        "])"
      ]
    },
    {
      "cell_type": "code",
      "execution_count": 26,
      "metadata": {
        "colab": {
          "base_uri": "https://localhost:8080/",
          "height": 265
        },
        "id": "ogBOswSJxKYJ",
        "outputId": "99d8ab67-81be-41bf-9b3b-1531b8dadf28"
      },
      "outputs": [
        {
          "data": {
            "text/html": [
              "<pre style=\"white-space:pre;overflow-x:auto;line-height:normal;font-family:Menlo,'DejaVu Sans Mono',consolas,'Courier New',monospace\"><span style=\"font-weight: bold\">Model: \"sequential_4\"</span>\n",
              "</pre>\n"
            ],
            "text/plain": [
              "\u001b[1mModel: \"sequential_4\"\u001b[0m\n"
            ]
          },
          "metadata": {},
          "output_type": "display_data"
        },
        {
          "data": {
            "text/html": [
              "<pre style=\"white-space:pre;overflow-x:auto;line-height:normal;font-family:Menlo,'DejaVu Sans Mono',consolas,'Courier New',monospace\">┏━━━━━━━━━━━━━━━━━━━━━━━━━━━━━━━━━━━━━━┳━━━━━━━━━━━━━━━━━━━━━━━━━━━━━┳━━━━━━━━━━━━━━━━━┓\n",
              "┃<span style=\"font-weight: bold\"> Layer (type)                         </span>┃<span style=\"font-weight: bold\"> Output Shape                </span>┃<span style=\"font-weight: bold\">         Param # </span>┃\n",
              "┡━━━━━━━━━━━━━━━━━━━━━━━━━━━━━━━━━━━━━━╇━━━━━━━━━━━━━━━━━━━━━━━━━━━━━╇━━━━━━━━━━━━━━━━━┩\n",
              "│ dense_15 (<span style=\"color: #0087ff; text-decoration-color: #0087ff\">Dense</span>)                     │ (<span style=\"color: #00d7ff; text-decoration-color: #00d7ff\">None</span>, <span style=\"color: #00af00; text-decoration-color: #00af00\">64</span>)                  │             <span style=\"color: #00af00; text-decoration-color: #00af00\">320</span> │\n",
              "├──────────────────────────────────────┼─────────────────────────────┼─────────────────┤\n",
              "│ dense_16 (<span style=\"color: #0087ff; text-decoration-color: #0087ff\">Dense</span>)                     │ (<span style=\"color: #00d7ff; text-decoration-color: #00d7ff\">None</span>, <span style=\"color: #00af00; text-decoration-color: #00af00\">32</span>)                  │           <span style=\"color: #00af00; text-decoration-color: #00af00\">2,080</span> │\n",
              "├──────────────────────────────────────┼─────────────────────────────┼─────────────────┤\n",
              "│ dense_17 (<span style=\"color: #0087ff; text-decoration-color: #0087ff\">Dense</span>)                     │ (<span style=\"color: #00d7ff; text-decoration-color: #00d7ff\">None</span>, <span style=\"color: #00af00; text-decoration-color: #00af00\">16</span>)                  │             <span style=\"color: #00af00; text-decoration-color: #00af00\">528</span> │\n",
              "├──────────────────────────────────────┼─────────────────────────────┼─────────────────┤\n",
              "│ dense_18 (<span style=\"color: #0087ff; text-decoration-color: #0087ff\">Dense</span>)                     │ (<span style=\"color: #00d7ff; text-decoration-color: #00d7ff\">None</span>, <span style=\"color: #00af00; text-decoration-color: #00af00\">1</span>)                   │              <span style=\"color: #00af00; text-decoration-color: #00af00\">17</span> │\n",
              "└──────────────────────────────────────┴─────────────────────────────┴─────────────────┘\n",
              "</pre>\n"
            ],
            "text/plain": [
              "┏━━━━━━━━━━━━━━━━━━━━━━━━━━━━━━━━━━━━━━┳━━━━━━━━━━━━━━━━━━━━━━━━━━━━━┳━━━━━━━━━━━━━━━━━┓\n",
              "┃\u001b[1m \u001b[0m\u001b[1mLayer (type)                        \u001b[0m\u001b[1m \u001b[0m┃\u001b[1m \u001b[0m\u001b[1mOutput Shape               \u001b[0m\u001b[1m \u001b[0m┃\u001b[1m \u001b[0m\u001b[1m        Param #\u001b[0m\u001b[1m \u001b[0m┃\n",
              "┡━━━━━━━━━━━━━━━━━━━━━━━━━━━━━━━━━━━━━━╇━━━━━━━━━━━━━━━━━━━━━━━━━━━━━╇━━━━━━━━━━━━━━━━━┩\n",
              "│ dense_15 (\u001b[38;5;33mDense\u001b[0m)                     │ (\u001b[38;5;45mNone\u001b[0m, \u001b[38;5;34m64\u001b[0m)                  │             \u001b[38;5;34m320\u001b[0m │\n",
              "├──────────────────────────────────────┼─────────────────────────────┼─────────────────┤\n",
              "│ dense_16 (\u001b[38;5;33mDense\u001b[0m)                     │ (\u001b[38;5;45mNone\u001b[0m, \u001b[38;5;34m32\u001b[0m)                  │           \u001b[38;5;34m2,080\u001b[0m │\n",
              "├──────────────────────────────────────┼─────────────────────────────┼─────────────────┤\n",
              "│ dense_17 (\u001b[38;5;33mDense\u001b[0m)                     │ (\u001b[38;5;45mNone\u001b[0m, \u001b[38;5;34m16\u001b[0m)                  │             \u001b[38;5;34m528\u001b[0m │\n",
              "├──────────────────────────────────────┼─────────────────────────────┼─────────────────┤\n",
              "│ dense_18 (\u001b[38;5;33mDense\u001b[0m)                     │ (\u001b[38;5;45mNone\u001b[0m, \u001b[38;5;34m1\u001b[0m)                   │              \u001b[38;5;34m17\u001b[0m │\n",
              "└──────────────────────────────────────┴─────────────────────────────┴─────────────────┘\n"
            ]
          },
          "metadata": {},
          "output_type": "display_data"
        },
        {
          "data": {
            "text/html": [
              "<pre style=\"white-space:pre;overflow-x:auto;line-height:normal;font-family:Menlo,'DejaVu Sans Mono',consolas,'Courier New',monospace\"><span style=\"font-weight: bold\"> Total params: </span><span style=\"color: #00af00; text-decoration-color: #00af00\">2,945</span> (11.50 KB)\n",
              "</pre>\n"
            ],
            "text/plain": [
              "\u001b[1m Total params: \u001b[0m\u001b[38;5;34m2,945\u001b[0m (11.50 KB)\n"
            ]
          },
          "metadata": {},
          "output_type": "display_data"
        },
        {
          "data": {
            "text/html": [
              "<pre style=\"white-space:pre;overflow-x:auto;line-height:normal;font-family:Menlo,'DejaVu Sans Mono',consolas,'Courier New',monospace\"><span style=\"font-weight: bold\"> Trainable params: </span><span style=\"color: #00af00; text-decoration-color: #00af00\">2,945</span> (11.50 KB)\n",
              "</pre>\n"
            ],
            "text/plain": [
              "\u001b[1m Trainable params: \u001b[0m\u001b[38;5;34m2,945\u001b[0m (11.50 KB)\n"
            ]
          },
          "metadata": {},
          "output_type": "display_data"
        },
        {
          "data": {
            "text/html": [
              "<pre style=\"white-space:pre;overflow-x:auto;line-height:normal;font-family:Menlo,'DejaVu Sans Mono',consolas,'Courier New',monospace\"><span style=\"font-weight: bold\"> Non-trainable params: </span><span style=\"color: #00af00; text-decoration-color: #00af00\">0</span> (0.00 B)\n",
              "</pre>\n"
            ],
            "text/plain": [
              "\u001b[1m Non-trainable params: \u001b[0m\u001b[38;5;34m0\u001b[0m (0.00 B)\n"
            ]
          },
          "metadata": {},
          "output_type": "display_data"
        }
      ],
      "source": [
        "model.summary()"
      ]
    },
    {
      "cell_type": "code",
      "execution_count": 44,
      "metadata": {
        "id": "95YF7eRkxYDz"
      },
      "outputs": [],
      "source": [
        "model.compile(optimizer=tf.keras.optimizers.Adam(learning_rate=0.001),\n",
        "              loss='mse',\n",
        "              metrics=['mean_absolute_error', 'mean_squared_error'])"
      ]
    },
    {
      "cell_type": "code",
      "execution_count": 29,
      "metadata": {
        "id": "YOP1Ok8HxbOs"
      },
      "outputs": [],
      "source": [
        "es = EarlyStopping(monitor='val_loss', patience=30, mode='min', verbose=1, restore_best_weights=True)"
      ]
    },
    {
      "cell_type": "code",
      "execution_count": 30,
      "metadata": {
        "colab": {
          "base_uri": "https://localhost:8080/"
        },
        "collapsed": true,
        "id": "lTHy9VVSxbIk",
        "outputId": "7ffd88c0-a438-44a1-9834-8d3fa5af576b"
      },
      "outputs": [
        {
          "name": "stdout",
          "output_type": "stream",
          "text": [
            "Epoch 1/300\n",
            "\u001b[1m5/5\u001b[0m \u001b[32m━━━━━━━━━━━━━━━━━━━━\u001b[0m\u001b[37m\u001b[0m \u001b[1m2s\u001b[0m 95ms/step - loss: 364953.5000 - mean_absolute_error: 592.2053 - mean_squared_error: 364953.5000 - val_loss: 307678.1875 - val_mean_absolute_error: 549.3824 - val_mean_squared_error: 307678.1875\n",
            "Epoch 2/300\n",
            "\u001b[1m5/5\u001b[0m \u001b[32m━━━━━━━━━━━━━━━━━━━━\u001b[0m\u001b[37m\u001b[0m \u001b[1m0s\u001b[0m 14ms/step - loss: 387234.3438 - mean_absolute_error: 608.7794 - mean_squared_error: 387234.3438 - val_loss: 307480.0000 - val_mean_absolute_error: 549.2011 - val_mean_squared_error: 307480.0000\n",
            "Epoch 3/300\n",
            "\u001b[1m5/5\u001b[0m \u001b[32m━━━━━━━━━━━━━━━━━━━━\u001b[0m\u001b[37m\u001b[0m \u001b[1m0s\u001b[0m 53ms/step - loss: 371759.4062 - mean_absolute_error: 596.6791 - mean_squared_error: 371759.4062 - val_loss: 307275.5312 - val_mean_absolute_error: 549.0145 - val_mean_squared_error: 307275.5312\n",
            "Epoch 4/300\n",
            "\u001b[1m5/5\u001b[0m \u001b[32m━━━━━━━━━━━━━━━━━━━━\u001b[0m\u001b[37m\u001b[0m \u001b[1m0s\u001b[0m 21ms/step - loss: 355991.2500 - mean_absolute_error: 587.1888 - mean_squared_error: 355991.2500 - val_loss: 307060.6875 - val_mean_absolute_error: 548.8187 - val_mean_squared_error: 307060.6875\n",
            "Epoch 5/300\n",
            "\u001b[1m5/5\u001b[0m \u001b[32m━━━━━━━━━━━━━━━━━━━━\u001b[0m\u001b[37m\u001b[0m \u001b[1m0s\u001b[0m 10ms/step - loss: 361955.8125 - mean_absolute_error: 590.1348 - mean_squared_error: 361955.8125 - val_loss: 306823.0000 - val_mean_absolute_error: 548.6031 - val_mean_squared_error: 306823.0000\n",
            "Epoch 6/300\n",
            "\u001b[1m5/5\u001b[0m \u001b[32m━━━━━━━━━━━━━━━━━━━━\u001b[0m\u001b[37m\u001b[0m \u001b[1m0s\u001b[0m 17ms/step - loss: 360274.7500 - mean_absolute_error: 586.1339 - mean_squared_error: 360274.7500 - val_loss: 306548.0625 - val_mean_absolute_error: 548.3536 - val_mean_squared_error: 306548.0625\n",
            "Epoch 7/300\n",
            "\u001b[1m5/5\u001b[0m \u001b[32m━━━━━━━━━━━━━━━━━━━━\u001b[0m\u001b[37m\u001b[0m \u001b[1m0s\u001b[0m 9ms/step - loss: 336923.6875 - mean_absolute_error: 571.2026 - mean_squared_error: 336923.6875 - val_loss: 306219.1562 - val_mean_absolute_error: 548.0549 - val_mean_squared_error: 306219.1562\n",
            "Epoch 8/300\n",
            "\u001b[1m5/5\u001b[0m \u001b[32m━━━━━━━━━━━━━━━━━━━━\u001b[0m\u001b[37m\u001b[0m \u001b[1m0s\u001b[0m 10ms/step - loss: 345157.7812 - mean_absolute_error: 578.3812 - mean_squared_error: 345157.7812 - val_loss: 305817.8438 - val_mean_absolute_error: 547.6891 - val_mean_squared_error: 305817.8438\n",
            "Epoch 9/300\n",
            "\u001b[1m5/5\u001b[0m \u001b[32m━━━━━━━━━━━━━━━━━━━━\u001b[0m\u001b[37m\u001b[0m \u001b[1m0s\u001b[0m 13ms/step - loss: 381100.1562 - mean_absolute_error: 603.3845 - mean_squared_error: 381100.1562 - val_loss: 305319.9375 - val_mean_absolute_error: 547.2346 - val_mean_squared_error: 305319.9375\n",
            "Epoch 10/300\n",
            "\u001b[1m5/5\u001b[0m \u001b[32m━━━━━━━━━━━━━━━━━━━━\u001b[0m\u001b[37m\u001b[0m \u001b[1m0s\u001b[0m 15ms/step - loss: 347222.3750 - mean_absolute_error: 580.1644 - mean_squared_error: 347222.3750 - val_loss: 304702.2812 - val_mean_absolute_error: 546.6699 - val_mean_squared_error: 304702.2812\n",
            "Epoch 11/300\n",
            "\u001b[1m5/5\u001b[0m \u001b[32m━━━━━━━━━━━━━━━━━━━━\u001b[0m\u001b[37m\u001b[0m \u001b[1m0s\u001b[0m 13ms/step - loss: 372485.4062 - mean_absolute_error: 597.7209 - mean_squared_error: 372485.4062 - val_loss: 303933.8438 - val_mean_absolute_error: 545.9667 - val_mean_squared_error: 303933.8438\n",
            "Epoch 12/300\n",
            "\u001b[1m5/5\u001b[0m \u001b[32m━━━━━━━━━━━━━━━━━━━━\u001b[0m\u001b[37m\u001b[0m \u001b[1m0s\u001b[0m 8ms/step - loss: 337912.3125 - mean_absolute_error: 572.4997 - mean_squared_error: 337912.3125 - val_loss: 302988.8438 - val_mean_absolute_error: 545.0990 - val_mean_squared_error: 302988.8438\n",
            "Epoch 13/300\n",
            "\u001b[1m5/5\u001b[0m \u001b[32m━━━━━━━━━━━━━━━━━━━━\u001b[0m\u001b[37m\u001b[0m \u001b[1m0s\u001b[0m 13ms/step - loss: 358210.8750 - mean_absolute_error: 587.5483 - mean_squared_error: 358210.8750 - val_loss: 301865.3125 - val_mean_absolute_error: 544.0659 - val_mean_squared_error: 301865.3125\n",
            "Epoch 14/300\n",
            "\u001b[1m5/5\u001b[0m \u001b[32m━━━━━━━━━━━━━━━━━━━━\u001b[0m\u001b[37m\u001b[0m \u001b[1m0s\u001b[0m 13ms/step - loss: 349140.6875 - mean_absolute_error: 577.6188 - mean_squared_error: 349140.6875 - val_loss: 300504.9375 - val_mean_absolute_error: 542.8104 - val_mean_squared_error: 300504.9375\n",
            "Epoch 15/300\n",
            "\u001b[1m5/5\u001b[0m \u001b[32m━━━━━━━━━━━━━━━━━━━━\u001b[0m\u001b[37m\u001b[0m \u001b[1m0s\u001b[0m 19ms/step - loss: 346937.5625 - mean_absolute_error: 578.7733 - mean_squared_error: 346937.5625 - val_loss: 298856.5000 - val_mean_absolute_error: 541.2867 - val_mean_squared_error: 298856.5000\n",
            "Epoch 16/300\n",
            "\u001b[1m5/5\u001b[0m \u001b[32m━━━━━━━━━━━━━━━━━━━━\u001b[0m\u001b[37m\u001b[0m \u001b[1m0s\u001b[0m 17ms/step - loss: 359591.2500 - mean_absolute_error: 586.8290 - mean_squared_error: 359591.2500 - val_loss: 296867.5625 - val_mean_absolute_error: 539.4417 - val_mean_squared_error: 296867.5625\n",
            "Epoch 17/300\n",
            "\u001b[1m5/5\u001b[0m \u001b[32m━━━━━━━━━━━━━━━━━━━━\u001b[0m\u001b[37m\u001b[0m \u001b[1m0s\u001b[0m 16ms/step - loss: 344141.8125 - mean_absolute_error: 572.8552 - mean_squared_error: 344141.8125 - val_loss: 294528.6875 - val_mean_absolute_error: 537.2617 - val_mean_squared_error: 294528.6875\n",
            "Epoch 18/300\n",
            "\u001b[1m5/5\u001b[0m \u001b[32m━━━━━━━━━━━━━━━━━━━━\u001b[0m\u001b[37m\u001b[0m \u001b[1m0s\u001b[0m 18ms/step - loss: 333611.1250 - mean_absolute_error: 567.8977 - mean_squared_error: 333611.1250 - val_loss: 291722.0625 - val_mean_absolute_error: 534.6334 - val_mean_squared_error: 291722.0625\n",
            "Epoch 19/300\n",
            "\u001b[1m5/5\u001b[0m \u001b[32m━━━━━━━━━━━━━━━━━━━━\u001b[0m\u001b[37m\u001b[0m \u001b[1m0s\u001b[0m 16ms/step - loss: 348256.0000 - mean_absolute_error: 573.5498 - mean_squared_error: 348256.0000 - val_loss: 288342.0938 - val_mean_absolute_error: 531.4481 - val_mean_squared_error: 288342.0938\n",
            "Epoch 20/300\n",
            "\u001b[1m5/5\u001b[0m \u001b[32m━━━━━━━━━━━━━━━━━━━━\u001b[0m\u001b[37m\u001b[0m \u001b[1m0s\u001b[0m 15ms/step - loss: 326046.0625 - mean_absolute_error: 558.1034 - mean_squared_error: 326046.0625 - val_loss: 284374.3125 - val_mean_absolute_error: 527.6859 - val_mean_squared_error: 284374.3125\n",
            "Epoch 21/300\n",
            "\u001b[1m5/5\u001b[0m \u001b[32m━━━━━━━━━━━━━━━━━━━━\u001b[0m\u001b[37m\u001b[0m \u001b[1m0s\u001b[0m 15ms/step - loss: 319860.5000 - mean_absolute_error: 555.2132 - mean_squared_error: 319860.5000 - val_loss: 279722.6562 - val_mean_absolute_error: 523.2415 - val_mean_squared_error: 279722.6562\n",
            "Epoch 22/300\n",
            "\u001b[1m5/5\u001b[0m \u001b[32m━━━━━━━━━━━━━━━━━━━━\u001b[0m\u001b[37m\u001b[0m \u001b[1m0s\u001b[0m 14ms/step - loss: 336705.9375 - mean_absolute_error: 566.7853 - mean_squared_error: 336705.9375 - val_loss: 274388.3125 - val_mean_absolute_error: 518.0931 - val_mean_squared_error: 274388.3125\n",
            "Epoch 23/300\n",
            "\u001b[1m5/5\u001b[0m \u001b[32m━━━━━━━━━━━━━━━━━━━━\u001b[0m\u001b[37m\u001b[0m \u001b[1m0s\u001b[0m 17ms/step - loss: 347942.7188 - mean_absolute_error: 578.2177 - mean_squared_error: 347942.7188 - val_loss: 268301.8438 - val_mean_absolute_error: 512.1557 - val_mean_squared_error: 268301.8438\n",
            "Epoch 24/300\n",
            "\u001b[1m5/5\u001b[0m \u001b[32m━━━━━━━━━━━━━━━━━━━━\u001b[0m\u001b[37m\u001b[0m \u001b[1m0s\u001b[0m 13ms/step - loss: 314634.8438 - mean_absolute_error: 545.5305 - mean_squared_error: 314634.8438 - val_loss: 261455.3750 - val_mean_absolute_error: 505.3765 - val_mean_squared_error: 261455.3750\n",
            "Epoch 25/300\n",
            "\u001b[1m5/5\u001b[0m \u001b[32m━━━━━━━━━━━━━━━━━━━━\u001b[0m\u001b[37m\u001b[0m \u001b[1m0s\u001b[0m 16ms/step - loss: 291112.5000 - mean_absolute_error: 531.6289 - mean_squared_error: 291112.5000 - val_loss: 253680.8438 - val_mean_absolute_error: 497.5771 - val_mean_squared_error: 253680.8438\n",
            "Epoch 26/300\n",
            "\u001b[1m5/5\u001b[0m \u001b[32m━━━━━━━━━━━━━━━━━━━━\u001b[0m\u001b[37m\u001b[0m \u001b[1m0s\u001b[0m 14ms/step - loss: 271138.6562 - mean_absolute_error: 511.0568 - mean_squared_error: 271138.6562 - val_loss: 245084.1562 - val_mean_absolute_error: 488.7940 - val_mean_squared_error: 245084.1562\n",
            "Epoch 27/300\n",
            "\u001b[1m5/5\u001b[0m \u001b[32m━━━━━━━━━━━━━━━━━━━━\u001b[0m\u001b[37m\u001b[0m \u001b[1m0s\u001b[0m 14ms/step - loss: 272076.9688 - mean_absolute_error: 513.4020 - mean_squared_error: 272076.9688 - val_loss: 235501.6719 - val_mean_absolute_error: 478.8246 - val_mean_squared_error: 235501.6719\n",
            "Epoch 28/300\n",
            "\u001b[1m5/5\u001b[0m \u001b[32m━━━━━━━━━━━━━━━━━━━━\u001b[0m\u001b[37m\u001b[0m \u001b[1m0s\u001b[0m 18ms/step - loss: 276804.3438 - mean_absolute_error: 515.3851 - mean_squared_error: 276804.3438 - val_loss: 225107.0469 - val_mean_absolute_error: 467.7601 - val_mean_squared_error: 225107.0469\n",
            "Epoch 29/300\n",
            "\u001b[1m5/5\u001b[0m \u001b[32m━━━━━━━━━━━━━━━━━━━━\u001b[0m\u001b[37m\u001b[0m \u001b[1m0s\u001b[0m 16ms/step - loss: 263836.1250 - mean_absolute_error: 503.8565 - mean_squared_error: 263836.1250 - val_loss: 213487.8438 - val_mean_absolute_error: 455.0466 - val_mean_squared_error: 213487.8438\n",
            "Epoch 30/300\n",
            "\u001b[1m5/5\u001b[0m \u001b[32m━━━━━━━━━━━━━━━━━━━━\u001b[0m\u001b[37m\u001b[0m \u001b[1m0s\u001b[0m 19ms/step - loss: 255522.1562 - mean_absolute_error: 492.7969 - mean_squared_error: 255522.1562 - val_loss: 200847.5312 - val_mean_absolute_error: 440.7551 - val_mean_squared_error: 200847.5312\n",
            "Epoch 31/300\n",
            "\u001b[1m5/5\u001b[0m \u001b[32m━━━━━━━━━━━━━━━━━━━━\u001b[0m\u001b[37m\u001b[0m \u001b[1m0s\u001b[0m 16ms/step - loss: 230521.7812 - mean_absolute_error: 470.7593 - mean_squared_error: 230521.7812 - val_loss: 187617.7969 - val_mean_absolute_error: 425.2582 - val_mean_squared_error: 187617.7969\n",
            "Epoch 32/300\n",
            "\u001b[1m5/5\u001b[0m \u001b[32m━━━━━━━━━━━━━━━━━━━━\u001b[0m\u001b[37m\u001b[0m \u001b[1m0s\u001b[0m 17ms/step - loss: 222605.3750 - mean_absolute_error: 462.0311 - mean_squared_error: 222605.3750 - val_loss: 173478.8281 - val_mean_absolute_error: 408.0112 - val_mean_squared_error: 173478.8281\n",
            "Epoch 33/300\n",
            "\u001b[1m5/5\u001b[0m \u001b[32m━━━━━━━━━━━━━━━━━━━━\u001b[0m\u001b[37m\u001b[0m \u001b[1m0s\u001b[0m 14ms/step - loss: 210323.1562 - mean_absolute_error: 448.9928 - mean_squared_error: 210323.1562 - val_loss: 158688.3125 - val_mean_absolute_error: 389.1306 - val_mean_squared_error: 158688.3125\n",
            "Epoch 34/300\n",
            "\u001b[1m5/5\u001b[0m \u001b[32m━━━━━━━━━━━━━━━━━━━━\u001b[0m\u001b[37m\u001b[0m \u001b[1m0s\u001b[0m 11ms/step - loss: 198378.2969 - mean_absolute_error: 432.4532 - mean_squared_error: 198378.2969 - val_loss: 143575.1406 - val_mean_absolute_error: 368.7549 - val_mean_squared_error: 143575.1406\n",
            "Epoch 35/300\n",
            "\u001b[1m5/5\u001b[0m \u001b[32m━━━━━━━━━━━━━━━━━━━━\u001b[0m\u001b[37m\u001b[0m \u001b[1m0s\u001b[0m 9ms/step - loss: 171975.4688 - mean_absolute_error: 400.1336 - mean_squared_error: 171975.4688 - val_loss: 128198.0000 - val_mean_absolute_error: 346.7092 - val_mean_squared_error: 128198.0000\n",
            "Epoch 36/300\n",
            "\u001b[1m5/5\u001b[0m \u001b[32m━━━━━━━━━━━━━━━━━━━━\u001b[0m\u001b[37m\u001b[0m \u001b[1m0s\u001b[0m 10ms/step - loss: 153597.3438 - mean_absolute_error: 377.4165 - mean_squared_error: 153597.3438 - val_loss: 112735.5781 - val_mean_absolute_error: 322.9134 - val_mean_squared_error: 112735.5781\n",
            "Epoch 37/300\n",
            "\u001b[1m5/5\u001b[0m \u001b[32m━━━━━━━━━━━━━━━━━━━━\u001b[0m\u001b[37m\u001b[0m \u001b[1m0s\u001b[0m 14ms/step - loss: 134241.6406 - mean_absolute_error: 347.4962 - mean_squared_error: 134241.6406 - val_loss: 97672.7891 - val_mean_absolute_error: 297.8149 - val_mean_squared_error: 97672.7891\n",
            "Epoch 38/300\n",
            "\u001b[1m5/5\u001b[0m \u001b[32m━━━━━━━━━━━━━━━━━━━━\u001b[0m\u001b[37m\u001b[0m \u001b[1m0s\u001b[0m 9ms/step - loss: 112896.1250 - mean_absolute_error: 322.8978 - mean_squared_error: 112896.1250 - val_loss: 83163.4297 - val_mean_absolute_error: 271.2074 - val_mean_squared_error: 83163.4297\n",
            "Epoch 39/300\n",
            "\u001b[1m5/5\u001b[0m \u001b[32m━━━━━━━━━━━━━━━━━━━━\u001b[0m\u001b[37m\u001b[0m \u001b[1m0s\u001b[0m 10ms/step - loss: 86563.5078 - mean_absolute_error: 279.3976 - mean_squared_error: 86563.5078 - val_loss: 69534.2422 - val_mean_absolute_error: 243.2712 - val_mean_squared_error: 69534.2422\n",
            "Epoch 40/300\n",
            "\u001b[1m5/5\u001b[0m \u001b[32m━━━━━━━━━━━━━━━━━━━━\u001b[0m\u001b[37m\u001b[0m \u001b[1m0s\u001b[0m 9ms/step - loss: 82682.0234 - mean_absolute_error: 274.4511 - mean_squared_error: 82682.0234 - val_loss: 57085.8672 - val_mean_absolute_error: 214.2758 - val_mean_squared_error: 57085.8672\n",
            "Epoch 41/300\n",
            "\u001b[1m5/5\u001b[0m \u001b[32m━━━━━━━━━━━━━━━━━━━━\u001b[0m\u001b[37m\u001b[0m \u001b[1m0s\u001b[0m 14ms/step - loss: 62998.7500 - mean_absolute_error: 237.0855 - mean_squared_error: 62998.7500 - val_loss: 46551.6133 - val_mean_absolute_error: 185.8813 - val_mean_squared_error: 46551.6133\n",
            "Epoch 42/300\n",
            "\u001b[1m5/5\u001b[0m \u001b[32m━━━━━━━━━━━━━━━━━━━━\u001b[0m\u001b[37m\u001b[0m \u001b[1m0s\u001b[0m 8ms/step - loss: 57957.0312 - mean_absolute_error: 219.1760 - mean_squared_error: 57957.0312 - val_loss: 37686.6055 - val_mean_absolute_error: 157.3055 - val_mean_squared_error: 37686.6055\n",
            "Epoch 43/300\n",
            "\u001b[1m5/5\u001b[0m \u001b[32m━━━━━━━━━━━━━━━━━━━━\u001b[0m\u001b[37m\u001b[0m \u001b[1m0s\u001b[0m 9ms/step - loss: 38895.8047 - mean_absolute_error: 178.5766 - mean_squared_error: 38895.8047 - val_loss: 30723.9180 - val_mean_absolute_error: 134.4710 - val_mean_squared_error: 30723.9180\n",
            "Epoch 44/300\n",
            "\u001b[1m5/5\u001b[0m \u001b[32m━━━━━━━━━━━━━━━━━━━━\u001b[0m\u001b[37m\u001b[0m \u001b[1m0s\u001b[0m 9ms/step - loss: 32527.8340 - mean_absolute_error: 154.8341 - mean_squared_error: 32527.8340 - val_loss: 25583.6660 - val_mean_absolute_error: 121.5037 - val_mean_squared_error: 25583.6660\n",
            "Epoch 45/300\n",
            "\u001b[1m5/5\u001b[0m \u001b[32m━━━━━━━━━━━━━━━━━━━━\u001b[0m\u001b[37m\u001b[0m \u001b[1m0s\u001b[0m 13ms/step - loss: 26857.0391 - mean_absolute_error: 142.8790 - mean_squared_error: 26857.0391 - val_loss: 22171.4102 - val_mean_absolute_error: 116.1290 - val_mean_squared_error: 22171.4102\n",
            "Epoch 46/300\n",
            "\u001b[1m5/5\u001b[0m \u001b[32m━━━━━━━━━━━━━━━━━━━━\u001b[0m\u001b[37m\u001b[0m \u001b[1m0s\u001b[0m 15ms/step - loss: 22210.9375 - mean_absolute_error: 124.1646 - mean_squared_error: 22210.9375 - val_loss: 20107.4961 - val_mean_absolute_error: 114.2760 - val_mean_squared_error: 20107.4961\n",
            "Epoch 47/300\n",
            "\u001b[1m5/5\u001b[0m \u001b[32m━━━━━━━━━━━━━━━━━━━━\u001b[0m\u001b[37m\u001b[0m \u001b[1m0s\u001b[0m 13ms/step - loss: 20693.9512 - mean_absolute_error: 116.2530 - mean_squared_error: 20693.9512 - val_loss: 19059.6035 - val_mean_absolute_error: 112.3714 - val_mean_squared_error: 19059.6035\n",
            "Epoch 48/300\n",
            "\u001b[1m5/5\u001b[0m \u001b[32m━━━━━━━━━━━━━━━━━━━━\u001b[0m\u001b[37m\u001b[0m \u001b[1m0s\u001b[0m 13ms/step - loss: 21013.1348 - mean_absolute_error: 113.4054 - mean_squared_error: 21013.1348 - val_loss: 18756.4570 - val_mean_absolute_error: 112.3839 - val_mean_squared_error: 18756.4570\n",
            "Epoch 49/300\n",
            "\u001b[1m5/5\u001b[0m \u001b[32m━━━━━━━━━━━━━━━━━━━━\u001b[0m\u001b[37m\u001b[0m \u001b[1m0s\u001b[0m 13ms/step - loss: 18466.5547 - mean_absolute_error: 104.3472 - mean_squared_error: 18466.5547 - val_loss: 18782.4160 - val_mean_absolute_error: 113.4193 - val_mean_squared_error: 18782.4160\n",
            "Epoch 50/300\n",
            "\u001b[1m5/5\u001b[0m \u001b[32m━━━━━━━━━━━━━━━━━━━━\u001b[0m\u001b[37m\u001b[0m \u001b[1m0s\u001b[0m 13ms/step - loss: 12898.1611 - mean_absolute_error: 93.2343 - mean_squared_error: 12898.1611 - val_loss: 18935.7754 - val_mean_absolute_error: 113.9363 - val_mean_squared_error: 18935.7754\n",
            "Epoch 51/300\n",
            "\u001b[1m5/5\u001b[0m \u001b[32m━━━━━━━━━━━━━━━━━━━━\u001b[0m\u001b[37m\u001b[0m \u001b[1m0s\u001b[0m 9ms/step - loss: 19866.0586 - mean_absolute_error: 104.9241 - mean_squared_error: 19866.0586 - val_loss: 19143.6660 - val_mean_absolute_error: 114.4644 - val_mean_squared_error: 19143.6660\n",
            "Epoch 52/300\n",
            "\u001b[1m5/5\u001b[0m \u001b[32m━━━━━━━━━━━━━━━━━━━━\u001b[0m\u001b[37m\u001b[0m \u001b[1m0s\u001b[0m 16ms/step - loss: 15871.4854 - mean_absolute_error: 101.8967 - mean_squared_error: 15871.4854 - val_loss: 19088.1836 - val_mean_absolute_error: 113.8554 - val_mean_squared_error: 19088.1836\n",
            "Epoch 53/300\n",
            "\u001b[1m5/5\u001b[0m \u001b[32m━━━━━━━━━━━━━━━━━━━━\u001b[0m\u001b[37m\u001b[0m \u001b[1m0s\u001b[0m 9ms/step - loss: 15577.3496 - mean_absolute_error: 96.2880 - mean_squared_error: 15577.3496 - val_loss: 19105.8438 - val_mean_absolute_error: 113.8083 - val_mean_squared_error: 19105.8438\n",
            "Epoch 54/300\n",
            "\u001b[1m5/5\u001b[0m \u001b[32m━━━━━━━━━━━━━━━━━━━━\u001b[0m\u001b[37m\u001b[0m \u001b[1m0s\u001b[0m 13ms/step - loss: 11115.0771 - mean_absolute_error: 83.8142 - mean_squared_error: 11115.0771 - val_loss: 19024.3027 - val_mean_absolute_error: 113.6229 - val_mean_squared_error: 19024.3027\n",
            "Epoch 55/300\n",
            "\u001b[1m5/5\u001b[0m \u001b[32m━━━━━━━━━━━━━━━━━━━━\u001b[0m\u001b[37m\u001b[0m \u001b[1m0s\u001b[0m 14ms/step - loss: 17357.4570 - mean_absolute_error: 98.6966 - mean_squared_error: 17357.4570 - val_loss: 18795.0664 - val_mean_absolute_error: 112.5152 - val_mean_squared_error: 18795.0664\n",
            "Epoch 56/300\n",
            "\u001b[1m5/5\u001b[0m \u001b[32m━━━━━━━━━━━━━━━━━━━━\u001b[0m\u001b[37m\u001b[0m \u001b[1m0s\u001b[0m 9ms/step - loss: 17238.3770 - mean_absolute_error: 99.6753 - mean_squared_error: 17238.3770 - val_loss: 18655.2891 - val_mean_absolute_error: 111.9361 - val_mean_squared_error: 18655.2891\n",
            "Epoch 57/300\n",
            "\u001b[1m5/5\u001b[0m \u001b[32m━━━━━━━━━━━━━━━━━━━━\u001b[0m\u001b[37m\u001b[0m \u001b[1m0s\u001b[0m 10ms/step - loss: 13465.4111 - mean_absolute_error: 94.6926 - mean_squared_error: 13465.4111 - val_loss: 18669.3301 - val_mean_absolute_error: 112.3162 - val_mean_squared_error: 18669.3301\n",
            "Epoch 58/300\n",
            "\u001b[1m5/5\u001b[0m \u001b[32m━━━━━━━━━━━━━━━━━━━━\u001b[0m\u001b[37m\u001b[0m \u001b[1m0s\u001b[0m 9ms/step - loss: 12166.9707 - mean_absolute_error: 89.7648 - mean_squared_error: 12166.9707 - val_loss: 18455.4863 - val_mean_absolute_error: 111.5245 - val_mean_squared_error: 18455.4863\n",
            "Epoch 59/300\n",
            "\u001b[1m5/5\u001b[0m \u001b[32m━━━━━━━━━━━━━━━━━━━━\u001b[0m\u001b[37m\u001b[0m \u001b[1m0s\u001b[0m 13ms/step - loss: 17488.7207 - mean_absolute_error: 104.3221 - mean_squared_error: 17488.7207 - val_loss: 18265.8418 - val_mean_absolute_error: 110.7738 - val_mean_squared_error: 18265.8418\n",
            "Epoch 60/300\n",
            "\u001b[1m5/5\u001b[0m \u001b[32m━━━━━━━━━━━━━━━━━━━━\u001b[0m\u001b[37m\u001b[0m \u001b[1m0s\u001b[0m 15ms/step - loss: 15979.7129 - mean_absolute_error: 97.5607 - mean_squared_error: 15979.7129 - val_loss: 18121.4590 - val_mean_absolute_error: 110.2125 - val_mean_squared_error: 18121.4590\n",
            "Epoch 61/300\n",
            "\u001b[1m5/5\u001b[0m \u001b[32m━━━━━━━━━━━━━━━━━━━━\u001b[0m\u001b[37m\u001b[0m \u001b[1m0s\u001b[0m 10ms/step - loss: 10318.6074 - mean_absolute_error: 80.7856 - mean_squared_error: 10318.6074 - val_loss: 17883.3203 - val_mean_absolute_error: 109.2034 - val_mean_squared_error: 17883.3203\n",
            "Epoch 62/300\n",
            "\u001b[1m5/5\u001b[0m \u001b[32m━━━━━━━━━━━━━━━━━━━━\u001b[0m\u001b[37m\u001b[0m \u001b[1m0s\u001b[0m 13ms/step - loss: 10933.3223 - mean_absolute_error: 82.8286 - mean_squared_error: 10933.3213 - val_loss: 17820.9746 - val_mean_absolute_error: 109.1465 - val_mean_squared_error: 17820.9746\n",
            "Epoch 63/300\n",
            "\u001b[1m5/5\u001b[0m \u001b[32m━━━━━━━━━━━━━━━━━━━━\u001b[0m\u001b[37m\u001b[0m \u001b[1m0s\u001b[0m 9ms/step - loss: 14093.1172 - mean_absolute_error: 92.3761 - mean_squared_error: 14093.1172 - val_loss: 17559.5566 - val_mean_absolute_error: 107.9277 - val_mean_squared_error: 17559.5566\n",
            "Epoch 64/300\n",
            "\u001b[1m5/5\u001b[0m \u001b[32m━━━━━━━━━━━━━━━━━━━━\u001b[0m\u001b[37m\u001b[0m \u001b[1m0s\u001b[0m 15ms/step - loss: 11259.5869 - mean_absolute_error: 83.8508 - mean_squared_error: 11259.5869 - val_loss: 17593.6914 - val_mean_absolute_error: 108.3560 - val_mean_squared_error: 17593.6914\n",
            "Epoch 65/300\n",
            "\u001b[1m5/5\u001b[0m \u001b[32m━━━━━━━━━━━━━━━━━━━━\u001b[0m\u001b[37m\u001b[0m \u001b[1m0s\u001b[0m 13ms/step - loss: 12882.0029 - mean_absolute_error: 85.5827 - mean_squared_error: 12882.0029 - val_loss: 17438.1777 - val_mean_absolute_error: 107.6279 - val_mean_squared_error: 17438.1777\n",
            "Epoch 66/300\n",
            "\u001b[1m5/5\u001b[0m \u001b[32m━━━━━━━━━━━━━━━━━━━━\u001b[0m\u001b[37m\u001b[0m \u001b[1m0s\u001b[0m 9ms/step - loss: 11312.2520 - mean_absolute_error: 86.7630 - mean_squared_error: 11312.2520 - val_loss: 17196.7852 - val_mean_absolute_error: 106.6450 - val_mean_squared_error: 17196.7852\n",
            "Epoch 67/300\n",
            "\u001b[1m5/5\u001b[0m \u001b[32m━━━━━━━━━━━━━━━━━━━━\u001b[0m\u001b[37m\u001b[0m \u001b[1m0s\u001b[0m 11ms/step - loss: 11389.4082 - mean_absolute_error: 85.3233 - mean_squared_error: 11389.4082 - val_loss: 17029.7090 - val_mean_absolute_error: 105.9837 - val_mean_squared_error: 17029.7090\n",
            "Epoch 68/300\n",
            "\u001b[1m5/5\u001b[0m \u001b[32m━━━━━━━━━━━━━━━━━━━━\u001b[0m\u001b[37m\u001b[0m \u001b[1m0s\u001b[0m 9ms/step - loss: 11186.9678 - mean_absolute_error: 83.0428 - mean_squared_error: 11186.9678 - val_loss: 16882.0898 - val_mean_absolute_error: 105.3791 - val_mean_squared_error: 16882.0898\n",
            "Epoch 69/300\n",
            "\u001b[1m5/5\u001b[0m \u001b[32m━━━━━━━━━━━━━━━━━━━━\u001b[0m\u001b[37m\u001b[0m \u001b[1m0s\u001b[0m 13ms/step - loss: 10590.3477 - mean_absolute_error: 83.1553 - mean_squared_error: 10590.3477 - val_loss: 16849.5469 - val_mean_absolute_error: 105.4794 - val_mean_squared_error: 16849.5469\n",
            "Epoch 70/300\n",
            "\u001b[1m5/5\u001b[0m \u001b[32m━━━━━━━━━━━━━━━━━━━━\u001b[0m\u001b[37m\u001b[0m \u001b[1m0s\u001b[0m 9ms/step - loss: 10321.8555 - mean_absolute_error: 79.0575 - mean_squared_error: 10321.8555 - val_loss: 16677.5371 - val_mean_absolute_error: 104.8892 - val_mean_squared_error: 16677.5371\n",
            "Epoch 71/300\n",
            "\u001b[1m5/5\u001b[0m \u001b[32m━━━━━━━━━━━━━━━━━━━━\u001b[0m\u001b[37m\u001b[0m \u001b[1m0s\u001b[0m 10ms/step - loss: 10692.3711 - mean_absolute_error: 81.4421 - mean_squared_error: 10692.3711 - val_loss: 16529.6289 - val_mean_absolute_error: 104.3959 - val_mean_squared_error: 16529.6289\n",
            "Epoch 72/300\n",
            "\u001b[1m5/5\u001b[0m \u001b[32m━━━━━━━━━━━━━━━━━━━━\u001b[0m\u001b[37m\u001b[0m \u001b[1m0s\u001b[0m 10ms/step - loss: 11194.1875 - mean_absolute_error: 86.8895 - mean_squared_error: 11194.1875 - val_loss: 16271.5918 - val_mean_absolute_error: 103.2510 - val_mean_squared_error: 16271.5918\n",
            "Epoch 73/300\n",
            "\u001b[1m5/5\u001b[0m \u001b[32m━━━━━━━━━━━━━━━━━━━━\u001b[0m\u001b[37m\u001b[0m \u001b[1m0s\u001b[0m 10ms/step - loss: 10577.2070 - mean_absolute_error: 83.8364 - mean_squared_error: 10577.2070 - val_loss: 16114.0801 - val_mean_absolute_error: 102.7103 - val_mean_squared_error: 16114.0801\n",
            "Epoch 74/300\n",
            "\u001b[1m5/5\u001b[0m \u001b[32m━━━━━━━━━━━━━━━━━━━━\u001b[0m\u001b[37m\u001b[0m \u001b[1m0s\u001b[0m 14ms/step - loss: 14505.3262 - mean_absolute_error: 98.1154 - mean_squared_error: 14505.3262 - val_loss: 16008.9688 - val_mean_absolute_error: 102.2887 - val_mean_squared_error: 16008.9688\n",
            "Epoch 75/300\n",
            "\u001b[1m5/5\u001b[0m \u001b[32m━━━━━━━━━━━━━━━━━━━━\u001b[0m\u001b[37m\u001b[0m \u001b[1m0s\u001b[0m 16ms/step - loss: 8192.9209 - mean_absolute_error: 73.8451 - mean_squared_error: 8192.9209 - val_loss: 15822.0625 - val_mean_absolute_error: 101.8133 - val_mean_squared_error: 15822.0625\n",
            "Epoch 76/300\n",
            "\u001b[1m5/5\u001b[0m \u001b[32m━━━━━━━━━━━━━━━━━━━━\u001b[0m\u001b[37m\u001b[0m \u001b[1m0s\u001b[0m 16ms/step - loss: 9292.9043 - mean_absolute_error: 77.6895 - mean_squared_error: 9292.9043 - val_loss: 15602.3809 - val_mean_absolute_error: 100.7809 - val_mean_squared_error: 15602.3809\n",
            "Epoch 77/300\n",
            "\u001b[1m5/5\u001b[0m \u001b[32m━━━━━━━━━━━━━━━━━━━━\u001b[0m\u001b[37m\u001b[0m \u001b[1m0s\u001b[0m 14ms/step - loss: 12535.3076 - mean_absolute_error: 88.3143 - mean_squared_error: 12535.3076 - val_loss: 15442.5137 - val_mean_absolute_error: 100.1958 - val_mean_squared_error: 15442.5137\n",
            "Epoch 78/300\n",
            "\u001b[1m5/5\u001b[0m \u001b[32m━━━━━━━━━━━━━━━━━━━━\u001b[0m\u001b[37m\u001b[0m \u001b[1m0s\u001b[0m 10ms/step - loss: 10782.8584 - mean_absolute_error: 81.6798 - mean_squared_error: 10782.8584 - val_loss: 15399.8027 - val_mean_absolute_error: 100.2518 - val_mean_squared_error: 15399.8027\n",
            "Epoch 79/300\n",
            "\u001b[1m5/5\u001b[0m \u001b[32m━━━━━━━━━━━━━━━━━━━━\u001b[0m\u001b[37m\u001b[0m \u001b[1m0s\u001b[0m 9ms/step - loss: 7418.5444 - mean_absolute_error: 67.8665 - mean_squared_error: 7418.5444 - val_loss: 15322.5371 - val_mean_absolute_error: 100.2583 - val_mean_squared_error: 15322.5371\n",
            "Epoch 80/300\n",
            "\u001b[1m5/5\u001b[0m \u001b[32m━━━━━━━━━━━━━━━━━━━━\u001b[0m\u001b[37m\u001b[0m \u001b[1m0s\u001b[0m 10ms/step - loss: 9151.6309 - mean_absolute_error: 79.1105 - mean_squared_error: 9151.6309 - val_loss: 15228.4971 - val_mean_absolute_error: 100.1838 - val_mean_squared_error: 15228.4971\n",
            "Epoch 81/300\n",
            "\u001b[1m5/5\u001b[0m \u001b[32m━━━━━━━━━━━━━━━━━━━━\u001b[0m\u001b[37m\u001b[0m \u001b[1m0s\u001b[0m 10ms/step - loss: 8466.3428 - mean_absolute_error: 74.3791 - mean_squared_error: 8466.3428 - val_loss: 15106.9980 - val_mean_absolute_error: 100.1285 - val_mean_squared_error: 15106.9980\n",
            "Epoch 82/300\n",
            "\u001b[1m5/5\u001b[0m \u001b[32m━━━━━━━━━━━━━━━━━━━━\u001b[0m\u001b[37m\u001b[0m \u001b[1m0s\u001b[0m 9ms/step - loss: 7765.2842 - mean_absolute_error: 71.8353 - mean_squared_error: 7765.2842 - val_loss: 14961.9873 - val_mean_absolute_error: 99.5804 - val_mean_squared_error: 14961.9873\n",
            "Epoch 83/300\n",
            "\u001b[1m5/5\u001b[0m \u001b[32m━━━━━━━━━━━━━━━━━━━━\u001b[0m\u001b[37m\u001b[0m \u001b[1m0s\u001b[0m 13ms/step - loss: 8690.8701 - mean_absolute_error: 75.8549 - mean_squared_error: 8690.8701 - val_loss: 14869.1660 - val_mean_absolute_error: 99.0596 - val_mean_squared_error: 14869.1660\n",
            "Epoch 84/300\n",
            "\u001b[1m5/5\u001b[0m \u001b[32m━━━━━━━━━━━━━━━━━━━━\u001b[0m\u001b[37m\u001b[0m \u001b[1m0s\u001b[0m 15ms/step - loss: 10195.2471 - mean_absolute_error: 81.2775 - mean_squared_error: 10195.2471 - val_loss: 14872.8799 - val_mean_absolute_error: 99.4099 - val_mean_squared_error: 14872.8799\n",
            "Epoch 85/300\n",
            "\u001b[1m5/5\u001b[0m \u001b[32m━━━━━━━━━━━━━━━━━━━━\u001b[0m\u001b[37m\u001b[0m \u001b[1m0s\u001b[0m 10ms/step - loss: 10015.2969 - mean_absolute_error: 81.4499 - mean_squared_error: 10015.2969 - val_loss: 14718.4971 - val_mean_absolute_error: 98.6760 - val_mean_squared_error: 14718.4971\n",
            "Epoch 86/300\n",
            "\u001b[1m5/5\u001b[0m \u001b[32m━━━━━━━━━━━━━━━━━━━━\u001b[0m\u001b[37m\u001b[0m \u001b[1m0s\u001b[0m 12ms/step - loss: 6945.0845 - mean_absolute_error: 66.3613 - mean_squared_error: 6945.0845 - val_loss: 14721.7441 - val_mean_absolute_error: 99.1221 - val_mean_squared_error: 14721.7441\n",
            "Epoch 87/300\n",
            "\u001b[1m5/5\u001b[0m \u001b[32m━━━━━━━━━━━━━━━━━━━━\u001b[0m\u001b[37m\u001b[0m \u001b[1m0s\u001b[0m 15ms/step - loss: 7181.3379 - mean_absolute_error: 67.8056 - mean_squared_error: 7181.3379 - val_loss: 14659.3379 - val_mean_absolute_error: 99.3190 - val_mean_squared_error: 14659.3379\n",
            "Epoch 88/300\n",
            "\u001b[1m5/5\u001b[0m \u001b[32m━━━━━━━━━━━━━━━━━━━━\u001b[0m\u001b[37m\u001b[0m \u001b[1m0s\u001b[0m 10ms/step - loss: 8852.4443 - mean_absolute_error: 71.9515 - mean_squared_error: 8852.4443 - val_loss: 14380.8389 - val_mean_absolute_error: 97.7807 - val_mean_squared_error: 14380.8389\n",
            "Epoch 89/300\n",
            "\u001b[1m5/5\u001b[0m \u001b[32m━━━━━━━━━━━━━━━━━━━━\u001b[0m\u001b[37m\u001b[0m \u001b[1m0s\u001b[0m 13ms/step - loss: 10734.3232 - mean_absolute_error: 83.6493 - mean_squared_error: 10734.3232 - val_loss: 14239.1387 - val_mean_absolute_error: 97.3163 - val_mean_squared_error: 14239.1387\n",
            "Epoch 90/300\n",
            "\u001b[1m5/5\u001b[0m \u001b[32m━━━━━━━━━━━━━━━━━━━━\u001b[0m\u001b[37m\u001b[0m \u001b[1m0s\u001b[0m 13ms/step - loss: 7677.0879 - mean_absolute_error: 70.1322 - mean_squared_error: 7677.0879 - val_loss: 14278.9316 - val_mean_absolute_error: 98.0630 - val_mean_squared_error: 14278.9316\n",
            "Epoch 91/300\n",
            "\u001b[1m5/5\u001b[0m \u001b[32m━━━━━━━━━━━━━━━━━━━━\u001b[0m\u001b[37m\u001b[0m \u001b[1m0s\u001b[0m 9ms/step - loss: 7466.9390 - mean_absolute_error: 67.9627 - mean_squared_error: 7466.9390 - val_loss: 14098.8027 - val_mean_absolute_error: 97.5420 - val_mean_squared_error: 14098.8027\n",
            "Epoch 92/300\n",
            "\u001b[1m5/5\u001b[0m \u001b[32m━━━━━━━━━━━━━━━━━━━━\u001b[0m\u001b[37m\u001b[0m \u001b[1m0s\u001b[0m 9ms/step - loss: 6485.5352 - mean_absolute_error: 65.3836 - mean_squared_error: 6485.5352 - val_loss: 13934.5674 - val_mean_absolute_error: 96.9662 - val_mean_squared_error: 13934.5674\n",
            "Epoch 93/300\n",
            "\u001b[1m5/5\u001b[0m \u001b[32m━━━━━━━━━━━━━━━━━━━━\u001b[0m\u001b[37m\u001b[0m \u001b[1m0s\u001b[0m 9ms/step - loss: 8130.2236 - mean_absolute_error: 70.7767 - mean_squared_error: 8130.2236 - val_loss: 13941.5410 - val_mean_absolute_error: 97.2587 - val_mean_squared_error: 13941.5410\n",
            "Epoch 94/300\n",
            "\u001b[1m5/5\u001b[0m \u001b[32m━━━━━━━━━━━━━━━━━━━━\u001b[0m\u001b[37m\u001b[0m \u001b[1m0s\u001b[0m 9ms/step - loss: 7270.2681 - mean_absolute_error: 70.1865 - mean_squared_error: 7270.2681 - val_loss: 13963.5811 - val_mean_absolute_error: 97.8513 - val_mean_squared_error: 13963.5811\n",
            "Epoch 95/300\n",
            "\u001b[1m5/5\u001b[0m \u001b[32m━━━━━━━━━━━━━━━━━━━━\u001b[0m\u001b[37m\u001b[0m \u001b[1m0s\u001b[0m 10ms/step - loss: 7742.5576 - mean_absolute_error: 71.0987 - mean_squared_error: 7742.5576 - val_loss: 13786.4736 - val_mean_absolute_error: 97.1846 - val_mean_squared_error: 13786.4736\n",
            "Epoch 96/300\n",
            "\u001b[1m5/5\u001b[0m \u001b[32m━━━━━━━━━━━━━━━━━━━━\u001b[0m\u001b[37m\u001b[0m \u001b[1m0s\u001b[0m 15ms/step - loss: 6669.0874 - mean_absolute_error: 65.3678 - mean_squared_error: 6669.0874 - val_loss: 13568.0293 - val_mean_absolute_error: 96.2420 - val_mean_squared_error: 13568.0293\n",
            "Epoch 97/300\n",
            "\u001b[1m5/5\u001b[0m \u001b[32m━━━━━━━━━━━━━━━━━━━━\u001b[0m\u001b[37m\u001b[0m \u001b[1m0s\u001b[0m 10ms/step - loss: 7451.7070 - mean_absolute_error: 68.1142 - mean_squared_error: 7451.7070 - val_loss: 13416.3252 - val_mean_absolute_error: 95.6245 - val_mean_squared_error: 13416.3252\n",
            "Epoch 98/300\n",
            "\u001b[1m5/5\u001b[0m \u001b[32m━━━━━━━━━━━━━━━━━━━━\u001b[0m\u001b[37m\u001b[0m \u001b[1m0s\u001b[0m 14ms/step - loss: 8038.8555 - mean_absolute_error: 69.3252 - mean_squared_error: 8038.8555 - val_loss: 13272.9688 - val_mean_absolute_error: 94.7921 - val_mean_squared_error: 13272.9688\n",
            "Epoch 99/300\n",
            "\u001b[1m5/5\u001b[0m \u001b[32m━━━━━━━━━━━━━━━━━━━━\u001b[0m\u001b[37m\u001b[0m \u001b[1m0s\u001b[0m 9ms/step - loss: 8585.6426 - mean_absolute_error: 73.2402 - mean_squared_error: 8585.6426 - val_loss: 13136.3330 - val_mean_absolute_error: 94.0491 - val_mean_squared_error: 13136.3330\n",
            "Epoch 100/300\n",
            "\u001b[1m5/5\u001b[0m \u001b[32m━━━━━━━━━━━━━━━━━━━━\u001b[0m\u001b[37m\u001b[0m \u001b[1m0s\u001b[0m 14ms/step - loss: 8765.9473 - mean_absolute_error: 72.9986 - mean_squared_error: 8765.9473 - val_loss: 12938.4404 - val_mean_absolute_error: 93.0385 - val_mean_squared_error: 12938.4404\n",
            "Epoch 101/300\n",
            "\u001b[1m5/5\u001b[0m \u001b[32m━━━━━━━━━━━━━━━━━━━━\u001b[0m\u001b[37m\u001b[0m \u001b[1m0s\u001b[0m 10ms/step - loss: 5953.8218 - mean_absolute_error: 64.4506 - mean_squared_error: 5953.8218 - val_loss: 12903.0078 - val_mean_absolute_error: 93.2915 - val_mean_squared_error: 12903.0078\n",
            "Epoch 102/300\n",
            "\u001b[1m5/5\u001b[0m \u001b[32m━━━━━━━━━━━━━━━━━━━━\u001b[0m\u001b[37m\u001b[0m \u001b[1m0s\u001b[0m 14ms/step - loss: 7355.3887 - mean_absolute_error: 65.6091 - mean_squared_error: 7355.3887 - val_loss: 12898.4824 - val_mean_absolute_error: 93.6657 - val_mean_squared_error: 12898.4824\n",
            "Epoch 103/300\n",
            "\u001b[1m5/5\u001b[0m \u001b[32m━━━━━━━━━━━━━━━━━━━━\u001b[0m\u001b[37m\u001b[0m \u001b[1m0s\u001b[0m 14ms/step - loss: 7365.1694 - mean_absolute_error: 68.4615 - mean_squared_error: 7365.1694 - val_loss: 12852.9189 - val_mean_absolute_error: 93.8065 - val_mean_squared_error: 12852.9189\n",
            "Epoch 104/300\n",
            "\u001b[1m5/5\u001b[0m \u001b[32m━━━━━━━━━━━━━━━━━━━━\u001b[0m\u001b[37m\u001b[0m \u001b[1m0s\u001b[0m 14ms/step - loss: 7716.1587 - mean_absolute_error: 68.8674 - mean_squared_error: 7716.1587 - val_loss: 12885.9277 - val_mean_absolute_error: 94.2455 - val_mean_squared_error: 12885.9277\n",
            "Epoch 105/300\n",
            "\u001b[1m5/5\u001b[0m \u001b[32m━━━━━━━━━━━━━━━━━━━━\u001b[0m\u001b[37m\u001b[0m \u001b[1m0s\u001b[0m 11ms/step - loss: 6549.7324 - mean_absolute_error: 66.0128 - mean_squared_error: 6549.7324 - val_loss: 12879.9863 - val_mean_absolute_error: 94.6146 - val_mean_squared_error: 12879.9863\n",
            "Epoch 106/300\n",
            "\u001b[1m5/5\u001b[0m \u001b[32m━━━━━━━━━━━━━━━━━━━━\u001b[0m\u001b[37m\u001b[0m \u001b[1m0s\u001b[0m 13ms/step - loss: 5791.2368 - mean_absolute_error: 59.9498 - mean_squared_error: 5791.2368 - val_loss: 12867.6621 - val_mean_absolute_error: 94.7776 - val_mean_squared_error: 12867.6621\n",
            "Epoch 107/300\n",
            "\u001b[1m5/5\u001b[0m \u001b[32m━━━━━━━━━━━━━━━━━━━━\u001b[0m\u001b[37m\u001b[0m \u001b[1m0s\u001b[0m 14ms/step - loss: 6469.9678 - mean_absolute_error: 65.9640 - mean_squared_error: 6469.9678 - val_loss: 12623.0410 - val_mean_absolute_error: 93.3890 - val_mean_squared_error: 12623.0410\n",
            "Epoch 108/300\n",
            "\u001b[1m5/5\u001b[0m \u001b[32m━━━━━━━━━━━━━━━━━━━━\u001b[0m\u001b[37m\u001b[0m \u001b[1m0s\u001b[0m 10ms/step - loss: 6241.6626 - mean_absolute_error: 61.8452 - mean_squared_error: 6241.6626 - val_loss: 12392.7686 - val_mean_absolute_error: 92.2258 - val_mean_squared_error: 12392.7686\n",
            "Epoch 109/300\n",
            "\u001b[1m5/5\u001b[0m \u001b[32m━━━━━━━━━━━━━━━━━━━━\u001b[0m\u001b[37m\u001b[0m \u001b[1m0s\u001b[0m 10ms/step - loss: 7160.2437 - mean_absolute_error: 69.5274 - mean_squared_error: 7160.2437 - val_loss: 12293.5635 - val_mean_absolute_error: 91.9161 - val_mean_squared_error: 12293.5635\n",
            "Epoch 110/300\n",
            "\u001b[1m5/5\u001b[0m \u001b[32m━━━━━━━━━━━━━━━━━━━━\u001b[0m\u001b[37m\u001b[0m \u001b[1m0s\u001b[0m 11ms/step - loss: 6513.7705 - mean_absolute_error: 63.4828 - mean_squared_error: 6513.7705 - val_loss: 12138.7441 - val_mean_absolute_error: 91.2439 - val_mean_squared_error: 12138.7441\n",
            "Epoch 111/300\n",
            "\u001b[1m5/5\u001b[0m \u001b[32m━━━━━━━━━━━━━━━━━━━━\u001b[0m\u001b[37m\u001b[0m \u001b[1m0s\u001b[0m 9ms/step - loss: 5898.8535 - mean_absolute_error: 63.2860 - mean_squared_error: 5898.8535 - val_loss: 12098.7568 - val_mean_absolute_error: 91.3347 - val_mean_squared_error: 12098.7568\n",
            "Epoch 112/300\n",
            "\u001b[1m5/5\u001b[0m \u001b[32m━━━━━━━━━━━━━━━━━━━━\u001b[0m\u001b[37m\u001b[0m \u001b[1m0s\u001b[0m 10ms/step - loss: 6634.3037 - mean_absolute_error: 65.5777 - mean_squared_error: 6634.3037 - val_loss: 12012.0674 - val_mean_absolute_error: 91.2926 - val_mean_squared_error: 12012.0674\n",
            "Epoch 113/300\n",
            "\u001b[1m5/5\u001b[0m \u001b[32m━━━━━━━━━━━━━━━━━━━━\u001b[0m\u001b[37m\u001b[0m \u001b[1m0s\u001b[0m 10ms/step - loss: 6303.4697 - mean_absolute_error: 63.7606 - mean_squared_error: 6303.4697 - val_loss: 12032.0625 - val_mean_absolute_error: 91.7388 - val_mean_squared_error: 12032.0625\n",
            "Epoch 114/300\n",
            "\u001b[1m5/5\u001b[0m \u001b[32m━━━━━━━━━━━━━━━━━━━━\u001b[0m\u001b[37m\u001b[0m \u001b[1m0s\u001b[0m 17ms/step - loss: 7137.8096 - mean_absolute_error: 67.7854 - mean_squared_error: 7137.8096 - val_loss: 11986.1016 - val_mean_absolute_error: 91.7226 - val_mean_squared_error: 11986.1016\n",
            "Epoch 115/300\n",
            "\u001b[1m5/5\u001b[0m \u001b[32m━━━━━━━━━━━━━━━━━━━━\u001b[0m\u001b[37m\u001b[0m \u001b[1m0s\u001b[0m 14ms/step - loss: 6720.4082 - mean_absolute_error: 67.7605 - mean_squared_error: 6720.4082 - val_loss: 11892.2842 - val_mean_absolute_error: 91.4156 - val_mean_squared_error: 11892.2842\n",
            "Epoch 116/300\n",
            "\u001b[1m5/5\u001b[0m \u001b[32m━━━━━━━━━━━━━━━━━━━━\u001b[0m\u001b[37m\u001b[0m \u001b[1m0s\u001b[0m 11ms/step - loss: 5645.0752 - mean_absolute_error: 59.5168 - mean_squared_error: 5645.0752 - val_loss: 11876.7178 - val_mean_absolute_error: 91.6469 - val_mean_squared_error: 11876.7178\n",
            "Epoch 117/300\n",
            "\u001b[1m5/5\u001b[0m \u001b[32m━━━━━━━━━━━━━━━━━━━━\u001b[0m\u001b[37m\u001b[0m \u001b[1m0s\u001b[0m 10ms/step - loss: 5499.9907 - mean_absolute_error: 56.6526 - mean_squared_error: 5499.9907 - val_loss: 11756.5098 - val_mean_absolute_error: 91.0139 - val_mean_squared_error: 11756.5098\n",
            "Epoch 118/300\n",
            "\u001b[1m5/5\u001b[0m \u001b[32m━━━━━━━━━━━━━━━━━━━━\u001b[0m\u001b[37m\u001b[0m \u001b[1m0s\u001b[0m 10ms/step - loss: 6136.4526 - mean_absolute_error: 63.2642 - mean_squared_error: 6136.4526 - val_loss: 11654.8975 - val_mean_absolute_error: 90.6725 - val_mean_squared_error: 11654.8975\n",
            "Epoch 119/300\n",
            "\u001b[1m5/5\u001b[0m \u001b[32m━━━━━━━━━━━━━━━━━━━━\u001b[0m\u001b[37m\u001b[0m \u001b[1m0s\u001b[0m 9ms/step - loss: 6060.3276 - mean_absolute_error: 62.1035 - mean_squared_error: 6060.3276 - val_loss: 11562.0596 - val_mean_absolute_error: 90.1225 - val_mean_squared_error: 11562.0596\n",
            "Epoch 120/300\n",
            "\u001b[1m5/5\u001b[0m \u001b[32m━━━━━━━━━━━━━━━━━━━━\u001b[0m\u001b[37m\u001b[0m \u001b[1m0s\u001b[0m 14ms/step - loss: 5423.5225 - mean_absolute_error: 57.5097 - mean_squared_error: 5423.5225 - val_loss: 11426.1152 - val_mean_absolute_error: 89.4072 - val_mean_squared_error: 11426.1152\n",
            "Epoch 121/300\n",
            "\u001b[1m5/5\u001b[0m \u001b[32m━━━━━━━━━━━━━━━━━━━━\u001b[0m\u001b[37m\u001b[0m \u001b[1m0s\u001b[0m 9ms/step - loss: 7695.7246 - mean_absolute_error: 69.4588 - mean_squared_error: 7695.7246 - val_loss: 11411.2314 - val_mean_absolute_error: 89.5815 - val_mean_squared_error: 11411.2314\n",
            "Epoch 122/300\n",
            "\u001b[1m5/5\u001b[0m \u001b[32m━━━━━━━━━━━━━━━━━━━━\u001b[0m\u001b[37m\u001b[0m \u001b[1m0s\u001b[0m 16ms/step - loss: 5353.3784 - mean_absolute_error: 56.5041 - mean_squared_error: 5353.3784 - val_loss: 11353.2676 - val_mean_absolute_error: 89.4647 - val_mean_squared_error: 11353.2676\n",
            "Epoch 123/300\n",
            "\u001b[1m5/5\u001b[0m \u001b[32m━━━━━━━━━━━━━━━━━━━━\u001b[0m\u001b[37m\u001b[0m \u001b[1m0s\u001b[0m 10ms/step - loss: 5605.4805 - mean_absolute_error: 60.6819 - mean_squared_error: 5605.4805 - val_loss: 11285.7363 - val_mean_absolute_error: 89.3734 - val_mean_squared_error: 11285.7363\n",
            "Epoch 124/300\n",
            "\u001b[1m5/5\u001b[0m \u001b[32m━━━━━━━━━━━━━━━━━━━━\u001b[0m\u001b[37m\u001b[0m \u001b[1m0s\u001b[0m 9ms/step - loss: 6402.0312 - mean_absolute_error: 65.8322 - mean_squared_error: 6402.0312 - val_loss: 11226.4482 - val_mean_absolute_error: 89.1979 - val_mean_squared_error: 11226.4482\n",
            "Epoch 125/300\n",
            "\u001b[1m5/5\u001b[0m \u001b[32m━━━━━━━━━━━━━━━━━━━━\u001b[0m\u001b[37m\u001b[0m \u001b[1m0s\u001b[0m 15ms/step - loss: 5472.6543 - mean_absolute_error: 58.3926 - mean_squared_error: 5472.6543 - val_loss: 11132.8252 - val_mean_absolute_error: 88.8402 - val_mean_squared_error: 11132.8252\n",
            "Epoch 126/300\n",
            "\u001b[1m5/5\u001b[0m \u001b[32m━━━━━━━━━━━━━━━━━━━━\u001b[0m\u001b[37m\u001b[0m \u001b[1m0s\u001b[0m 14ms/step - loss: 5987.7021 - mean_absolute_error: 64.3420 - mean_squared_error: 5987.7021 - val_loss: 11188.1719 - val_mean_absolute_error: 89.3579 - val_mean_squared_error: 11188.1719\n",
            "Epoch 127/300\n",
            "\u001b[1m5/5\u001b[0m \u001b[32m━━━━━━━━━━━━━━━━━━━━\u001b[0m\u001b[37m\u001b[0m \u001b[1m0s\u001b[0m 14ms/step - loss: 5077.1597 - mean_absolute_error: 56.1392 - mean_squared_error: 5077.1597 - val_loss: 11193.6406 - val_mean_absolute_error: 89.6504 - val_mean_squared_error: 11193.6406\n",
            "Epoch 128/300\n",
            "\u001b[1m5/5\u001b[0m \u001b[32m━━━━━━━━━━━━━━━━━━━━\u001b[0m\u001b[37m\u001b[0m \u001b[1m0s\u001b[0m 9ms/step - loss: 5827.7788 - mean_absolute_error: 60.3092 - mean_squared_error: 5827.7788 - val_loss: 11010.6152 - val_mean_absolute_error: 88.6497 - val_mean_squared_error: 11010.6152\n",
            "Epoch 129/300\n",
            "\u001b[1m5/5\u001b[0m \u001b[32m━━━━━━━━━━━━━━━━━━━━\u001b[0m\u001b[37m\u001b[0m \u001b[1m0s\u001b[0m 10ms/step - loss: 6025.4849 - mean_absolute_error: 61.4891 - mean_squared_error: 6025.4849 - val_loss: 10920.1660 - val_mean_absolute_error: 88.3547 - val_mean_squared_error: 10920.1660\n",
            "Epoch 130/300\n",
            "\u001b[1m5/5\u001b[0m \u001b[32m━━━━━━━━━━━━━━━━━━━━\u001b[0m\u001b[37m\u001b[0m \u001b[1m0s\u001b[0m 9ms/step - loss: 4583.7920 - mean_absolute_error: 54.6592 - mean_squared_error: 4583.7920 - val_loss: 10838.1426 - val_mean_absolute_error: 88.0863 - val_mean_squared_error: 10838.1426\n",
            "Epoch 131/300\n",
            "\u001b[1m5/5\u001b[0m \u001b[32m━━━━━━━━━━━━━━━━━━━━\u001b[0m\u001b[37m\u001b[0m \u001b[1m0s\u001b[0m 10ms/step - loss: 5453.2500 - mean_absolute_error: 59.8896 - mean_squared_error: 5453.2500 - val_loss: 10815.6230 - val_mean_absolute_error: 88.1724 - val_mean_squared_error: 10815.6230\n",
            "Epoch 132/300\n",
            "\u001b[1m5/5\u001b[0m \u001b[32m━━━━━━━━━━━━━━━━━━━━\u001b[0m\u001b[37m\u001b[0m \u001b[1m0s\u001b[0m 11ms/step - loss: 4996.0044 - mean_absolute_error: 56.1448 - mean_squared_error: 4996.0044 - val_loss: 10689.5488 - val_mean_absolute_error: 87.4752 - val_mean_squared_error: 10689.5488\n",
            "Epoch 133/300\n",
            "\u001b[1m5/5\u001b[0m \u001b[32m━━━━━━━━━━━━━━━━━━━━\u001b[0m\u001b[37m\u001b[0m \u001b[1m0s\u001b[0m 14ms/step - loss: 4752.3145 - mean_absolute_error: 55.3238 - mean_squared_error: 4752.3145 - val_loss: 10691.5439 - val_mean_absolute_error: 87.6967 - val_mean_squared_error: 10691.5439\n",
            "Epoch 134/300\n",
            "\u001b[1m5/5\u001b[0m \u001b[32m━━━━━━━━━━━━━━━━━━━━\u001b[0m\u001b[37m\u001b[0m \u001b[1m0s\u001b[0m 23ms/step - loss: 5382.5166 - mean_absolute_error: 55.3117 - mean_squared_error: 5382.5166 - val_loss: 10660.3486 - val_mean_absolute_error: 87.7346 - val_mean_squared_error: 10660.3486\n",
            "Epoch 135/300\n",
            "\u001b[1m5/5\u001b[0m \u001b[32m━━━━━━━━━━━━━━━━━━━━\u001b[0m\u001b[37m\u001b[0m \u001b[1m0s\u001b[0m 15ms/step - loss: 5222.2588 - mean_absolute_error: 58.2112 - mean_squared_error: 5222.2588 - val_loss: 10507.9863 - val_mean_absolute_error: 86.9506 - val_mean_squared_error: 10507.9863\n",
            "Epoch 136/300\n",
            "\u001b[1m5/5\u001b[0m \u001b[32m━━━━━━━━━━━━━━━━━━━━\u001b[0m\u001b[37m\u001b[0m \u001b[1m0s\u001b[0m 15ms/step - loss: 6059.9609 - mean_absolute_error: 62.4990 - mean_squared_error: 6059.9609 - val_loss: 10462.1309 - val_mean_absolute_error: 86.7819 - val_mean_squared_error: 10462.1309\n",
            "Epoch 137/300\n",
            "\u001b[1m5/5\u001b[0m \u001b[32m━━━━━━━━━━━━━━━━━━━━\u001b[0m\u001b[37m\u001b[0m \u001b[1m0s\u001b[0m 16ms/step - loss: 4832.8677 - mean_absolute_error: 57.4462 - mean_squared_error: 4832.8677 - val_loss: 10348.4502 - val_mean_absolute_error: 86.1296 - val_mean_squared_error: 10348.4502\n",
            "Epoch 138/300\n",
            "\u001b[1m5/5\u001b[0m \u001b[32m━━━━━━━━━━━━━━━━━━━━\u001b[0m\u001b[37m\u001b[0m \u001b[1m0s\u001b[0m 12ms/step - loss: 5083.5938 - mean_absolute_error: 55.6707 - mean_squared_error: 5083.5938 - val_loss: 10320.4570 - val_mean_absolute_error: 86.1366 - val_mean_squared_error: 10320.4570\n",
            "Epoch 139/300\n",
            "\u001b[1m5/5\u001b[0m \u001b[32m━━━━━━━━━━━━━━━━━━━━\u001b[0m\u001b[37m\u001b[0m \u001b[1m0s\u001b[0m 19ms/step - loss: 5426.9521 - mean_absolute_error: 55.9310 - mean_squared_error: 5426.9521 - val_loss: 10257.9707 - val_mean_absolute_error: 85.9182 - val_mean_squared_error: 10257.9707\n",
            "Epoch 140/300\n",
            "\u001b[1m5/5\u001b[0m \u001b[32m━━━━━━━━━━━━━━━━━━━━\u001b[0m\u001b[37m\u001b[0m \u001b[1m0s\u001b[0m 18ms/step - loss: 4743.6953 - mean_absolute_error: 54.6103 - mean_squared_error: 4743.6953 - val_loss: 10104.7666 - val_mean_absolute_error: 85.0206 - val_mean_squared_error: 10104.7666\n",
            "Epoch 141/300\n",
            "\u001b[1m5/5\u001b[0m \u001b[32m━━━━━━━━━━━━━━━━━━━━\u001b[0m\u001b[37m\u001b[0m \u001b[1m0s\u001b[0m 17ms/step - loss: 4163.4282 - mean_absolute_error: 51.7685 - mean_squared_error: 4163.4282 - val_loss: 10046.6230 - val_mean_absolute_error: 84.8371 - val_mean_squared_error: 10046.6230\n",
            "Epoch 142/300\n",
            "\u001b[1m5/5\u001b[0m \u001b[32m━━━━━━━━━━━━━━━━━━━━\u001b[0m\u001b[37m\u001b[0m \u001b[1m0s\u001b[0m 11ms/step - loss: 5950.8115 - mean_absolute_error: 60.4514 - mean_squared_error: 5950.8115 - val_loss: 10184.6357 - val_mean_absolute_error: 86.0679 - val_mean_squared_error: 10184.6357\n",
            "Epoch 143/300\n",
            "\u001b[1m5/5\u001b[0m \u001b[32m━━━━━━━━━━━━━━━━━━━━\u001b[0m\u001b[37m\u001b[0m \u001b[1m0s\u001b[0m 17ms/step - loss: 4529.7866 - mean_absolute_error: 51.6153 - mean_squared_error: 4529.7866 - val_loss: 10218.4141 - val_mean_absolute_error: 86.5124 - val_mean_squared_error: 10218.4141\n",
            "Epoch 144/300\n",
            "\u001b[1m5/5\u001b[0m \u001b[32m━━━━━━━━━━━━━━━━━━━━\u001b[0m\u001b[37m\u001b[0m \u001b[1m0s\u001b[0m 20ms/step - loss: 3856.5852 - mean_absolute_error: 48.3630 - mean_squared_error: 3856.5852 - val_loss: 10016.8984 - val_mean_absolute_error: 85.2900 - val_mean_squared_error: 10016.8984\n",
            "Epoch 145/300\n",
            "\u001b[1m5/5\u001b[0m \u001b[32m━━━━━━━━━━━━━━━━━━━━\u001b[0m\u001b[37m\u001b[0m \u001b[1m0s\u001b[0m 15ms/step - loss: 4645.1860 - mean_absolute_error: 54.2534 - mean_squared_error: 4645.1860 - val_loss: 9978.0439 - val_mean_absolute_error: 85.1941 - val_mean_squared_error: 9978.0439\n",
            "Epoch 146/300\n",
            "\u001b[1m5/5\u001b[0m \u001b[32m━━━━━━━━━━━━━━━━━━━━\u001b[0m\u001b[37m\u001b[0m \u001b[1m0s\u001b[0m 21ms/step - loss: 5124.1797 - mean_absolute_error: 54.3474 - mean_squared_error: 5124.1797 - val_loss: 9825.6621 - val_mean_absolute_error: 84.3681 - val_mean_squared_error: 9825.6621\n",
            "Epoch 147/300\n",
            "\u001b[1m5/5\u001b[0m \u001b[32m━━━━━━━━━━━━━━━━━━━━\u001b[0m\u001b[37m\u001b[0m \u001b[1m0s\u001b[0m 25ms/step - loss: 4990.6025 - mean_absolute_error: 57.1166 - mean_squared_error: 4990.6025 - val_loss: 9782.5586 - val_mean_absolute_error: 84.2497 - val_mean_squared_error: 9782.5586\n",
            "Epoch 148/300\n",
            "\u001b[1m5/5\u001b[0m \u001b[32m━━━━━━━━━━━━━━━━━━━━\u001b[0m\u001b[37m\u001b[0m \u001b[1m0s\u001b[0m 16ms/step - loss: 4593.1172 - mean_absolute_error: 57.5835 - mean_squared_error: 4593.1172 - val_loss: 9738.2061 - val_mean_absolute_error: 84.0901 - val_mean_squared_error: 9738.2061\n",
            "Epoch 149/300\n",
            "\u001b[1m5/5\u001b[0m \u001b[32m━━━━━━━━━━━━━━━━━━━━\u001b[0m\u001b[37m\u001b[0m \u001b[1m0s\u001b[0m 22ms/step - loss: 4442.0454 - mean_absolute_error: 51.8470 - mean_squared_error: 4442.0454 - val_loss: 9777.8525 - val_mean_absolute_error: 84.5748 - val_mean_squared_error: 9777.8525\n",
            "Epoch 150/300\n",
            "\u001b[1m5/5\u001b[0m \u001b[32m━━━━━━━━━━━━━━━━━━━━\u001b[0m\u001b[37m\u001b[0m \u001b[1m0s\u001b[0m 16ms/step - loss: 4247.0903 - mean_absolute_error: 51.7135 - mean_squared_error: 4247.0903 - val_loss: 9664.5762 - val_mean_absolute_error: 83.9520 - val_mean_squared_error: 9664.5762\n",
            "Epoch 151/300\n",
            "\u001b[1m5/5\u001b[0m \u001b[32m━━━━━━━━━━━━━━━━━━━━\u001b[0m\u001b[37m\u001b[0m \u001b[1m0s\u001b[0m 14ms/step - loss: 3951.8081 - mean_absolute_error: 48.8737 - mean_squared_error: 3951.8081 - val_loss: 9713.7158 - val_mean_absolute_error: 84.4475 - val_mean_squared_error: 9713.7158\n",
            "Epoch 152/300\n",
            "\u001b[1m5/5\u001b[0m \u001b[32m━━━━━━━━━━━━━━━━━━━━\u001b[0m\u001b[37m\u001b[0m \u001b[1m0s\u001b[0m 19ms/step - loss: 4432.5620 - mean_absolute_error: 53.3764 - mean_squared_error: 4432.5620 - val_loss: 9652.4199 - val_mean_absolute_error: 84.2401 - val_mean_squared_error: 9652.4199\n",
            "Epoch 153/300\n",
            "\u001b[1m5/5\u001b[0m \u001b[32m━━━━━━━━━━━━━━━━━━━━\u001b[0m\u001b[37m\u001b[0m \u001b[1m0s\u001b[0m 14ms/step - loss: 4911.0649 - mean_absolute_error: 56.5285 - mean_squared_error: 4911.0649 - val_loss: 9479.7393 - val_mean_absolute_error: 83.2119 - val_mean_squared_error: 9479.7393\n",
            "Epoch 154/300\n",
            "\u001b[1m5/5\u001b[0m \u001b[32m━━━━━━━━━━━━━━━━━━━━\u001b[0m\u001b[37m\u001b[0m \u001b[1m0s\u001b[0m 9ms/step - loss: 3966.5923 - mean_absolute_error: 49.0975 - mean_squared_error: 3966.5923 - val_loss: 9401.1064 - val_mean_absolute_error: 82.8072 - val_mean_squared_error: 9401.1064\n",
            "Epoch 155/300\n",
            "\u001b[1m5/5\u001b[0m \u001b[32m━━━━━━━━━━━━━━━━━━━━\u001b[0m\u001b[37m\u001b[0m \u001b[1m0s\u001b[0m 15ms/step - loss: 5302.1567 - mean_absolute_error: 56.5887 - mean_squared_error: 5302.1567 - val_loss: 9327.3838 - val_mean_absolute_error: 82.5173 - val_mean_squared_error: 9327.3838\n",
            "Epoch 156/300\n",
            "\u001b[1m5/5\u001b[0m \u001b[32m━━━━━━━━━━━━━━━━━━━━\u001b[0m\u001b[37m\u001b[0m \u001b[1m0s\u001b[0m 12ms/step - loss: 4721.0234 - mean_absolute_error: 53.2006 - mean_squared_error: 4721.0234 - val_loss: 9128.1377 - val_mean_absolute_error: 81.2122 - val_mean_squared_error: 9128.1377\n",
            "Epoch 157/300\n",
            "\u001b[1m5/5\u001b[0m \u001b[32m━━━━━━━━━━━━━━━━━━━━\u001b[0m\u001b[37m\u001b[0m \u001b[1m0s\u001b[0m 14ms/step - loss: 3475.3289 - mean_absolute_error: 45.0883 - mean_squared_error: 3475.3289 - val_loss: 9076.2334 - val_mean_absolute_error: 81.0991 - val_mean_squared_error: 9076.2334\n",
            "Epoch 158/300\n",
            "\u001b[1m5/5\u001b[0m \u001b[32m━━━━━━━━━━━━━━━━━━━━\u001b[0m\u001b[37m\u001b[0m \u001b[1m0s\u001b[0m 9ms/step - loss: 5617.8735 - mean_absolute_error: 58.0948 - mean_squared_error: 5617.8735 - val_loss: 9101.2598 - val_mean_absolute_error: 81.3965 - val_mean_squared_error: 9101.2598\n",
            "Epoch 159/300\n",
            "\u001b[1m5/5\u001b[0m \u001b[32m━━━━━━━━━━━━━━━━━━━━\u001b[0m\u001b[37m\u001b[0m \u001b[1m0s\u001b[0m 10ms/step - loss: 3227.6238 - mean_absolute_error: 44.3941 - mean_squared_error: 3227.6238 - val_loss: 8994.9941 - val_mean_absolute_error: 80.7563 - val_mean_squared_error: 8994.9941\n",
            "Epoch 160/300\n",
            "\u001b[1m5/5\u001b[0m \u001b[32m━━━━━━━━━━━━━━━━━━━━\u001b[0m\u001b[37m\u001b[0m \u001b[1m0s\u001b[0m 10ms/step - loss: 3344.2861 - mean_absolute_error: 42.4535 - mean_squared_error: 3344.2861 - val_loss: 8977.1484 - val_mean_absolute_error: 80.7784 - val_mean_squared_error: 8977.1484\n",
            "Epoch 161/300\n",
            "\u001b[1m5/5\u001b[0m \u001b[32m━━━━━━━━━━━━━━━━━━━━\u001b[0m\u001b[37m\u001b[0m \u001b[1m0s\u001b[0m 14ms/step - loss: 2805.3789 - mean_absolute_error: 38.7011 - mean_squared_error: 2805.3789 - val_loss: 8943.9121 - val_mean_absolute_error: 80.6598 - val_mean_squared_error: 8943.9121\n",
            "Epoch 162/300\n",
            "\u001b[1m5/5\u001b[0m \u001b[32m━━━━━━━━━━━━━━━━━━━━\u001b[0m\u001b[37m\u001b[0m \u001b[1m0s\u001b[0m 10ms/step - loss: 5271.0845 - mean_absolute_error: 55.3241 - mean_squared_error: 5271.0845 - val_loss: 8946.7041 - val_mean_absolute_error: 80.8837 - val_mean_squared_error: 8946.7041\n",
            "Epoch 163/300\n",
            "\u001b[1m5/5\u001b[0m \u001b[32m━━━━━━━━━━━━━━━━━━━━\u001b[0m\u001b[37m\u001b[0m \u001b[1m0s\u001b[0m 9ms/step - loss: 4592.0068 - mean_absolute_error: 51.3652 - mean_squared_error: 4592.0068 - val_loss: 8932.1660 - val_mean_absolute_error: 80.9225 - val_mean_squared_error: 8932.1660\n",
            "Epoch 164/300\n",
            "\u001b[1m5/5\u001b[0m \u001b[32m━━━━━━━━━━━━━━━━━━━━\u001b[0m\u001b[37m\u001b[0m \u001b[1m0s\u001b[0m 10ms/step - loss: 4076.9631 - mean_absolute_error: 48.1560 - mean_squared_error: 4076.9631 - val_loss: 8948.0938 - val_mean_absolute_error: 81.1681 - val_mean_squared_error: 8948.0938\n",
            "Epoch 165/300\n",
            "\u001b[1m5/5\u001b[0m \u001b[32m━━━━━━━━━━━━━━━━━━━━\u001b[0m\u001b[37m\u001b[0m \u001b[1m0s\u001b[0m 15ms/step - loss: 3690.0510 - mean_absolute_error: 44.2589 - mean_squared_error: 3690.0510 - val_loss: 8929.2500 - val_mean_absolute_error: 81.2765 - val_mean_squared_error: 8929.2500\n",
            "Epoch 166/300\n",
            "\u001b[1m5/5\u001b[0m \u001b[32m━━━━━━━━━━━━━━━━━━━━\u001b[0m\u001b[37m\u001b[0m \u001b[1m0s\u001b[0m 12ms/step - loss: 4326.3374 - mean_absolute_error: 50.1652 - mean_squared_error: 4326.3374 - val_loss: 8883.0107 - val_mean_absolute_error: 81.0742 - val_mean_squared_error: 8883.0107\n",
            "Epoch 167/300\n",
            "\u001b[1m5/5\u001b[0m \u001b[32m━━━━━━━━━━━━━━━━━━━━\u001b[0m\u001b[37m\u001b[0m \u001b[1m0s\u001b[0m 14ms/step - loss: 4821.1577 - mean_absolute_error: 51.6016 - mean_squared_error: 4821.1577 - val_loss: 8903.5410 - val_mean_absolute_error: 81.3530 - val_mean_squared_error: 8903.5410\n",
            "Epoch 168/300\n",
            "\u001b[1m5/5\u001b[0m \u001b[32m━━━━━━━━━━━━━━━━━━━━\u001b[0m\u001b[37m\u001b[0m \u001b[1m0s\u001b[0m 10ms/step - loss: 3635.9233 - mean_absolute_error: 46.3142 - mean_squared_error: 3635.9233 - val_loss: 8874.5117 - val_mean_absolute_error: 81.1789 - val_mean_squared_error: 8874.5117\n",
            "Epoch 169/300\n",
            "\u001b[1m5/5\u001b[0m \u001b[32m━━━━━━━━━━━━━━━━━━━━\u001b[0m\u001b[37m\u001b[0m \u001b[1m0s\u001b[0m 10ms/step - loss: 3680.7493 - mean_absolute_error: 48.0370 - mean_squared_error: 3680.7493 - val_loss: 8798.9971 - val_mean_absolute_error: 80.6587 - val_mean_squared_error: 8798.9971\n",
            "Epoch 170/300\n",
            "\u001b[1m5/5\u001b[0m \u001b[32m━━━━━━━━━━━━━━━━━━━━\u001b[0m\u001b[37m\u001b[0m \u001b[1m0s\u001b[0m 10ms/step - loss: 5136.4961 - mean_absolute_error: 53.8954 - mean_squared_error: 5136.4961 - val_loss: 8908.3877 - val_mean_absolute_error: 81.6203 - val_mean_squared_error: 8908.3877\n",
            "Epoch 171/300\n",
            "\u001b[1m5/5\u001b[0m \u001b[32m━━━━━━━━━━━━━━━━━━━━\u001b[0m\u001b[37m\u001b[0m \u001b[1m0s\u001b[0m 13ms/step - loss: 3206.0913 - mean_absolute_error: 44.7965 - mean_squared_error: 3206.0913 - val_loss: 8841.7617 - val_mean_absolute_error: 81.3939 - val_mean_squared_error: 8841.7617\n",
            "Epoch 172/300\n",
            "\u001b[1m5/5\u001b[0m \u001b[32m━━━━━━━━━━━━━━━━━━━━\u001b[0m\u001b[37m\u001b[0m \u001b[1m0s\u001b[0m 15ms/step - loss: 3645.5645 - mean_absolute_error: 44.3544 - mean_squared_error: 3645.5645 - val_loss: 8713.2246 - val_mean_absolute_error: 80.6131 - val_mean_squared_error: 8713.2246\n",
            "Epoch 173/300\n",
            "\u001b[1m5/5\u001b[0m \u001b[32m━━━━━━━━━━━━━━━━━━━━\u001b[0m\u001b[37m\u001b[0m \u001b[1m0s\u001b[0m 10ms/step - loss: 4784.4590 - mean_absolute_error: 51.0726 - mean_squared_error: 4784.4590 - val_loss: 8742.6689 - val_mean_absolute_error: 80.9421 - val_mean_squared_error: 8742.6689\n",
            "Epoch 174/300\n",
            "\u001b[1m5/5\u001b[0m \u001b[32m━━━━━━━━━━━━━━━━━━━━\u001b[0m\u001b[37m\u001b[0m \u001b[1m0s\u001b[0m 10ms/step - loss: 3702.0325 - mean_absolute_error: 44.6347 - mean_squared_error: 3702.0325 - val_loss: 8696.6826 - val_mean_absolute_error: 80.7486 - val_mean_squared_error: 8696.6826\n",
            "Epoch 175/300\n",
            "\u001b[1m5/5\u001b[0m \u001b[32m━━━━━━━━━━━━━━━━━━━━\u001b[0m\u001b[37m\u001b[0m \u001b[1m0s\u001b[0m 11ms/step - loss: 3271.3499 - mean_absolute_error: 45.9925 - mean_squared_error: 3271.3499 - val_loss: 8657.0020 - val_mean_absolute_error: 80.5970 - val_mean_squared_error: 8657.0020\n",
            "Epoch 176/300\n",
            "\u001b[1m5/5\u001b[0m \u001b[32m━━━━━━━━━━━━━━━━━━━━\u001b[0m\u001b[37m\u001b[0m \u001b[1m0s\u001b[0m 9ms/step - loss: 3484.1575 - mean_absolute_error: 47.4888 - mean_squared_error: 3484.1575 - val_loss: 8600.6016 - val_mean_absolute_error: 80.3713 - val_mean_squared_error: 8600.6016\n",
            "Epoch 177/300\n",
            "\u001b[1m5/5\u001b[0m \u001b[32m━━━━━━━━━━━━━━━━━━━━\u001b[0m\u001b[37m\u001b[0m \u001b[1m0s\u001b[0m 10ms/step - loss: 3790.9541 - mean_absolute_error: 45.0905 - mean_squared_error: 3790.9541 - val_loss: 8517.4941 - val_mean_absolute_error: 79.9012 - val_mean_squared_error: 8517.4941\n",
            "Epoch 178/300\n",
            "\u001b[1m5/5\u001b[0m \u001b[32m━━━━━━━━━━━━━━━━━━━━\u001b[0m\u001b[37m\u001b[0m \u001b[1m0s\u001b[0m 11ms/step - loss: 3446.3398 - mean_absolute_error: 41.9997 - mean_squared_error: 3446.3398 - val_loss: 8484.4277 - val_mean_absolute_error: 79.8084 - val_mean_squared_error: 8484.4277\n",
            "Epoch 179/300\n",
            "\u001b[1m5/5\u001b[0m \u001b[32m━━━━━━━━━━━━━━━━━━━━\u001b[0m\u001b[37m\u001b[0m \u001b[1m0s\u001b[0m 10ms/step - loss: 3012.2515 - mean_absolute_error: 43.3592 - mean_squared_error: 3012.2515 - val_loss: 8322.0938 - val_mean_absolute_error: 78.7307 - val_mean_squared_error: 8322.0938\n",
            "Epoch 180/300\n",
            "\u001b[1m5/5\u001b[0m \u001b[32m━━━━━━━━━━━━━━━━━━━━\u001b[0m\u001b[37m\u001b[0m \u001b[1m0s\u001b[0m 8ms/step - loss: 3237.7935 - mean_absolute_error: 43.2294 - mean_squared_error: 3237.7935 - val_loss: 8326.4795 - val_mean_absolute_error: 78.9716 - val_mean_squared_error: 8326.4795\n",
            "Epoch 181/300\n",
            "\u001b[1m5/5\u001b[0m \u001b[32m━━━━━━━━━━━━━━━━━━━━\u001b[0m\u001b[37m\u001b[0m \u001b[1m0s\u001b[0m 14ms/step - loss: 5069.9360 - mean_absolute_error: 53.4866 - mean_squared_error: 5069.9360 - val_loss: 8363.2373 - val_mean_absolute_error: 79.2598 - val_mean_squared_error: 8363.2373\n",
            "Epoch 182/300\n",
            "\u001b[1m5/5\u001b[0m \u001b[32m━━━━━━━━━━━━━━━━━━━━\u001b[0m\u001b[37m\u001b[0m \u001b[1m0s\u001b[0m 10ms/step - loss: 2317.7354 - mean_absolute_error: 35.9950 - mean_squared_error: 2317.7354 - val_loss: 8209.9951 - val_mean_absolute_error: 78.2596 - val_mean_squared_error: 8209.9951\n",
            "Epoch 183/300\n",
            "\u001b[1m5/5\u001b[0m \u001b[32m━━━━━━━━━━━━━━━━━━━━\u001b[0m\u001b[37m\u001b[0m \u001b[1m0s\u001b[0m 10ms/step - loss: 3573.1160 - mean_absolute_error: 47.7717 - mean_squared_error: 3573.1160 - val_loss: 8140.6812 - val_mean_absolute_error: 77.8912 - val_mean_squared_error: 8140.6812\n",
            "Epoch 184/300\n",
            "\u001b[1m5/5\u001b[0m \u001b[32m━━━━━━━━━━━━━━━━━━━━\u001b[0m\u001b[37m\u001b[0m \u001b[1m0s\u001b[0m 15ms/step - loss: 3261.1387 - mean_absolute_error: 44.9505 - mean_squared_error: 3261.1387 - val_loss: 8235.3203 - val_mean_absolute_error: 78.7374 - val_mean_squared_error: 8235.3203\n",
            "Epoch 185/300\n",
            "\u001b[1m5/5\u001b[0m \u001b[32m━━━━━━━━━━━━━━━━━━━━\u001b[0m\u001b[37m\u001b[0m \u001b[1m0s\u001b[0m 15ms/step - loss: 3233.6646 - mean_absolute_error: 44.6322 - mean_squared_error: 3233.6646 - val_loss: 8194.0166 - val_mean_absolute_error: 78.5345 - val_mean_squared_error: 8194.0166\n",
            "Epoch 186/300\n",
            "\u001b[1m5/5\u001b[0m \u001b[32m━━━━━━━━━━━━━━━━━━━━\u001b[0m\u001b[37m\u001b[0m \u001b[1m0s\u001b[0m 9ms/step - loss: 5207.3062 - mean_absolute_error: 56.2567 - mean_squared_error: 5207.3062 - val_loss: 8203.5762 - val_mean_absolute_error: 78.7001 - val_mean_squared_error: 8203.5762\n",
            "Epoch 187/300\n",
            "\u001b[1m5/5\u001b[0m \u001b[32m━━━━━━━━━━━━━━━━━━━━\u001b[0m\u001b[37m\u001b[0m \u001b[1m0s\u001b[0m 10ms/step - loss: 3065.1396 - mean_absolute_error: 41.9056 - mean_squared_error: 3065.1396 - val_loss: 8114.7407 - val_mean_absolute_error: 78.2032 - val_mean_squared_error: 8114.7407\n",
            "Epoch 188/300\n",
            "\u001b[1m5/5\u001b[0m \u001b[32m━━━━━━━━━━━━━━━━━━━━\u001b[0m\u001b[37m\u001b[0m \u001b[1m0s\u001b[0m 13ms/step - loss: 3443.4414 - mean_absolute_error: 45.0982 - mean_squared_error: 3443.4414 - val_loss: 8142.5952 - val_mean_absolute_error: 78.5009 - val_mean_squared_error: 8142.5952\n",
            "Epoch 189/300\n",
            "\u001b[1m5/5\u001b[0m \u001b[32m━━━━━━━━━━━━━━━━━━━━\u001b[0m\u001b[37m\u001b[0m \u001b[1m0s\u001b[0m 11ms/step - loss: 3815.6702 - mean_absolute_error: 45.8532 - mean_squared_error: 3815.6702 - val_loss: 8102.2021 - val_mean_absolute_error: 78.3135 - val_mean_squared_error: 8102.2021\n",
            "Epoch 190/300\n",
            "\u001b[1m5/5\u001b[0m \u001b[32m━━━━━━━━━━━━━━━━━━━━\u001b[0m\u001b[37m\u001b[0m \u001b[1m0s\u001b[0m 12ms/step - loss: 3404.9788 - mean_absolute_error: 45.5656 - mean_squared_error: 3404.9788 - val_loss: 8175.7446 - val_mean_absolute_error: 78.9321 - val_mean_squared_error: 8175.7446\n",
            "Epoch 191/300\n",
            "\u001b[1m5/5\u001b[0m \u001b[32m━━━━━━━━━━━━━━━━━━━━\u001b[0m\u001b[37m\u001b[0m \u001b[1m0s\u001b[0m 10ms/step - loss: 3564.4888 - mean_absolute_error: 44.3595 - mean_squared_error: 3564.4888 - val_loss: 8151.7627 - val_mean_absolute_error: 78.8738 - val_mean_squared_error: 8151.7627\n",
            "Epoch 192/300\n",
            "\u001b[1m5/5\u001b[0m \u001b[32m━━━━━━━━━━━━━━━━━━━━\u001b[0m\u001b[37m\u001b[0m \u001b[1m0s\u001b[0m 16ms/step - loss: 3257.8958 - mean_absolute_error: 47.1979 - mean_squared_error: 3257.8958 - val_loss: 8121.9873 - val_mean_absolute_error: 78.7414 - val_mean_squared_error: 8121.9873\n",
            "Epoch 193/300\n",
            "\u001b[1m5/5\u001b[0m \u001b[32m━━━━━━━━━━━━━━━━━━━━\u001b[0m\u001b[37m\u001b[0m \u001b[1m0s\u001b[0m 13ms/step - loss: 4497.6147 - mean_absolute_error: 48.5117 - mean_squared_error: 4497.6147 - val_loss: 8059.0273 - val_mean_absolute_error: 78.4736 - val_mean_squared_error: 8059.0273\n",
            "Epoch 194/300\n",
            "\u001b[1m5/5\u001b[0m \u001b[32m━━━━━━━━━━━━━━━━━━━━\u001b[0m\u001b[37m\u001b[0m \u001b[1m0s\u001b[0m 10ms/step - loss: 3327.4883 - mean_absolute_error: 42.6125 - mean_squared_error: 3327.4883 - val_loss: 7909.7515 - val_mean_absolute_error: 77.4154 - val_mean_squared_error: 7909.7515\n",
            "Epoch 195/300\n",
            "\u001b[1m5/5\u001b[0m \u001b[32m━━━━━━━━━━━━━━━━━━━━\u001b[0m\u001b[37m\u001b[0m \u001b[1m0s\u001b[0m 14ms/step - loss: 3592.1970 - mean_absolute_error: 44.8122 - mean_squared_error: 3592.1970 - val_loss: 7875.9282 - val_mean_absolute_error: 77.2712 - val_mean_squared_error: 7875.9282\n",
            "Epoch 196/300\n",
            "\u001b[1m5/5\u001b[0m \u001b[32m━━━━━━━━━━━━━━━━━━━━\u001b[0m\u001b[37m\u001b[0m \u001b[1m0s\u001b[0m 10ms/step - loss: 4917.5957 - mean_absolute_error: 53.8489 - mean_squared_error: 4917.5957 - val_loss: 7848.5420 - val_mean_absolute_error: 77.1450 - val_mean_squared_error: 7848.5420\n",
            "Epoch 197/300\n",
            "\u001b[1m5/5\u001b[0m \u001b[32m━━━━━━━━━━━━━━━━━━━━\u001b[0m\u001b[37m\u001b[0m \u001b[1m0s\u001b[0m 15ms/step - loss: 2964.1697 - mean_absolute_error: 40.0285 - mean_squared_error: 2964.1697 - val_loss: 7884.7397 - val_mean_absolute_error: 77.5041 - val_mean_squared_error: 7884.7397\n",
            "Epoch 198/300\n",
            "\u001b[1m5/5\u001b[0m \u001b[32m━━━━━━━━━━━━━━━━━━━━\u001b[0m\u001b[37m\u001b[0m \u001b[1m0s\u001b[0m 10ms/step - loss: 4050.3228 - mean_absolute_error: 47.8736 - mean_squared_error: 4050.3228 - val_loss: 7864.8687 - val_mean_absolute_error: 77.4453 - val_mean_squared_error: 7864.8687\n",
            "Epoch 199/300\n",
            "\u001b[1m5/5\u001b[0m \u001b[32m━━━━━━━━━━━━━━━━━━━━\u001b[0m\u001b[37m\u001b[0m \u001b[1m0s\u001b[0m 10ms/step - loss: 3471.2554 - mean_absolute_error: 45.0712 - mean_squared_error: 3471.2554 - val_loss: 7887.9912 - val_mean_absolute_error: 77.6251 - val_mean_squared_error: 7887.9912\n",
            "Epoch 200/300\n",
            "\u001b[1m5/5\u001b[0m \u001b[32m━━━━━━━━━━━━━━━━━━━━\u001b[0m\u001b[37m\u001b[0m \u001b[1m0s\u001b[0m 10ms/step - loss: 4324.9136 - mean_absolute_error: 47.9394 - mean_squared_error: 4324.9136 - val_loss: 7862.8906 - val_mean_absolute_error: 77.4706 - val_mean_squared_error: 7862.8906\n",
            "Epoch 201/300\n",
            "\u001b[1m5/5\u001b[0m \u001b[32m━━━━━━━━━━━━━━━━━━━━\u001b[0m\u001b[37m\u001b[0m \u001b[1m0s\u001b[0m 14ms/step - loss: 3013.1230 - mean_absolute_error: 41.3173 - mean_squared_error: 3013.1230 - val_loss: 7836.9556 - val_mean_absolute_error: 77.3742 - val_mean_squared_error: 7836.9556\n",
            "Epoch 202/300\n",
            "\u001b[1m5/5\u001b[0m \u001b[32m━━━━━━━━━━━━━━━━━━━━\u001b[0m\u001b[37m\u001b[0m \u001b[1m0s\u001b[0m 16ms/step - loss: 3443.6160 - mean_absolute_error: 45.9760 - mean_squared_error: 3443.6160 - val_loss: 7775.9326 - val_mean_absolute_error: 76.9143 - val_mean_squared_error: 7775.9326\n",
            "Epoch 203/300\n",
            "\u001b[1m5/5\u001b[0m \u001b[32m━━━━━━━━━━━━━━━━━━━━\u001b[0m\u001b[37m\u001b[0m \u001b[1m0s\u001b[0m 16ms/step - loss: 2736.0762 - mean_absolute_error: 41.3478 - mean_squared_error: 2736.0762 - val_loss: 7653.5186 - val_mean_absolute_error: 76.2009 - val_mean_squared_error: 7653.5186\n",
            "Epoch 204/300\n",
            "\u001b[1m5/5\u001b[0m \u001b[32m━━━━━━━━━━━━━━━━━━━━\u001b[0m\u001b[37m\u001b[0m \u001b[1m0s\u001b[0m 10ms/step - loss: 4218.7881 - mean_absolute_error: 46.5891 - mean_squared_error: 4218.7881 - val_loss: 7626.6953 - val_mean_absolute_error: 76.1526 - val_mean_squared_error: 7626.6953\n",
            "Epoch 205/300\n",
            "\u001b[1m5/5\u001b[0m \u001b[32m━━━━━━━━━━━━━━━━━━━━\u001b[0m\u001b[37m\u001b[0m \u001b[1m0s\u001b[0m 14ms/step - loss: 4159.1333 - mean_absolute_error: 45.3177 - mean_squared_error: 4159.1333 - val_loss: 7704.9702 - val_mean_absolute_error: 76.8352 - val_mean_squared_error: 7704.9702\n",
            "Epoch 206/300\n",
            "\u001b[1m5/5\u001b[0m \u001b[32m━━━━━━━━━━━━━━━━━━━━\u001b[0m\u001b[37m\u001b[0m \u001b[1m0s\u001b[0m 11ms/step - loss: 2702.2964 - mean_absolute_error: 38.9216 - mean_squared_error: 2702.2964 - val_loss: 7632.6201 - val_mean_absolute_error: 76.3945 - val_mean_squared_error: 7632.6201\n",
            "Epoch 207/300\n",
            "\u001b[1m5/5\u001b[0m \u001b[32m━━━━━━━━━━━━━━━━━━━━\u001b[0m\u001b[37m\u001b[0m \u001b[1m0s\u001b[0m 9ms/step - loss: 2860.5796 - mean_absolute_error: 39.8935 - mean_squared_error: 2860.5796 - val_loss: 7555.1299 - val_mean_absolute_error: 75.9232 - val_mean_squared_error: 7555.1299\n",
            "Epoch 208/300\n",
            "\u001b[1m5/5\u001b[0m \u001b[32m━━━━━━━━━━━━━━━━━━━━\u001b[0m\u001b[37m\u001b[0m \u001b[1m0s\u001b[0m 14ms/step - loss: 3896.5217 - mean_absolute_error: 42.7252 - mean_squared_error: 3896.5217 - val_loss: 7474.2876 - val_mean_absolute_error: 75.3762 - val_mean_squared_error: 7474.2876\n",
            "Epoch 209/300\n",
            "\u001b[1m5/5\u001b[0m \u001b[32m━━━━━━━━━━━━━━━━━━━━\u001b[0m\u001b[37m\u001b[0m \u001b[1m0s\u001b[0m 10ms/step - loss: 4134.1494 - mean_absolute_error: 46.2715 - mean_squared_error: 4134.1494 - val_loss: 7555.5576 - val_mean_absolute_error: 76.0344 - val_mean_squared_error: 7555.5576\n",
            "Epoch 210/300\n",
            "\u001b[1m5/5\u001b[0m \u001b[32m━━━━━━━━━━━━━━━━━━━━\u001b[0m\u001b[37m\u001b[0m \u001b[1m0s\u001b[0m 10ms/step - loss: 2927.0632 - mean_absolute_error: 40.7517 - mean_squared_error: 2927.0632 - val_loss: 7547.0063 - val_mean_absolute_error: 76.1019 - val_mean_squared_error: 7547.0063\n",
            "Epoch 211/300\n",
            "\u001b[1m5/5\u001b[0m \u001b[32m━━━━━━━━━━━━━━━━━━━━\u001b[0m\u001b[37m\u001b[0m \u001b[1m0s\u001b[0m 15ms/step - loss: 3317.5762 - mean_absolute_error: 43.0344 - mean_squared_error: 3317.5762 - val_loss: 7581.3491 - val_mean_absolute_error: 76.4150 - val_mean_squared_error: 7581.3491\n",
            "Epoch 212/300\n",
            "\u001b[1m5/5\u001b[0m \u001b[32m━━━━━━━━━━━━━━━━━━━━\u001b[0m\u001b[37m\u001b[0m \u001b[1m0s\u001b[0m 11ms/step - loss: 2849.4868 - mean_absolute_error: 40.2130 - mean_squared_error: 2849.4868 - val_loss: 7530.1562 - val_mean_absolute_error: 76.0657 - val_mean_squared_error: 7530.1562\n",
            "Epoch 213/300\n",
            "\u001b[1m5/5\u001b[0m \u001b[32m━━━━━━━━━━━━━━━━━━━━\u001b[0m\u001b[37m\u001b[0m \u001b[1m0s\u001b[0m 9ms/step - loss: 2923.3372 - mean_absolute_error: 39.9870 - mean_squared_error: 2923.3372 - val_loss: 7527.3516 - val_mean_absolute_error: 76.1334 - val_mean_squared_error: 7527.3516\n",
            "Epoch 214/300\n",
            "\u001b[1m5/5\u001b[0m \u001b[32m━━━━━━━━━━━━━━━━━━━━\u001b[0m\u001b[37m\u001b[0m \u001b[1m0s\u001b[0m 14ms/step - loss: 3217.6995 - mean_absolute_error: 41.0149 - mean_squared_error: 3217.6995 - val_loss: 7511.5640 - val_mean_absolute_error: 76.0605 - val_mean_squared_error: 7511.5640\n",
            "Epoch 215/300\n",
            "\u001b[1m5/5\u001b[0m \u001b[32m━━━━━━━━━━━━━━━━━━━━\u001b[0m\u001b[37m\u001b[0m \u001b[1m0s\u001b[0m 10ms/step - loss: 2839.6648 - mean_absolute_error: 42.2035 - mean_squared_error: 2839.6648 - val_loss: 7461.7173 - val_mean_absolute_error: 75.8515 - val_mean_squared_error: 7461.7173\n",
            "Epoch 216/300\n",
            "\u001b[1m5/5\u001b[0m \u001b[32m━━━━━━━━━━━━━━━━━━━━\u001b[0m\u001b[37m\u001b[0m \u001b[1m0s\u001b[0m 10ms/step - loss: 2867.9475 - mean_absolute_error: 40.9569 - mean_squared_error: 2867.9475 - val_loss: 7418.8945 - val_mean_absolute_error: 75.6153 - val_mean_squared_error: 7418.8945\n",
            "Epoch 217/300\n",
            "\u001b[1m5/5\u001b[0m \u001b[32m━━━━━━━━━━━━━━━━━━━━\u001b[0m\u001b[37m\u001b[0m \u001b[1m0s\u001b[0m 14ms/step - loss: 2813.3040 - mean_absolute_error: 41.6234 - mean_squared_error: 2813.3040 - val_loss: 7497.6250 - val_mean_absolute_error: 76.3285 - val_mean_squared_error: 7497.6250\n",
            "Epoch 218/300\n",
            "\u001b[1m5/5\u001b[0m \u001b[32m━━━━━━━━━━━━━━━━━━━━\u001b[0m\u001b[37m\u001b[0m \u001b[1m0s\u001b[0m 11ms/step - loss: 3754.8184 - mean_absolute_error: 47.1153 - mean_squared_error: 3754.8184 - val_loss: 7508.7158 - val_mean_absolute_error: 76.5328 - val_mean_squared_error: 7508.7158\n",
            "Epoch 219/300\n",
            "\u001b[1m5/5\u001b[0m \u001b[32m━━━━━━━━━━━━━━━━━━━━\u001b[0m\u001b[37m\u001b[0m \u001b[1m0s\u001b[0m 10ms/step - loss: 3358.9043 - mean_absolute_error: 45.3392 - mean_squared_error: 3358.9043 - val_loss: 7354.2202 - val_mean_absolute_error: 75.4404 - val_mean_squared_error: 7354.2202\n",
            "Epoch 220/300\n",
            "\u001b[1m5/5\u001b[0m \u001b[32m━━━━━━━━━━━━━━━━━━━━\u001b[0m\u001b[37m\u001b[0m \u001b[1m0s\u001b[0m 10ms/step - loss: 2591.0295 - mean_absolute_error: 38.0092 - mean_squared_error: 2591.0295 - val_loss: 7306.7485 - val_mean_absolute_error: 75.1407 - val_mean_squared_error: 7306.7485\n",
            "Epoch 221/300\n",
            "\u001b[1m5/5\u001b[0m \u001b[32m━━━━━━━━━━━━━━━━━━━━\u001b[0m\u001b[37m\u001b[0m \u001b[1m0s\u001b[0m 13ms/step - loss: 2567.2639 - mean_absolute_error: 39.9928 - mean_squared_error: 2567.2639 - val_loss: 7290.9229 - val_mean_absolute_error: 75.1032 - val_mean_squared_error: 7290.9229\n",
            "Epoch 222/300\n",
            "\u001b[1m5/5\u001b[0m \u001b[32m━━━━━━━━━━━━━━━━━━━━\u001b[0m\u001b[37m\u001b[0m \u001b[1m0s\u001b[0m 16ms/step - loss: 2154.8042 - mean_absolute_error: 34.8143 - mean_squared_error: 2154.8042 - val_loss: 7204.2139 - val_mean_absolute_error: 74.5009 - val_mean_squared_error: 7204.2139\n",
            "Epoch 223/300\n",
            "\u001b[1m5/5\u001b[0m \u001b[32m━━━━━━━━━━━━━━━━━━━━\u001b[0m\u001b[37m\u001b[0m \u001b[1m0s\u001b[0m 11ms/step - loss: 3603.4348 - mean_absolute_error: 45.5097 - mean_squared_error: 3603.4348 - val_loss: 7228.9736 - val_mean_absolute_error: 74.7902 - val_mean_squared_error: 7228.9736\n",
            "Epoch 224/300\n",
            "\u001b[1m5/5\u001b[0m \u001b[32m━━━━━━━━━━━━━━━━━━━━\u001b[0m\u001b[37m\u001b[0m \u001b[1m0s\u001b[0m 15ms/step - loss: 2991.7524 - mean_absolute_error: 38.7561 - mean_squared_error: 2991.7524 - val_loss: 7243.6069 - val_mean_absolute_error: 74.9939 - val_mean_squared_error: 7243.6069\n",
            "Epoch 225/300\n",
            "\u001b[1m5/5\u001b[0m \u001b[32m━━━━━━━━━━━━━━━━━━━━\u001b[0m\u001b[37m\u001b[0m \u001b[1m0s\u001b[0m 11ms/step - loss: 3442.3740 - mean_absolute_error: 44.8893 - mean_squared_error: 3442.3740 - val_loss: 7229.0166 - val_mean_absolute_error: 74.8839 - val_mean_squared_error: 7229.0166\n",
            "Epoch 226/300\n",
            "\u001b[1m5/5\u001b[0m \u001b[32m━━━━━━━━━━━━━━━━━━━━\u001b[0m\u001b[37m\u001b[0m \u001b[1m0s\u001b[0m 10ms/step - loss: 2726.4724 - mean_absolute_error: 41.7120 - mean_squared_error: 2726.4724 - val_loss: 7205.9541 - val_mean_absolute_error: 74.7456 - val_mean_squared_error: 7205.9541\n",
            "Epoch 227/300\n",
            "\u001b[1m5/5\u001b[0m \u001b[32m━━━━━━━━━━━━━━━━━━━━\u001b[0m\u001b[37m\u001b[0m \u001b[1m0s\u001b[0m 10ms/step - loss: 2692.5242 - mean_absolute_error: 40.5503 - mean_squared_error: 2692.5242 - val_loss: 7149.3906 - val_mean_absolute_error: 74.3490 - val_mean_squared_error: 7149.3906\n",
            "Epoch 228/300\n",
            "\u001b[1m5/5\u001b[0m \u001b[32m━━━━━━━━━━━━━━━━━━━━\u001b[0m\u001b[37m\u001b[0m \u001b[1m0s\u001b[0m 11ms/step - loss: 4108.1851 - mean_absolute_error: 47.3762 - mean_squared_error: 4108.1851 - val_loss: 7105.6416 - val_mean_absolute_error: 74.0743 - val_mean_squared_error: 7105.6416\n",
            "Epoch 229/300\n",
            "\u001b[1m5/5\u001b[0m \u001b[32m━━━━━━━━━━━━━━━━━━━━\u001b[0m\u001b[37m\u001b[0m \u001b[1m0s\u001b[0m 14ms/step - loss: 3593.2988 - mean_absolute_error: 44.1900 - mean_squared_error: 3593.2988 - val_loss: 7177.9126 - val_mean_absolute_error: 74.6805 - val_mean_squared_error: 7177.9126\n",
            "Epoch 230/300\n",
            "\u001b[1m5/5\u001b[0m \u001b[32m━━━━━━━━━━━━━━━━━━━━\u001b[0m\u001b[37m\u001b[0m \u001b[1m0s\u001b[0m 12ms/step - loss: 2617.6379 - mean_absolute_error: 40.3699 - mean_squared_error: 2617.6379 - val_loss: 7097.1704 - val_mean_absolute_error: 74.0969 - val_mean_squared_error: 7097.1704\n",
            "Epoch 231/300\n",
            "\u001b[1m5/5\u001b[0m \u001b[32m━━━━━━━━━━━━━━━━━━━━\u001b[0m\u001b[37m\u001b[0m \u001b[1m0s\u001b[0m 14ms/step - loss: 2446.9463 - mean_absolute_error: 38.3897 - mean_squared_error: 2446.9463 - val_loss: 7042.3281 - val_mean_absolute_error: 73.7578 - val_mean_squared_error: 7042.3281\n",
            "Epoch 232/300\n",
            "\u001b[1m5/5\u001b[0m \u001b[32m━━━━━━━━━━━━━━━━━━━━\u001b[0m\u001b[37m\u001b[0m \u001b[1m0s\u001b[0m 10ms/step - loss: 3122.8127 - mean_absolute_error: 40.2964 - mean_squared_error: 3122.8127 - val_loss: 6960.6772 - val_mean_absolute_error: 73.1509 - val_mean_squared_error: 6960.6772\n",
            "Epoch 233/300\n",
            "\u001b[1m5/5\u001b[0m \u001b[32m━━━━━━━━━━━━━━━━━━━━\u001b[0m\u001b[37m\u001b[0m \u001b[1m0s\u001b[0m 11ms/step - loss: 2332.7310 - mean_absolute_error: 36.8920 - mean_squared_error: 2332.7310 - val_loss: 6971.3428 - val_mean_absolute_error: 73.3154 - val_mean_squared_error: 6971.3428\n",
            "Epoch 234/300\n",
            "\u001b[1m5/5\u001b[0m \u001b[32m━━━━━━━━━━━━━━━━━━━━\u001b[0m\u001b[37m\u001b[0m \u001b[1m0s\u001b[0m 13ms/step - loss: 2711.0154 - mean_absolute_error: 39.9588 - mean_squared_error: 2711.0154 - val_loss: 7004.7212 - val_mean_absolute_error: 73.6940 - val_mean_squared_error: 7004.7212\n",
            "Epoch 235/300\n",
            "\u001b[1m5/5\u001b[0m \u001b[32m━━━━━━━━━━━━━━━━━━━━\u001b[0m\u001b[37m\u001b[0m \u001b[1m0s\u001b[0m 10ms/step - loss: 3170.3887 - mean_absolute_error: 41.7628 - mean_squared_error: 3170.3887 - val_loss: 7041.4360 - val_mean_absolute_error: 74.0429 - val_mean_squared_error: 7041.4360\n",
            "Epoch 236/300\n",
            "\u001b[1m5/5\u001b[0m \u001b[32m━━━━━━━━━━━━━━━━━━━━\u001b[0m\u001b[37m\u001b[0m \u001b[1m0s\u001b[0m 10ms/step - loss: 3161.7495 - mean_absolute_error: 45.0349 - mean_squared_error: 3161.7495 - val_loss: 7054.4390 - val_mean_absolute_error: 74.3046 - val_mean_squared_error: 7054.4390\n",
            "Epoch 237/300\n",
            "\u001b[1m5/5\u001b[0m \u001b[32m━━━━━━━━━━━━━━━━━━━━\u001b[0m\u001b[37m\u001b[0m \u001b[1m0s\u001b[0m 10ms/step - loss: 2334.2661 - mean_absolute_error: 36.2613 - mean_squared_error: 2334.2661 - val_loss: 7076.2998 - val_mean_absolute_error: 74.5147 - val_mean_squared_error: 7076.2998\n",
            "Epoch 238/300\n",
            "\u001b[1m5/5\u001b[0m \u001b[32m━━━━━━━━━━━━━━━━━━━━\u001b[0m\u001b[37m\u001b[0m \u001b[1m0s\u001b[0m 16ms/step - loss: 3448.3967 - mean_absolute_error: 39.3330 - mean_squared_error: 3448.3967 - val_loss: 7109.7124 - val_mean_absolute_error: 74.7940 - val_mean_squared_error: 7109.7124\n",
            "Epoch 239/300\n",
            "\u001b[1m5/5\u001b[0m \u001b[32m━━━━━━━━━━━━━━━━━━━━\u001b[0m\u001b[37m\u001b[0m \u001b[1m0s\u001b[0m 14ms/step - loss: 4533.9292 - mean_absolute_error: 50.9061 - mean_squared_error: 4533.9292 - val_loss: 7075.6279 - val_mean_absolute_error: 74.6469 - val_mean_squared_error: 7075.6279\n",
            "Epoch 240/300\n",
            "\u001b[1m5/5\u001b[0m \u001b[32m━━━━━━━━━━━━━━━━━━━━\u001b[0m\u001b[37m\u001b[0m \u001b[1m0s\u001b[0m 14ms/step - loss: 2962.2305 - mean_absolute_error: 41.6463 - mean_squared_error: 2962.2305 - val_loss: 6953.3281 - val_mean_absolute_error: 73.7694 - val_mean_squared_error: 6953.3281\n",
            "Epoch 241/300\n",
            "\u001b[1m5/5\u001b[0m \u001b[32m━━━━━━━━━━━━━━━━━━━━\u001b[0m\u001b[37m\u001b[0m \u001b[1m0s\u001b[0m 15ms/step - loss: 2299.3545 - mean_absolute_error: 37.3581 - mean_squared_error: 2299.3545 - val_loss: 6898.9712 - val_mean_absolute_error: 73.4205 - val_mean_squared_error: 6898.9712\n",
            "Epoch 242/300\n",
            "\u001b[1m5/5\u001b[0m \u001b[32m━━━━━━━━━━━━━━━━━━━━\u001b[0m\u001b[37m\u001b[0m \u001b[1m0s\u001b[0m 9ms/step - loss: 3219.5361 - mean_absolute_error: 42.8077 - mean_squared_error: 3219.5361 - val_loss: 6900.9521 - val_mean_absolute_error: 73.4721 - val_mean_squared_error: 6900.9521\n",
            "Epoch 243/300\n",
            "\u001b[1m5/5\u001b[0m \u001b[32m━━━━━━━━━━━━━━━━━━━━\u001b[0m\u001b[37m\u001b[0m \u001b[1m0s\u001b[0m 10ms/step - loss: 2992.0820 - mean_absolute_error: 40.6247 - mean_squared_error: 2992.0820 - val_loss: 6893.3960 - val_mean_absolute_error: 73.4297 - val_mean_squared_error: 6893.3960\n",
            "Epoch 244/300\n",
            "\u001b[1m5/5\u001b[0m \u001b[32m━━━━━━━━━━━━━━━━━━━━\u001b[0m\u001b[37m\u001b[0m \u001b[1m0s\u001b[0m 19ms/step - loss: 2481.8240 - mean_absolute_error: 36.1775 - mean_squared_error: 2481.8240 - val_loss: 6897.7827 - val_mean_absolute_error: 73.4937 - val_mean_squared_error: 6897.7827\n",
            "Epoch 245/300\n",
            "\u001b[1m5/5\u001b[0m \u001b[32m━━━━━━━━━━━━━━━━━━━━\u001b[0m\u001b[37m\u001b[0m \u001b[1m0s\u001b[0m 19ms/step - loss: 2554.3108 - mean_absolute_error: 39.3338 - mean_squared_error: 2554.3108 - val_loss: 6916.6592 - val_mean_absolute_error: 73.6855 - val_mean_squared_error: 6916.6592\n",
            "Epoch 246/300\n",
            "\u001b[1m5/5\u001b[0m \u001b[32m━━━━━━━━━━━━━━━━━━━━\u001b[0m\u001b[37m\u001b[0m \u001b[1m0s\u001b[0m 20ms/step - loss: 4461.8491 - mean_absolute_error: 48.5943 - mean_squared_error: 4461.8491 - val_loss: 6936.5312 - val_mean_absolute_error: 73.8407 - val_mean_squared_error: 6936.5312\n",
            "Epoch 247/300\n",
            "\u001b[1m5/5\u001b[0m \u001b[32m━━━━━━━━━━━━━━━━━━━━\u001b[0m\u001b[37m\u001b[0m \u001b[1m0s\u001b[0m 18ms/step - loss: 4073.0891 - mean_absolute_error: 44.4872 - mean_squared_error: 4073.0891 - val_loss: 6925.0327 - val_mean_absolute_error: 73.8405 - val_mean_squared_error: 6925.0327\n",
            "Epoch 248/300\n",
            "\u001b[1m5/5\u001b[0m \u001b[32m━━━━━━━━━━━━━━━━━━━━\u001b[0m\u001b[37m\u001b[0m \u001b[1m0s\u001b[0m 16ms/step - loss: 2730.8123 - mean_absolute_error: 40.6513 - mean_squared_error: 2730.8123 - val_loss: 6827.8452 - val_mean_absolute_error: 73.1795 - val_mean_squared_error: 6827.8452\n",
            "Epoch 249/300\n",
            "\u001b[1m5/5\u001b[0m \u001b[32m━━━━━━━━━━━━━━━━━━━━\u001b[0m\u001b[37m\u001b[0m \u001b[1m0s\u001b[0m 17ms/step - loss: 4082.4126 - mean_absolute_error: 46.2818 - mean_squared_error: 4082.4126 - val_loss: 6869.5625 - val_mean_absolute_error: 73.6069 - val_mean_squared_error: 6869.5625\n",
            "Epoch 250/300\n",
            "\u001b[1m5/5\u001b[0m \u001b[32m━━━━━━━━━━━━━━━━━━━━\u001b[0m\u001b[37m\u001b[0m \u001b[1m0s\u001b[0m 16ms/step - loss: 2374.2432 - mean_absolute_error: 37.1276 - mean_squared_error: 2374.2432 - val_loss: 6823.4014 - val_mean_absolute_error: 73.2569 - val_mean_squared_error: 6823.4014\n",
            "Epoch 251/300\n",
            "\u001b[1m5/5\u001b[0m \u001b[32m━━━━━━━━━━━━━━━━━━━━\u001b[0m\u001b[37m\u001b[0m \u001b[1m0s\u001b[0m 17ms/step - loss: 3932.7319 - mean_absolute_error: 45.6813 - mean_squared_error: 3932.7319 - val_loss: 6835.3242 - val_mean_absolute_error: 73.3729 - val_mean_squared_error: 6835.3242\n",
            "Epoch 252/300\n",
            "\u001b[1m5/5\u001b[0m \u001b[32m━━━━━━━━━━━━━━━━━━━━\u001b[0m\u001b[37m\u001b[0m \u001b[1m0s\u001b[0m 13ms/step - loss: 2936.5452 - mean_absolute_error: 39.5875 - mean_squared_error: 2936.5452 - val_loss: 6699.5679 - val_mean_absolute_error: 72.2925 - val_mean_squared_error: 6699.5679\n",
            "Epoch 253/300\n",
            "\u001b[1m5/5\u001b[0m \u001b[32m━━━━━━━━━━━━━━━━━━━━\u001b[0m\u001b[37m\u001b[0m \u001b[1m0s\u001b[0m 16ms/step - loss: 2414.6885 - mean_absolute_error: 37.5830 - mean_squared_error: 2414.6885 - val_loss: 6741.6514 - val_mean_absolute_error: 72.7045 - val_mean_squared_error: 6741.6514\n",
            "Epoch 254/300\n",
            "\u001b[1m5/5\u001b[0m \u001b[32m━━━━━━━━━━━━━━━━━━━━\u001b[0m\u001b[37m\u001b[0m \u001b[1m0s\u001b[0m 15ms/step - loss: 2447.0137 - mean_absolute_error: 34.9996 - mean_squared_error: 2447.0137 - val_loss: 6674.4116 - val_mean_absolute_error: 72.1964 - val_mean_squared_error: 6674.4116\n",
            "Epoch 255/300\n",
            "\u001b[1m5/5\u001b[0m \u001b[32m━━━━━━━━━━━━━━━━━━━━\u001b[0m\u001b[37m\u001b[0m \u001b[1m0s\u001b[0m 20ms/step - loss: 4237.3584 - mean_absolute_error: 47.0166 - mean_squared_error: 4237.3584 - val_loss: 6710.0811 - val_mean_absolute_error: 72.5354 - val_mean_squared_error: 6710.0811\n",
            "Epoch 256/300\n",
            "\u001b[1m5/5\u001b[0m \u001b[32m━━━━━━━━━━━━━━━━━━━━\u001b[0m\u001b[37m\u001b[0m \u001b[1m0s\u001b[0m 19ms/step - loss: 2599.9126 - mean_absolute_error: 34.7380 - mean_squared_error: 2599.9126 - val_loss: 6741.6460 - val_mean_absolute_error: 72.8041 - val_mean_squared_error: 6741.6460\n",
            "Epoch 257/300\n",
            "\u001b[1m5/5\u001b[0m \u001b[32m━━━━━━━━━━━━━━━━━━━━\u001b[0m\u001b[37m\u001b[0m \u001b[1m0s\u001b[0m 19ms/step - loss: 4073.1511 - mean_absolute_error: 46.3727 - mean_squared_error: 4073.1511 - val_loss: 6758.2007 - val_mean_absolute_error: 72.9943 - val_mean_squared_error: 6758.2007\n",
            "Epoch 258/300\n",
            "\u001b[1m5/5\u001b[0m \u001b[32m━━━━━━━━━━━━━━━━━━━━\u001b[0m\u001b[37m\u001b[0m \u001b[1m0s\u001b[0m 20ms/step - loss: 3965.7114 - mean_absolute_error: 44.6669 - mean_squared_error: 3965.7114 - val_loss: 6736.8423 - val_mean_absolute_error: 72.8651 - val_mean_squared_error: 6736.8423\n",
            "Epoch 259/300\n",
            "\u001b[1m5/5\u001b[0m \u001b[32m━━━━━━━━━━━━━━━━━━━━\u001b[0m\u001b[37m\u001b[0m \u001b[1m0s\u001b[0m 17ms/step - loss: 2824.6262 - mean_absolute_error: 40.0010 - mean_squared_error: 2824.6262 - val_loss: 6608.1602 - val_mean_absolute_error: 71.9701 - val_mean_squared_error: 6608.1602\n",
            "Epoch 260/300\n",
            "\u001b[1m5/5\u001b[0m \u001b[32m━━━━━━━━━━━━━━━━━━━━\u001b[0m\u001b[37m\u001b[0m \u001b[1m0s\u001b[0m 17ms/step - loss: 2657.1770 - mean_absolute_error: 37.8196 - mean_squared_error: 2657.1770 - val_loss: 6481.8672 - val_mean_absolute_error: 70.9566 - val_mean_squared_error: 6481.8672\n",
            "Epoch 261/300\n",
            "\u001b[1m5/5\u001b[0m \u001b[32m━━━━━━━━━━━━━━━━━━━━\u001b[0m\u001b[37m\u001b[0m \u001b[1m0s\u001b[0m 18ms/step - loss: 2739.7466 - mean_absolute_error: 36.8948 - mean_squared_error: 2739.7466 - val_loss: 6490.9492 - val_mean_absolute_error: 71.0519 - val_mean_squared_error: 6490.9492\n",
            "Epoch 262/300\n",
            "\u001b[1m5/5\u001b[0m \u001b[32m━━━━━━━━━━━━━━━━━━━━\u001b[0m\u001b[37m\u001b[0m \u001b[1m0s\u001b[0m 16ms/step - loss: 3523.4346 - mean_absolute_error: 40.1379 - mean_squared_error: 3523.4346 - val_loss: 6521.5205 - val_mean_absolute_error: 71.3664 - val_mean_squared_error: 6521.5205\n",
            "Epoch 263/300\n",
            "\u001b[1m5/5\u001b[0m \u001b[32m━━━━━━━━━━━━━━━━━━━━\u001b[0m\u001b[37m\u001b[0m \u001b[1m0s\u001b[0m 15ms/step - loss: 3061.0127 - mean_absolute_error: 39.9649 - mean_squared_error: 3061.0127 - val_loss: 6506.0283 - val_mean_absolute_error: 71.3244 - val_mean_squared_error: 6506.0283\n",
            "Epoch 264/300\n",
            "\u001b[1m5/5\u001b[0m \u001b[32m━━━━━━━━━━━━━━━━━━━━\u001b[0m\u001b[37m\u001b[0m \u001b[1m0s\u001b[0m 15ms/step - loss: 2566.0715 - mean_absolute_error: 35.5772 - mean_squared_error: 2566.0715 - val_loss: 6554.3374 - val_mean_absolute_error: 71.8015 - val_mean_squared_error: 6554.3374\n",
            "Epoch 265/300\n",
            "\u001b[1m5/5\u001b[0m \u001b[32m━━━━━━━━━━━━━━━━━━━━\u001b[0m\u001b[37m\u001b[0m \u001b[1m0s\u001b[0m 19ms/step - loss: 2611.8828 - mean_absolute_error: 37.8540 - mean_squared_error: 2611.8828 - val_loss: 6575.5615 - val_mean_absolute_error: 72.0414 - val_mean_squared_error: 6575.5615\n",
            "Epoch 266/300\n",
            "\u001b[1m5/5\u001b[0m \u001b[32m━━━━━━━━━━━━━━━━━━━━\u001b[0m\u001b[37m\u001b[0m \u001b[1m0s\u001b[0m 14ms/step - loss: 2084.4592 - mean_absolute_error: 33.7785 - mean_squared_error: 2084.4592 - val_loss: 6600.4189 - val_mean_absolute_error: 72.3190 - val_mean_squared_error: 6600.4189\n",
            "Epoch 267/300\n",
            "\u001b[1m5/5\u001b[0m \u001b[32m━━━━━━━━━━━━━━━━━━━━\u001b[0m\u001b[37m\u001b[0m \u001b[1m0s\u001b[0m 10ms/step - loss: 1980.9810 - mean_absolute_error: 32.3040 - mean_squared_error: 1980.9810 - val_loss: 6623.5576 - val_mean_absolute_error: 72.5137 - val_mean_squared_error: 6623.5576\n",
            "Epoch 268/300\n",
            "\u001b[1m5/5\u001b[0m \u001b[32m━━━━━━━━━━━━━━━━━━━━\u001b[0m\u001b[37m\u001b[0m \u001b[1m0s\u001b[0m 10ms/step - loss: 1906.2389 - mean_absolute_error: 32.1971 - mean_squared_error: 1906.2389 - val_loss: 6558.6938 - val_mean_absolute_error: 72.0424 - val_mean_squared_error: 6558.6938\n",
            "Epoch 269/300\n",
            "\u001b[1m5/5\u001b[0m \u001b[32m━━━━━━━━━━━━━━━━━━━━\u001b[0m\u001b[37m\u001b[0m \u001b[1m0s\u001b[0m 11ms/step - loss: 3575.9265 - mean_absolute_error: 39.7083 - mean_squared_error: 3575.9265 - val_loss: 6641.9937 - val_mean_absolute_error: 72.7436 - val_mean_squared_error: 6641.9937\n",
            "Epoch 270/300\n",
            "\u001b[1m5/5\u001b[0m \u001b[32m━━━━━━━━━━━━━━━━━━━━\u001b[0m\u001b[37m\u001b[0m \u001b[1m0s\u001b[0m 18ms/step - loss: 3787.5078 - mean_absolute_error: 43.6688 - mean_squared_error: 3787.5078 - val_loss: 6587.4609 - val_mean_absolute_error: 72.3617 - val_mean_squared_error: 6587.4609\n",
            "Epoch 271/300\n",
            "\u001b[1m5/5\u001b[0m \u001b[32m━━━━━━━━━━━━━━━━━━━━\u001b[0m\u001b[37m\u001b[0m \u001b[1m0s\u001b[0m 15ms/step - loss: 2606.2725 - mean_absolute_error: 39.2332 - mean_squared_error: 2606.2725 - val_loss: 6424.8970 - val_mean_absolute_error: 71.2174 - val_mean_squared_error: 6424.8970\n",
            "Epoch 272/300\n",
            "\u001b[1m5/5\u001b[0m \u001b[32m━━━━━━━━━━━━━━━━━━━━\u001b[0m\u001b[37m\u001b[0m \u001b[1m0s\u001b[0m 12ms/step - loss: 3153.0242 - mean_absolute_error: 42.2101 - mean_squared_error: 3153.0242 - val_loss: 6415.5801 - val_mean_absolute_error: 71.1382 - val_mean_squared_error: 6415.5801\n",
            "Epoch 273/300\n",
            "\u001b[1m5/5\u001b[0m \u001b[32m━━━━━━━━━━━━━━━━━━━━\u001b[0m\u001b[37m\u001b[0m \u001b[1m0s\u001b[0m 14ms/step - loss: 3976.7466 - mean_absolute_error: 45.0542 - mean_squared_error: 3976.7466 - val_loss: 6466.0996 - val_mean_absolute_error: 71.6096 - val_mean_squared_error: 6466.0996\n",
            "Epoch 274/300\n",
            "\u001b[1m5/5\u001b[0m \u001b[32m━━━━━━━━━━━━━━━━━━━━\u001b[0m\u001b[37m\u001b[0m \u001b[1m0s\u001b[0m 11ms/step - loss: 2348.4260 - mean_absolute_error: 36.1444 - mean_squared_error: 2348.4260 - val_loss: 6387.2041 - val_mean_absolute_error: 71.0911 - val_mean_squared_error: 6387.2041\n",
            "Epoch 275/300\n",
            "\u001b[1m5/5\u001b[0m \u001b[32m━━━━━━━━━━━━━━━━━━━━\u001b[0m\u001b[37m\u001b[0m \u001b[1m0s\u001b[0m 15ms/step - loss: 2555.1221 - mean_absolute_error: 34.0924 - mean_squared_error: 2555.1221 - val_loss: 6388.4390 - val_mean_absolute_error: 71.1827 - val_mean_squared_error: 6388.4390\n",
            "Epoch 276/300\n",
            "\u001b[1m5/5\u001b[0m \u001b[32m━━━━━━━━━━━━━━━━━━━━\u001b[0m\u001b[37m\u001b[0m \u001b[1m0s\u001b[0m 17ms/step - loss: 2305.5750 - mean_absolute_error: 37.4214 - mean_squared_error: 2305.5750 - val_loss: 6416.4209 - val_mean_absolute_error: 71.3930 - val_mean_squared_error: 6416.4209\n",
            "Epoch 277/300\n",
            "\u001b[1m5/5\u001b[0m \u001b[32m━━━━━━━━━━━━━━━━━━━━\u001b[0m\u001b[37m\u001b[0m \u001b[1m0s\u001b[0m 15ms/step - loss: 2117.7278 - mean_absolute_error: 32.6972 - mean_squared_error: 2117.7278 - val_loss: 6424.6924 - val_mean_absolute_error: 71.4662 - val_mean_squared_error: 6424.6924\n",
            "Epoch 278/300\n",
            "\u001b[1m5/5\u001b[0m \u001b[32m━━━━━━━━━━━━━━━━━━━━\u001b[0m\u001b[37m\u001b[0m \u001b[1m0s\u001b[0m 9ms/step - loss: 3411.6836 - mean_absolute_error: 44.6021 - mean_squared_error: 3411.6836 - val_loss: 6414.6963 - val_mean_absolute_error: 71.4502 - val_mean_squared_error: 6414.6963\n",
            "Epoch 279/300\n",
            "\u001b[1m5/5\u001b[0m \u001b[32m━━━━━━━━━━━━━━━━━━━━\u001b[0m\u001b[37m\u001b[0m \u001b[1m0s\u001b[0m 10ms/step - loss: 3540.0073 - mean_absolute_error: 40.9053 - mean_squared_error: 3540.0073 - val_loss: 6525.4570 - val_mean_absolute_error: 72.3056 - val_mean_squared_error: 6525.4570\n",
            "Epoch 280/300\n",
            "\u001b[1m5/5\u001b[0m \u001b[32m━━━━━━━━━━━━━━━━━━━━\u001b[0m\u001b[37m\u001b[0m \u001b[1m0s\u001b[0m 12ms/step - loss: 3059.0356 - mean_absolute_error: 40.2331 - mean_squared_error: 3059.0356 - val_loss: 6398.9863 - val_mean_absolute_error: 71.3354 - val_mean_squared_error: 6398.9863\n",
            "Epoch 281/300\n",
            "\u001b[1m5/5\u001b[0m \u001b[32m━━━━━━━━━━━━━━━━━━━━\u001b[0m\u001b[37m\u001b[0m \u001b[1m0s\u001b[0m 11ms/step - loss: 2407.5403 - mean_absolute_error: 33.7786 - mean_squared_error: 2407.5403 - val_loss: 6407.7593 - val_mean_absolute_error: 71.4270 - val_mean_squared_error: 6407.7593\n",
            "Epoch 282/300\n",
            "\u001b[1m5/5\u001b[0m \u001b[32m━━━━━━━━━━━━━━━━━━━━\u001b[0m\u001b[37m\u001b[0m \u001b[1m0s\u001b[0m 15ms/step - loss: 2604.6362 - mean_absolute_error: 35.4015 - mean_squared_error: 2604.6362 - val_loss: 6310.5244 - val_mean_absolute_error: 70.6606 - val_mean_squared_error: 6310.5244\n",
            "Epoch 283/300\n",
            "\u001b[1m5/5\u001b[0m \u001b[32m━━━━━━━━━━━━━━━━━━━━\u001b[0m\u001b[37m\u001b[0m \u001b[1m0s\u001b[0m 10ms/step - loss: 2121.2605 - mean_absolute_error: 34.6175 - mean_squared_error: 2121.2605 - val_loss: 6340.4170 - val_mean_absolute_error: 70.9745 - val_mean_squared_error: 6340.4170\n",
            "Epoch 284/300\n",
            "\u001b[1m5/5\u001b[0m \u001b[32m━━━━━━━━━━━━━━━━━━━━\u001b[0m\u001b[37m\u001b[0m \u001b[1m0s\u001b[0m 10ms/step - loss: 2239.9070 - mean_absolute_error: 34.4938 - mean_squared_error: 2239.9070 - val_loss: 6367.8257 - val_mean_absolute_error: 71.2051 - val_mean_squared_error: 6367.8257\n",
            "Epoch 285/300\n",
            "\u001b[1m5/5\u001b[0m \u001b[32m━━━━━━━━━━━━━━━━━━━━\u001b[0m\u001b[37m\u001b[0m \u001b[1m0s\u001b[0m 16ms/step - loss: 2849.5688 - mean_absolute_error: 38.3593 - mean_squared_error: 2849.5688 - val_loss: 6407.5132 - val_mean_absolute_error: 71.5194 - val_mean_squared_error: 6407.5132\n",
            "Epoch 286/300\n",
            "\u001b[1m5/5\u001b[0m \u001b[32m━━━━━━━━━━━━━━━━━━━━\u001b[0m\u001b[37m\u001b[0m \u001b[1m0s\u001b[0m 14ms/step - loss: 2749.7161 - mean_absolute_error: 40.2319 - mean_squared_error: 2749.7161 - val_loss: 6328.0132 - val_mean_absolute_error: 70.8712 - val_mean_squared_error: 6328.0132\n",
            "Epoch 287/300\n",
            "\u001b[1m5/5\u001b[0m \u001b[32m━━━━━━━━━━━━━━━━━━━━\u001b[0m\u001b[37m\u001b[0m \u001b[1m0s\u001b[0m 9ms/step - loss: 2920.9854 - mean_absolute_error: 38.5656 - mean_squared_error: 2920.9854 - val_loss: 6415.6909 - val_mean_absolute_error: 71.7065 - val_mean_squared_error: 6415.6909\n",
            "Epoch 288/300\n",
            "\u001b[1m5/5\u001b[0m \u001b[32m━━━━━━━━━━━━━━━━━━━━\u001b[0m\u001b[37m\u001b[0m \u001b[1m0s\u001b[0m 15ms/step - loss: 2246.4600 - mean_absolute_error: 36.6640 - mean_squared_error: 2246.4600 - val_loss: 6307.9575 - val_mean_absolute_error: 70.8594 - val_mean_squared_error: 6307.9575\n",
            "Epoch 289/300\n",
            "\u001b[1m5/5\u001b[0m \u001b[32m━━━━━━━━━━━━━━━━━━━━\u001b[0m\u001b[37m\u001b[0m \u001b[1m0s\u001b[0m 10ms/step - loss: 3483.3315 - mean_absolute_error: 40.9715 - mean_squared_error: 3483.3315 - val_loss: 6362.0029 - val_mean_absolute_error: 71.2817 - val_mean_squared_error: 6362.0029\n",
            "Epoch 290/300\n",
            "\u001b[1m5/5\u001b[0m \u001b[32m━━━━━━━━━━━━━━━━━━━━\u001b[0m\u001b[37m\u001b[0m \u001b[1m0s\u001b[0m 15ms/step - loss: 2243.9023 - mean_absolute_error: 36.0712 - mean_squared_error: 2243.9023 - val_loss: 6467.2393 - val_mean_absolute_error: 72.2241 - val_mean_squared_error: 6467.2393\n",
            "Epoch 291/300\n",
            "\u001b[1m5/5\u001b[0m \u001b[32m━━━━━━━━━━━━━━━━━━━━\u001b[0m\u001b[37m\u001b[0m \u001b[1m0s\u001b[0m 9ms/step - loss: 3593.0642 - mean_absolute_error: 42.6290 - mean_squared_error: 3593.0642 - val_loss: 6535.7642 - val_mean_absolute_error: 72.7123 - val_mean_squared_error: 6535.7642\n",
            "Epoch 292/300\n",
            "\u001b[1m5/5\u001b[0m \u001b[32m━━━━━━━━━━━━━━━━━━━━\u001b[0m\u001b[37m\u001b[0m \u001b[1m0s\u001b[0m 10ms/step - loss: 2242.8062 - mean_absolute_error: 35.8660 - mean_squared_error: 2242.8062 - val_loss: 6420.8203 - val_mean_absolute_error: 71.8566 - val_mean_squared_error: 6420.8203\n",
            "Epoch 293/300\n",
            "\u001b[1m5/5\u001b[0m \u001b[32m━━━━━━━━━━━━━━━━━━━━\u001b[0m\u001b[37m\u001b[0m \u001b[1m0s\u001b[0m 10ms/step - loss: 2610.8643 - mean_absolute_error: 36.4403 - mean_squared_error: 2610.8643 - val_loss: 6362.0869 - val_mean_absolute_error: 71.4165 - val_mean_squared_error: 6362.0869\n",
            "Epoch 294/300\n",
            "\u001b[1m5/5\u001b[0m \u001b[32m━━━━━━━━━━━━━━━━━━━━\u001b[0m\u001b[37m\u001b[0m \u001b[1m0s\u001b[0m 17ms/step - loss: 3343.1050 - mean_absolute_error: 40.0263 - mean_squared_error: 3343.1050 - val_loss: 6322.0078 - val_mean_absolute_error: 71.1364 - val_mean_squared_error: 6322.0078\n",
            "Epoch 295/300\n",
            "\u001b[1m5/5\u001b[0m \u001b[32m━━━━━━━━━━━━━━━━━━━━\u001b[0m\u001b[37m\u001b[0m \u001b[1m0s\u001b[0m 11ms/step - loss: 3597.7954 - mean_absolute_error: 41.9746 - mean_squared_error: 3597.7954 - val_loss: 6267.3994 - val_mean_absolute_error: 70.7471 - val_mean_squared_error: 6267.3994\n",
            "Epoch 296/300\n",
            "\u001b[1m5/5\u001b[0m \u001b[32m━━━━━━━━━━━━━━━━━━━━\u001b[0m\u001b[37m\u001b[0m \u001b[1m0s\u001b[0m 10ms/step - loss: 2430.0696 - mean_absolute_error: 35.3347 - mean_squared_error: 2430.0696 - val_loss: 6127.1807 - val_mean_absolute_error: 69.5674 - val_mean_squared_error: 6127.1807\n",
            "Epoch 297/300\n",
            "\u001b[1m5/5\u001b[0m \u001b[32m━━━━━━━━━━━━━━━━━━━━\u001b[0m\u001b[37m\u001b[0m \u001b[1m0s\u001b[0m 10ms/step - loss: 2615.0925 - mean_absolute_error: 35.8567 - mean_squared_error: 2615.0925 - val_loss: 6093.0234 - val_mean_absolute_error: 69.2713 - val_mean_squared_error: 6093.0234\n",
            "Epoch 298/300\n",
            "\u001b[1m5/5\u001b[0m \u001b[32m━━━━━━━━━━━━━━━━━━━━\u001b[0m\u001b[37m\u001b[0m \u001b[1m0s\u001b[0m 13ms/step - loss: 3726.0710 - mean_absolute_error: 42.6551 - mean_squared_error: 3726.0710 - val_loss: 6238.3223 - val_mean_absolute_error: 70.5819 - val_mean_squared_error: 6238.3223\n",
            "Epoch 299/300\n",
            "\u001b[1m5/5\u001b[0m \u001b[32m━━━━━━━━━━━━━━━━━━━━\u001b[0m\u001b[37m\u001b[0m \u001b[1m0s\u001b[0m 12ms/step - loss: 2062.2126 - mean_absolute_error: 31.5105 - mean_squared_error: 2062.2126 - val_loss: 6218.0586 - val_mean_absolute_error: 70.4927 - val_mean_squared_error: 6218.0586\n",
            "Epoch 300/300\n",
            "\u001b[1m5/5\u001b[0m \u001b[32m━━━━━━━━━━━━━━━━━━━━\u001b[0m\u001b[37m\u001b[0m \u001b[1m0s\u001b[0m 14ms/step - loss: 3246.3547 - mean_absolute_error: 37.8844 - mean_squared_error: 3246.3547 - val_loss: 6318.2285 - val_mean_absolute_error: 71.4245 - val_mean_squared_error: 6318.2285\n",
            "Restoring model weights from the end of the best epoch: 297.\n"
          ]
        }
      ],
      "source": [
        "history = model.fit(X_train, y_train,\n",
        "                    validation_data=(X_test, y_test),\n",
        "                    epochs=300,\n",
        "                    batch_size=8,\n",
        "                    verbose=1,\n",
        "                    callbacks=[es])"
      ]
    },
    {
      "cell_type": "code",
      "execution_count": 31,
      "metadata": {
        "colab": {
          "base_uri": "https://localhost:8080/"
        },
        "id": "HR1zyoZixa2e",
        "outputId": "89b56c50-164a-44b5-9b12-e39fb4c9f20c"
      },
      "outputs": [
        {
          "name": "stdout",
          "output_type": "stream",
          "text": [
            "\u001b[1m1/1\u001b[0m \u001b[32m━━━━━━━━━━━━━━━━━━━━\u001b[0m\u001b[37m\u001b[0m \u001b[1m0s\u001b[0m 97ms/step\n",
            "Root Mean Squared Error: 78.0578171679558\n"
          ]
        }
      ],
      "source": [
        "y_pred = model.predict(X_test)\n",
        "mse = mean_squared_error(y_test, y_pred)\n",
        "rmse = sqrt(mse)\n",
        "print(f\"Root Mean Squared Error: {rmse}\")"
      ]
    },
    {
      "cell_type": "code",
      "execution_count": 46,
      "metadata": {
        "colab": {
          "base_uri": "https://localhost:8080/",
          "height": 406
        },
        "id": "NPL0oWm3yEY2",
        "outputId": "bb044f93-1ec9-4eff-a456-4d5ca3481e1e"
      },
      "outputs": [
        {
          "data": {
            "text/plain": [
              "<matplotlib.legend.Legend at 0x79041e62f0d0>"
            ]
          },
          "execution_count": 46,
          "metadata": {},
          "output_type": "execute_result"
        },
        {
          "data": {
            "image/png": "[encoded data removed]",
            "text/plain": [
              "<Figure size 1200x400 with 1 Axes>"
            ]
          },
          "metadata": {},
          "output_type": "display_data"
        }
      ],
      "source": [
        "plt.figure(figsize=(12, 4))\n",
        "\n",
        "plt.subplot(1, 2, 1)\n",
        "plt.plot(history.history['loss'], label='train')\n",
        "plt.plot(history.history['val_loss'], label='test')\n",
        "plt.xlabel('Epoch')\n",
        "plt.ylabel('Loss')\n",
        "plt.legend()"
      ]
    },
    {
      "cell_type": "code",
      "execution_count": 50,
      "metadata": {
        "colab": {
          "base_uri": "https://localhost:8080/",
          "height": 473
        },
        "id": "guriIVlqyEVN",
        "outputId": "360d589c-095c-4218-c682-03773ea53187"
      },
      "outputs": [
        {
          "data": {
            "text/plain": [
              "[<matplotlib.lines.Line2D at 0x79042237e590>]"
            ]
          },
          "execution_count": 50,
          "metadata": {},
          "output_type": "execute_result"
        },
        {
          "data": {
            "image/png": "[encoded data removed]",
            "text/plain": [
              "<Figure size 640x480 with 1 Axes>"
            ]
          },
          "metadata": {},
          "output_type": "display_data"
        }
      ],
      "source": [
        "plt.subplot(1, 2, 2)\n",
        "plt.scatter(y_test, y_pred.flatten())\n",
        "plt.xlabel('Valores reales')\n",
        "plt.ylabel('Predicciones')\n",
        "lims = [0, 1000]\n",
        "plt.xlim(lims)\n",
        "plt.ylim(lims)\n",
        "plt.plot(lims, lims, 'r--')"
      ]
    },
    {
      "cell_type": "code",
      "execution_count": 48,
      "metadata": {
        "colab": {
          "base_uri": "https://localhost:8080/"
        },
        "id": "mnUJDFxEyEQ4",
        "outputId": "5ad55441-970d-45ef-f171-7cea2b875347"
      },
      "outputs": [
        {
          "name": "stderr",
          "output_type": "stream",
          "text": [
            "/usr/local/lib/python3.10/dist-packages/sklearn/base.py:493: UserWarning: X does not have valid feature names, but StandardScaler was fitted with feature names\n",
            "  warnings.warn(\n"
          ]
        },
        {
          "name": "stdout",
          "output_type": "stream",
          "text": [
            "\u001b[1m1/1\u001b[0m \u001b[32m━━━━━━━━━━━━━━━━━━━━\u001b[0m\u001b[37m\u001b[0m \u001b[1m0s\u001b[0m 103ms/step\n",
            "Predicción:  [[595.7535]]\n"
          ]
        }
      ],
      "source": [
        "new_value = [8.0, 3448, 5399, 0.5]\n",
        "new_value = sc.transform([new_value])\n",
        "prediction = model.predict(new_value)\n",
        "print('Predicción: ', prediction)"
      ]
    },
    {
      "cell_type": "code",
      "execution_count": 45,
      "metadata": {
        "colab": {
          "base_uri": "https://localhost:8080/"
        },
        "id": "ipt2leqEyEKF",
        "outputId": "3d912346-cc1f-4655-8806-f5b4510a1f2d"
      },
      "outputs": [
        {
          "name": "stdout",
          "output_type": "stream",
          "text": [
            "R-squared Score: -0.039864301681518555\n"
          ]
        }
      ],
      "source": [
        "r2 = r2_score(y_test, y_pred)\n",
        "print(f\"R-squared Score: {r2}\")"
      ]
    }
  ],
  "metadata": {
    "colab": {
      "provenance": []
    },
    "kernelspec": {
      "display_name": "Python 3 (ipykernel)",
      "language": "python",
      "name": "python3"
    },
    "language_info": {
      "codemirror_mode": {
        "name": "ipython",
        "version": 3
      },
      "file_extension": ".py",
      "mimetype": "text/x-python",
      "name": "python",
      "nbconvert_exporter": "python",
      "pygments_lexer": "ipython3",
      "version": "3.11.5"
    }
  },
  "nbformat": 4,
  "nbformat_minor": 0
}
